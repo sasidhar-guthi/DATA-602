{
 "cells": [
  {
   "cell_type": "markdown",
   "id": "d7bb623b",
   "metadata": {},
   "source": [
    "# Problem Statement\n",
    "Developing a Multi class classifier to predict the damage caused to a vehicle by understanding the Vehicle crash data of Maryland state\n",
    "\n",
    "## Data Information:\n",
    "\n",
    "This is a Crash data for Maryland from January 2015 through December 2021. Each row represents the details of a crashed vehicle. The following is the link to the data set and the details the dataset provides us:\n",
    "\n",
    "### Link: https://opendata.maryland.gov/resource/mhft-5t5y.csv\n",
    "\n",
    "    Column Name\t                Description\t\n",
    "    HARM_EVENT_DESC\t            Description of the vehicle that the harm occured to\n",
    "    HARM_EVENT_CODE\t            Code of the Harm Event\n",
    "    CONTI_DIRECTION_DESC\t    Direction in which the vehicle continued\n",
    "    CONTI_DIRECTION_CODE\t    Code of Direction\n",
    "    DAMAGE_DESC\t                Damage impact of the vehicle \n",
    "    DAMAGE_CODE\t                Code of the damage impact\n",
    "    MOVEMENT_DESC\t            Description of the Movement\n",
    "    MOVEMENT_CODE\t            Code of the Movement\n",
    "    VIN_NO\t                    Vehicle VIN Number\n",
    "    REPORT_NO\t                Report Number\n",
    "    CV_BODY_TYPE_DESC\t        Description of the Body Type of the Vehicle\n",
    "    CV_BODY_TYPE_CODE\t        Code of the Body Type\n",
    "    VEH_YEAR\t                Vehicle Registered Year \n",
    "    VEH_MAKE\t                Make of the Vehicle\n",
    "    VEH_MODEL\t                Model of the Vehicle\n",
    "    COMMERCIAL_FLAG_DESC\t    Flag for a Commercial Vehicle\n",
    "    COMMERCIAL_FLAG\t            Flag code for a Commercial Vehicle\n",
    "    HZM_NUM\t                    \n",
    "    TOWED_AWAY_FLAG_DESC\t    Flag if the vehicle is Towed Away\n",
    "    TOWED_AWAY_FLAG\t            Code of Flag for Towed Away\n",
    "    NUM_AXLES\t                Number of Axles\n",
    "    GVW_DESC\t                Description of the Weight of Vehicle\n",
    "    GVW_CODE\t                Code for the Weight of Vehicle\n",
    "    GOING_DIRECTION_DESC\t    Description of the Direction the vehicle is moving \n",
    "    GOING_DIRECTION_CODE\t    Code for the direction the Vehicle is moving\n",
    "    BODY_TYPE_DESC\t            Description of Body Type\n",
    "    BODY_TYPE_CODE\t            Code for the Body type\n",
    "    DRIVERLESS_FLAG_DESC\t    Flag for a Driverless car\n",
    "    DRIVERLESS_FLAG\t            Code for the Flag of Driverless car\n",
    "    FIRE_FLAG_DESC\t            Flag for a Fire\n",
    "    FIRE_FLAG\t                Code for the Flag for Fire\n",
    "    PARKED_FLAG_DESC\t        Flag for a Parked Vehicle\n",
    "    PARKED_FLAG\t                Code for the flag of a parked vehicle\n",
    "    SPEED_LIMIT\t                Speed Limit of the road\n",
    "    HIT_AND_RUN_FLAG_DESC\t    Flag for a Hit and Run\n",
    "    HIT_AND_RUN_FLAG\t        Code for Flag of a Hit and Run\n",
    "    HAZMAT_SPILL_FLAG_DESC\t    \n",
    "    HAZMAT_SPILL_FLAG\t\n",
    "    VEHICLE_ID\t                Id of the Vehicle\n",
    "    TOWED_VEHICLE_CONFIG_DESC\tDescription of the Towing vehicle\n",
    "    TOWED_VEHICLE_CONFIG_CODE\tCode of the Towing vehicle\n",
    "    AREA_DAMAGED_CODE_IMP1\t    \n",
    "    AREA_DAMAGED_CODE1\t\n",
    "    AREA_DAMAGED_CODE2\t\n",
    "    AREA_DAMAGED_CODE3\t\n",
    "    AREA_DAMAGED_CODE_MAIN_DESC\tDescription of the area of impact for the Vehicle      \n",
    "    AREA_DAMAGED_CODE_MAIN\t\n",
    "    YEAR\t                    Year the Crash occurred   \n",
    "    Quarter\t                    Quarter of the Year\n"
   ]
  },
  {
   "cell_type": "markdown",
   "id": "5534dc13",
   "metadata": {},
   "source": [
    "### Importing Libraries"
   ]
  },
  {
   "cell_type": "code",
   "execution_count": 12,
   "id": "f2db4cde",
   "metadata": {},
   "outputs": [],
   "source": [
    "import pandas as pd\n",
    "import matplotlib.pyplot as plt\n",
    "import seaborn as sns\n",
    "import warnings\n",
    "warnings.filterwarnings('ignore')\n",
    "%matplotlib inline"
   ]
  },
  {
   "cell_type": "code",
   "execution_count": 2,
   "id": "9f9d430c",
   "metadata": {},
   "outputs": [],
   "source": [
    "# Imprting Data into a Data Frame from a CSV file\n",
    "df=pd.read_csv('Maryland_Statewide_Vehicle_Crashes_-_Vehicle_Details.csv')"
   ]
  },
  {
   "cell_type": "code",
   "execution_count": 3,
   "id": "a2809bf9",
   "metadata": {},
   "outputs": [
    {
     "data": {
      "text/html": [
       "<div>\n",
       "<style scoped>\n",
       "    .dataframe tbody tr th:only-of-type {\n",
       "        vertical-align: middle;\n",
       "    }\n",
       "\n",
       "    .dataframe tbody tr th {\n",
       "        vertical-align: top;\n",
       "    }\n",
       "\n",
       "    .dataframe thead th {\n",
       "        text-align: right;\n",
       "    }\n",
       "</style>\n",
       "<table border=\"1\" class=\"dataframe\">\n",
       "  <thead>\n",
       "    <tr style=\"text-align: right;\">\n",
       "      <th></th>\n",
       "      <th>HARM_EVENT_DESC</th>\n",
       "      <th>HARM_EVENT_CODE</th>\n",
       "      <th>CONTI_DIRECTION_DESC</th>\n",
       "      <th>CONTI_DIRECTION_CODE</th>\n",
       "      <th>DAMAGE_DESC</th>\n",
       "      <th>DAMAGE_CODE</th>\n",
       "      <th>MOVEMENT_DESC</th>\n",
       "      <th>MOVEMENT_CODE</th>\n",
       "      <th>VIN_NO</th>\n",
       "      <th>REPORT_NO</th>\n",
       "      <th>...</th>\n",
       "      <th>TOWED_VEHICLE_CONFIG_DESC</th>\n",
       "      <th>TOWED_VEHICLE_CONFIG_CODE</th>\n",
       "      <th>AREA_DAMAGED_CODE_IMP1</th>\n",
       "      <th>AREA_DAMAGED_CODE1</th>\n",
       "      <th>AREA_DAMAGED_CODE2</th>\n",
       "      <th>AREA_DAMAGED_CODE3</th>\n",
       "      <th>AREA_DAMAGED_CODE_MAIN_DESC</th>\n",
       "      <th>AREA_DAMAGED_CODE_MAIN</th>\n",
       "      <th>YEAR</th>\n",
       "      <th>Quarter</th>\n",
       "    </tr>\n",
       "  </thead>\n",
       "  <tbody>\n",
       "    <tr>\n",
       "      <th>0</th>\n",
       "      <td>Other Vehicle</td>\n",
       "      <td>1.0</td>\n",
       "      <td>North</td>\n",
       "      <td>N</td>\n",
       "      <td>Unknown</td>\n",
       "      <td>99</td>\n",
       "      <td>Unknown</td>\n",
       "      <td>99.0</td>\n",
       "      <td>NaN</td>\n",
       "      <td>AE5057004X</td>\n",
       "      <td>...</td>\n",
       "      <td>Unknown</td>\n",
       "      <td>99</td>\n",
       "      <td>11.0</td>\n",
       "      <td>10.0</td>\n",
       "      <td>11.0</td>\n",
       "      <td>12.0</td>\n",
       "      <td>Eleven o'clock</td>\n",
       "      <td>11.0</td>\n",
       "      <td>2020</td>\n",
       "      <td>Q2</td>\n",
       "    </tr>\n",
       "    <tr>\n",
       "      <th>1</th>\n",
       "      <td>Other Vehicle</td>\n",
       "      <td>1.0</td>\n",
       "      <td>North</td>\n",
       "      <td>N</td>\n",
       "      <td>Superficial</td>\n",
       "      <td>2</td>\n",
       "      <td>Moving Constant Speed</td>\n",
       "      <td>1.0</td>\n",
       "      <td>NMTKHMBX0JR025092</td>\n",
       "      <td>MSP7221001P</td>\n",
       "      <td>...</td>\n",
       "      <td>Not Applicable</td>\n",
       "      <td>0</td>\n",
       "      <td>12.0</td>\n",
       "      <td>6.0</td>\n",
       "      <td>12.0</td>\n",
       "      <td>NaN</td>\n",
       "      <td>Twelve o'clock</td>\n",
       "      <td>12.0</td>\n",
       "      <td>2020</td>\n",
       "      <td>Q2</td>\n",
       "    </tr>\n",
       "    <tr>\n",
       "      <th>2</th>\n",
       "      <td>Other Vehicle</td>\n",
       "      <td>1.0</td>\n",
       "      <td>South</td>\n",
       "      <td>S</td>\n",
       "      <td>Functional</td>\n",
       "      <td>3</td>\n",
       "      <td>Stopped in Traffic Lane</td>\n",
       "      <td>6.0</td>\n",
       "      <td>2GNAXPEX5K6103012</td>\n",
       "      <td>DA37010040</td>\n",
       "      <td>...</td>\n",
       "      <td>Not Applicable</td>\n",
       "      <td>0</td>\n",
       "      <td>6.0</td>\n",
       "      <td>6.0</td>\n",
       "      <td>NaN</td>\n",
       "      <td>NaN</td>\n",
       "      <td>Six o'clock</td>\n",
       "      <td>6.0</td>\n",
       "      <td>2020</td>\n",
       "      <td>Q2</td>\n",
       "    </tr>\n",
       "    <tr>\n",
       "      <th>3</th>\n",
       "      <td>Fixed Object</td>\n",
       "      <td>9.0</td>\n",
       "      <td>Unknown</td>\n",
       "      <td>U</td>\n",
       "      <td>Unknown</td>\n",
       "      <td>99</td>\n",
       "      <td>Not Applicable</td>\n",
       "      <td>0.0</td>\n",
       "      <td>NaN</td>\n",
       "      <td>MDTA1791002C</td>\n",
       "      <td>...</td>\n",
       "      <td>Not Applicable</td>\n",
       "      <td>0</td>\n",
       "      <td>99.0</td>\n",
       "      <td>99.0</td>\n",
       "      <td>NaN</td>\n",
       "      <td>NaN</td>\n",
       "      <td>Unknown</td>\n",
       "      <td>99.0</td>\n",
       "      <td>2020</td>\n",
       "      <td>Q2</td>\n",
       "    </tr>\n",
       "    <tr>\n",
       "      <th>4</th>\n",
       "      <td>Other Vehicle</td>\n",
       "      <td>1.0</td>\n",
       "      <td>East</td>\n",
       "      <td>E</td>\n",
       "      <td>Disabling</td>\n",
       "      <td>4</td>\n",
       "      <td>Slowing or Stopping</td>\n",
       "      <td>3.0</td>\n",
       "      <td>5FNRL18672B048550</td>\n",
       "      <td>AE456100BL</td>\n",
       "      <td>...</td>\n",
       "      <td>Not Applicable</td>\n",
       "      <td>0</td>\n",
       "      <td>6.0</td>\n",
       "      <td>6.0</td>\n",
       "      <td>12.0</td>\n",
       "      <td>NaN</td>\n",
       "      <td>Six o'clock</td>\n",
       "      <td>6.0</td>\n",
       "      <td>2020</td>\n",
       "      <td>Q2</td>\n",
       "    </tr>\n",
       "  </tbody>\n",
       "</table>\n",
       "<p>5 rows × 49 columns</p>\n",
       "</div>"
      ],
      "text/plain": [
       "  HARM_EVENT_DESC  HARM_EVENT_CODE CONTI_DIRECTION_DESC CONTI_DIRECTION_CODE  \\\n",
       "0   Other Vehicle              1.0                North                    N   \n",
       "1   Other Vehicle              1.0                North                    N   \n",
       "2   Other Vehicle              1.0                South                    S   \n",
       "3    Fixed Object              9.0              Unknown                    U   \n",
       "4   Other Vehicle              1.0                 East                    E   \n",
       "\n",
       "   DAMAGE_DESC  DAMAGE_CODE            MOVEMENT_DESC  MOVEMENT_CODE  \\\n",
       "0      Unknown           99                  Unknown           99.0   \n",
       "1  Superficial            2    Moving Constant Speed            1.0   \n",
       "2   Functional            3  Stopped in Traffic Lane            6.0   \n",
       "3      Unknown           99           Not Applicable            0.0   \n",
       "4    Disabling            4      Slowing or Stopping            3.0   \n",
       "\n",
       "              VIN_NO     REPORT_NO  ... TOWED_VEHICLE_CONFIG_DESC  \\\n",
       "0                NaN    AE5057004X  ...                   Unknown   \n",
       "1  NMTKHMBX0JR025092   MSP7221001P  ...            Not Applicable   \n",
       "2  2GNAXPEX5K6103012    DA37010040  ...            Not Applicable   \n",
       "3                NaN  MDTA1791002C  ...            Not Applicable   \n",
       "4  5FNRL18672B048550    AE456100BL  ...            Not Applicable   \n",
       "\n",
       "   TOWED_VEHICLE_CONFIG_CODE  AREA_DAMAGED_CODE_IMP1 AREA_DAMAGED_CODE1  \\\n",
       "0                         99                    11.0               10.0   \n",
       "1                          0                    12.0                6.0   \n",
       "2                          0                     6.0                6.0   \n",
       "3                          0                    99.0               99.0   \n",
       "4                          0                     6.0                6.0   \n",
       "\n",
       "  AREA_DAMAGED_CODE2 AREA_DAMAGED_CODE3 AREA_DAMAGED_CODE_MAIN_DESC  \\\n",
       "0               11.0               12.0              Eleven o'clock   \n",
       "1               12.0                NaN              Twelve o'clock   \n",
       "2                NaN                NaN                 Six o'clock   \n",
       "3                NaN                NaN                     Unknown   \n",
       "4               12.0                NaN                 Six o'clock   \n",
       "\n",
       "  AREA_DAMAGED_CODE_MAIN  YEAR Quarter  \n",
       "0                   11.0  2020      Q2  \n",
       "1                   12.0  2020      Q2  \n",
       "2                    6.0  2020      Q2  \n",
       "3                   99.0  2020      Q2  \n",
       "4                    6.0  2020      Q2  \n",
       "\n",
       "[5 rows x 49 columns]"
      ]
     },
     "execution_count": 3,
     "metadata": {},
     "output_type": "execute_result"
    }
   ],
   "source": [
    "df.head()"
   ]
  },
  {
   "cell_type": "code",
   "execution_count": 4,
   "id": "51e53ac2",
   "metadata": {},
   "outputs": [
    {
     "data": {
      "text/plain": [
       "(1438808, 49)"
      ]
     },
     "execution_count": 4,
     "metadata": {},
     "output_type": "execute_result"
    }
   ],
   "source": [
    "df.shape"
   ]
  },
  {
   "cell_type": "markdown",
   "id": "5e1699f7",
   "metadata": {},
   "source": [
    "The Data Consists of 1,438,808 rows and 49 rows in total."
   ]
  },
  {
   "cell_type": "code",
   "execution_count": 5,
   "id": "0a213747",
   "metadata": {},
   "outputs": [
    {
     "data": {
      "text/html": [
       "<div>\n",
       "<style scoped>\n",
       "    .dataframe tbody tr th:only-of-type {\n",
       "        vertical-align: middle;\n",
       "    }\n",
       "\n",
       "    .dataframe tbody tr th {\n",
       "        vertical-align: top;\n",
       "    }\n",
       "\n",
       "    .dataframe thead th {\n",
       "        text-align: right;\n",
       "    }\n",
       "</style>\n",
       "<table border=\"1\" class=\"dataframe\">\n",
       "  <thead>\n",
       "    <tr style=\"text-align: right;\">\n",
       "      <th></th>\n",
       "      <th>HARM_EVENT_CODE</th>\n",
       "      <th>DAMAGE_CODE</th>\n",
       "      <th>MOVEMENT_CODE</th>\n",
       "      <th>CV_BODY_TYPE_CODE</th>\n",
       "      <th>VEH_YEAR</th>\n",
       "      <th>NUM_AXLES</th>\n",
       "      <th>GVW_CODE</th>\n",
       "      <th>BODY_TYPE_CODE</th>\n",
       "      <th>SPEED_LIMIT</th>\n",
       "      <th>TOWED_VEHICLE_CONFIG_CODE</th>\n",
       "      <th>AREA_DAMAGED_CODE_IMP1</th>\n",
       "      <th>AREA_DAMAGED_CODE1</th>\n",
       "      <th>AREA_DAMAGED_CODE2</th>\n",
       "      <th>AREA_DAMAGED_CODE3</th>\n",
       "      <th>AREA_DAMAGED_CODE_MAIN</th>\n",
       "      <th>YEAR</th>\n",
       "    </tr>\n",
       "  </thead>\n",
       "  <tbody>\n",
       "    <tr>\n",
       "      <th>count</th>\n",
       "      <td>1.438808e+06</td>\n",
       "      <td>1.438808e+06</td>\n",
       "      <td>1.438808e+06</td>\n",
       "      <td>58260.000000</td>\n",
       "      <td>1.368267e+06</td>\n",
       "      <td>58156.000000</td>\n",
       "      <td>58260.000000</td>\n",
       "      <td>1.384382e+06</td>\n",
       "      <td>1.438808e+06</td>\n",
       "      <td>1.438808e+06</td>\n",
       "      <td>1.427978e+06</td>\n",
       "      <td>1.377967e+06</td>\n",
       "      <td>782335.000000</td>\n",
       "      <td>512108.000000</td>\n",
       "      <td>1.423515e+06</td>\n",
       "      <td>1.438808e+06</td>\n",
       "    </tr>\n",
       "    <tr>\n",
       "      <th>mean</th>\n",
       "      <td>3.100420e+00</td>\n",
       "      <td>9.569909e+00</td>\n",
       "      <td>7.842272e+00</td>\n",
       "      <td>9.037674</td>\n",
       "      <td>1.987964e+03</td>\n",
       "      <td>2.811473</td>\n",
       "      <td>16.105956</td>\n",
       "      <td>9.770422e+00</td>\n",
       "      <td>3.356614e+01</td>\n",
       "      <td>1.823667e+00</td>\n",
       "      <td>1.257396e+01</td>\n",
       "      <td>1.072409e+01</td>\n",
       "      <td>9.145475</td>\n",
       "      <td>10.766750</td>\n",
       "      <td>1.254042e+01</td>\n",
       "      <td>2.017914e+03</td>\n",
       "    </tr>\n",
       "    <tr>\n",
       "      <th>std</th>\n",
       "      <td>9.700444e+00</td>\n",
       "      <td>2.398240e+01</td>\n",
       "      <td>1.758675e+01</td>\n",
       "      <td>22.747555</td>\n",
       "      <td>2.993017e+02</td>\n",
       "      <td>2.982974</td>\n",
       "      <td>33.726195</td>\n",
       "      <td>1.690448e+01</td>\n",
       "      <td>1.596959e+01</td>\n",
       "      <td>1.307618e+01</td>\n",
       "      <td>1.913933e+01</td>\n",
       "      <td>2.014020e+01</td>\n",
       "      <td>7.361611</td>\n",
       "      <td>5.850509</td>\n",
       "      <td>1.903289e+01</td>\n",
       "      <td>1.973938e+00</td>\n",
       "    </tr>\n",
       "    <tr>\n",
       "      <th>min</th>\n",
       "      <td>0.000000e+00</td>\n",
       "      <td>0.000000e+00</td>\n",
       "      <td>0.000000e+00</td>\n",
       "      <td>0.000000</td>\n",
       "      <td>0.000000e+00</td>\n",
       "      <td>0.000000</td>\n",
       "      <td>0.000000</td>\n",
       "      <td>0.000000e+00</td>\n",
       "      <td>0.000000e+00</td>\n",
       "      <td>0.000000e+00</td>\n",
       "      <td>1.000000e+00</td>\n",
       "      <td>1.000000e+00</td>\n",
       "      <td>1.000000</td>\n",
       "      <td>1.000000</td>\n",
       "      <td>1.000000e+00</td>\n",
       "      <td>2.015000e+03</td>\n",
       "    </tr>\n",
       "    <tr>\n",
       "      <th>25%</th>\n",
       "      <td>1.000000e+00</td>\n",
       "      <td>2.000000e+00</td>\n",
       "      <td>1.000000e+00</td>\n",
       "      <td>1.000000</td>\n",
       "      <td>2.005000e+03</td>\n",
       "      <td>2.000000</td>\n",
       "      <td>2.000000</td>\n",
       "      <td>2.000000e+00</td>\n",
       "      <td>2.500000e+01</td>\n",
       "      <td>0.000000e+00</td>\n",
       "      <td>6.000000e+00</td>\n",
       "      <td>2.000000e+00</td>\n",
       "      <td>6.000000</td>\n",
       "      <td>9.000000</td>\n",
       "      <td>6.000000e+00</td>\n",
       "      <td>2.016000e+03</td>\n",
       "    </tr>\n",
       "    <tr>\n",
       "      <th>50%</th>\n",
       "      <td>1.000000e+00</td>\n",
       "      <td>3.000000e+00</td>\n",
       "      <td>3.000000e+00</td>\n",
       "      <td>2.000000</td>\n",
       "      <td>2.010000e+03</td>\n",
       "      <td>2.000000</td>\n",
       "      <td>3.000000</td>\n",
       "      <td>2.000000e+00</td>\n",
       "      <td>3.500000e+01</td>\n",
       "      <td>0.000000e+00</td>\n",
       "      <td>1.100000e+01</td>\n",
       "      <td>6.000000e+00</td>\n",
       "      <td>11.000000</td>\n",
       "      <td>12.000000</td>\n",
       "      <td>1.100000e+01</td>\n",
       "      <td>2.018000e+03</td>\n",
       "    </tr>\n",
       "    <tr>\n",
       "      <th>75%</th>\n",
       "      <td>1.000000e+00</td>\n",
       "      <td>4.000000e+00</td>\n",
       "      <td>1.000000e+01</td>\n",
       "      <td>5.000000</td>\n",
       "      <td>2.015000e+03</td>\n",
       "      <td>3.000000</td>\n",
       "      <td>3.000000</td>\n",
       "      <td>2.000000e+01</td>\n",
       "      <td>4.500000e+01</td>\n",
       "      <td>0.000000e+00</td>\n",
       "      <td>1.200000e+01</td>\n",
       "      <td>1.100000e+01</td>\n",
       "      <td>11.000000</td>\n",
       "      <td>12.000000</td>\n",
       "      <td>1.200000e+01</td>\n",
       "      <td>2.020000e+03</td>\n",
       "    </tr>\n",
       "    <tr>\n",
       "      <th>max</th>\n",
       "      <td>9.900000e+01</td>\n",
       "      <td>9.900000e+01</td>\n",
       "      <td>9.900000e+01</td>\n",
       "      <td>99.000000</td>\n",
       "      <td>9.999000e+03</td>\n",
       "      <td>99.000000</td>\n",
       "      <td>99.000000</td>\n",
       "      <td>9.900000e+01</td>\n",
       "      <td>7.500000e+01</td>\n",
       "      <td>9.900000e+01</td>\n",
       "      <td>9.900000e+01</td>\n",
       "      <td>9.900000e+01</td>\n",
       "      <td>99.000000</td>\n",
       "      <td>99.000000</td>\n",
       "      <td>9.900000e+01</td>\n",
       "      <td>2.021000e+03</td>\n",
       "    </tr>\n",
       "  </tbody>\n",
       "</table>\n",
       "</div>"
      ],
      "text/plain": [
       "       HARM_EVENT_CODE   DAMAGE_CODE  MOVEMENT_CODE  CV_BODY_TYPE_CODE  \\\n",
       "count     1.438808e+06  1.438808e+06   1.438808e+06       58260.000000   \n",
       "mean      3.100420e+00  9.569909e+00   7.842272e+00           9.037674   \n",
       "std       9.700444e+00  2.398240e+01   1.758675e+01          22.747555   \n",
       "min       0.000000e+00  0.000000e+00   0.000000e+00           0.000000   \n",
       "25%       1.000000e+00  2.000000e+00   1.000000e+00           1.000000   \n",
       "50%       1.000000e+00  3.000000e+00   3.000000e+00           2.000000   \n",
       "75%       1.000000e+00  4.000000e+00   1.000000e+01           5.000000   \n",
       "max       9.900000e+01  9.900000e+01   9.900000e+01          99.000000   \n",
       "\n",
       "           VEH_YEAR     NUM_AXLES      GVW_CODE  BODY_TYPE_CODE   SPEED_LIMIT  \\\n",
       "count  1.368267e+06  58156.000000  58260.000000    1.384382e+06  1.438808e+06   \n",
       "mean   1.987964e+03      2.811473     16.105956    9.770422e+00  3.356614e+01   \n",
       "std    2.993017e+02      2.982974     33.726195    1.690448e+01  1.596959e+01   \n",
       "min    0.000000e+00      0.000000      0.000000    0.000000e+00  0.000000e+00   \n",
       "25%    2.005000e+03      2.000000      2.000000    2.000000e+00  2.500000e+01   \n",
       "50%    2.010000e+03      2.000000      3.000000    2.000000e+00  3.500000e+01   \n",
       "75%    2.015000e+03      3.000000      3.000000    2.000000e+01  4.500000e+01   \n",
       "max    9.999000e+03     99.000000     99.000000    9.900000e+01  7.500000e+01   \n",
       "\n",
       "       TOWED_VEHICLE_CONFIG_CODE  AREA_DAMAGED_CODE_IMP1  AREA_DAMAGED_CODE1  \\\n",
       "count               1.438808e+06            1.427978e+06        1.377967e+06   \n",
       "mean                1.823667e+00            1.257396e+01        1.072409e+01   \n",
       "std                 1.307618e+01            1.913933e+01        2.014020e+01   \n",
       "min                 0.000000e+00            1.000000e+00        1.000000e+00   \n",
       "25%                 0.000000e+00            6.000000e+00        2.000000e+00   \n",
       "50%                 0.000000e+00            1.100000e+01        6.000000e+00   \n",
       "75%                 0.000000e+00            1.200000e+01        1.100000e+01   \n",
       "max                 9.900000e+01            9.900000e+01        9.900000e+01   \n",
       "\n",
       "       AREA_DAMAGED_CODE2  AREA_DAMAGED_CODE3  AREA_DAMAGED_CODE_MAIN  \\\n",
       "count       782335.000000       512108.000000            1.423515e+06   \n",
       "mean             9.145475           10.766750            1.254042e+01   \n",
       "std              7.361611            5.850509            1.903289e+01   \n",
       "min              1.000000            1.000000            1.000000e+00   \n",
       "25%              6.000000            9.000000            6.000000e+00   \n",
       "50%             11.000000           12.000000            1.100000e+01   \n",
       "75%             11.000000           12.000000            1.200000e+01   \n",
       "max             99.000000           99.000000            9.900000e+01   \n",
       "\n",
       "               YEAR  \n",
       "count  1.438808e+06  \n",
       "mean   2.017914e+03  \n",
       "std    1.973938e+00  \n",
       "min    2.015000e+03  \n",
       "25%    2.016000e+03  \n",
       "50%    2.018000e+03  \n",
       "75%    2.020000e+03  \n",
       "max    2.021000e+03  "
      ]
     },
     "execution_count": 5,
     "metadata": {},
     "output_type": "execute_result"
    }
   ],
   "source": [
    "df.describe()"
   ]
  },
  {
   "cell_type": "code",
   "execution_count": 6,
   "id": "4ed0b5e1",
   "metadata": {},
   "outputs": [
    {
     "name": "stdout",
     "output_type": "stream",
     "text": [
      "<class 'pandas.core.frame.DataFrame'>\n",
      "RangeIndex: 1438808 entries, 0 to 1438807\n",
      "Data columns (total 49 columns):\n",
      " #   Column                       Non-Null Count    Dtype  \n",
      "---  ------                       --------------    -----  \n",
      " 0   HARM_EVENT_DESC              1438808 non-null  object \n",
      " 1   HARM_EVENT_CODE              1438808 non-null  float64\n",
      " 2   CONTI_DIRECTION_DESC         1283866 non-null  object \n",
      " 3   CONTI_DIRECTION_CODE         1283866 non-null  object \n",
      " 4   DAMAGE_DESC                  1438808 non-null  object \n",
      " 5   DAMAGE_CODE                  1438808 non-null  int64  \n",
      " 6   MOVEMENT_DESC                1438808 non-null  object \n",
      " 7   MOVEMENT_CODE                1438808 non-null  float64\n",
      " 8   VIN_NO                       1367593 non-null  object \n",
      " 9   REPORT_NO                    1438808 non-null  object \n",
      " 10  CV_BODY_TYPE_DESC            58260 non-null    object \n",
      " 11  CV_BODY_TYPE_CODE            58260 non-null    float64\n",
      " 12  VEH_YEAR                     1368267 non-null  float64\n",
      " 13  VEH_MAKE                     1438496 non-null  object \n",
      " 14  VEH_MODEL                    1438024 non-null  object \n",
      " 15  COMMERCIAL_FLAG_DESC         1438808 non-null  object \n",
      " 16  COMMERCIAL_FLAG              1438808 non-null  object \n",
      " 17  HZM_NUM                      2567 non-null     object \n",
      " 18  TOWED_AWAY_FLAG_DESC         1429546 non-null  object \n",
      " 19  TOWED_AWAY_FLAG              1438808 non-null  object \n",
      " 20  NUM_AXLES                    58156 non-null    float64\n",
      " 21  GVW_DESC                     58260 non-null    object \n",
      " 22  GVW_CODE                     58260 non-null    float64\n",
      " 23  GOING_DIRECTION_DESC         1283866 non-null  object \n",
      " 24  GOING_DIRECTION_CODE         1283866 non-null  object \n",
      " 25  BODY_TYPE_DESC               1383935 non-null  object \n",
      " 26  BODY_TYPE_CODE               1384382 non-null  float64\n",
      " 27  DRIVERLESS_FLAG_DESC         1411102 non-null  object \n",
      " 28  DRIVERLESS_FLAG              1438808 non-null  object \n",
      " 29  FIRE_FLAG_DESC               1199354 non-null  object \n",
      " 30  FIRE_FLAG                    1211864 non-null  object \n",
      " 31  PARKED_FLAG_DESC             1438808 non-null  object \n",
      " 32  PARKED_FLAG                  1438808 non-null  object \n",
      " 33  SPEED_LIMIT                  1438808 non-null  int64  \n",
      " 34  HIT_AND_RUN_FLAG_DESC        1436449 non-null  object \n",
      " 35  HIT_AND_RUN_FLAG             1438808 non-null  object \n",
      " 36  HAZMAT_SPILL_FLAG_DESC       18840 non-null    object \n",
      " 37  HAZMAT_SPILL_FLAG            18840 non-null    object \n",
      " 38  VEHICLE_ID                   1438808 non-null  object \n",
      " 39  TOWED_VEHICLE_CONFIG_DESC    1438808 non-null  object \n",
      " 40  TOWED_VEHICLE_CONFIG_CODE    1438808 non-null  int64  \n",
      " 41  AREA_DAMAGED_CODE_IMP1       1427978 non-null  float64\n",
      " 42  AREA_DAMAGED_CODE1           1377967 non-null  float64\n",
      " 43  AREA_DAMAGED_CODE2           782335 non-null   float64\n",
      " 44  AREA_DAMAGED_CODE3           512108 non-null   float64\n",
      " 45  AREA_DAMAGED_CODE_MAIN_DESC  1423515 non-null  object \n",
      " 46  AREA_DAMAGED_CODE_MAIN       1423515 non-null  float64\n",
      " 47  YEAR                         1438808 non-null  int64  \n",
      " 48  Quarter                      1438808 non-null  object \n",
      "dtypes: float64(12), int64(4), object(33)\n",
      "memory usage: 537.9+ MB\n"
     ]
    }
   ],
   "source": [
    "df.info()"
   ]
  },
  {
   "cell_type": "markdown",
   "id": "02f6198a",
   "metadata": {},
   "source": [
    "Here we can see that some of the columns have a lot less Non-Null values. So let us plot to see how many Null Values are present in each column"
   ]
  },
  {
   "cell_type": "markdown",
   "id": "a4a457bd",
   "metadata": {},
   "source": [
    "#### Plotting to identify Null Values"
   ]
  },
  {
   "cell_type": "code",
   "execution_count": 13,
   "id": "f5b63149",
   "metadata": {},
   "outputs": [
    {
     "data": {
      "image/png": "[encoded data removed]",
      "text/plain": [
       "<Figure size 1080x720 with 1 Axes>"
      ]
     },
     "metadata": {
      "needs_background": "light"
     },
     "output_type": "display_data"
    }
   ],
   "source": [
    "df.isnull().sum().sort_values().plot(kind='bar', figsize=(15,10))\n",
    "plt.title('Number of NaN values')\n",
    "plt.xlabel('Columns')\n",
    "plt.ylabel('Sum')\n",
    "plt.show()"
   ]
  },
  {
   "cell_type": "markdown",
   "id": "8e7cd0a2",
   "metadata": {},
   "source": [
    "A plot is drwan in ascending order to identify Null values in a column as we can see 8 columns have Null values with a percentage of 90. These can definetly be eliminated. "
   ]
  },
  {
   "cell_type": "markdown",
   "id": "6f378588",
   "metadata": {},
   "source": [
    "The Following are the columns I have selected for my features: \n",
    "DAMAGE_DESC,\n",
    "HARM_EVENT_DESC,\n",
    "MOVEMENT_DESC,\n",
    "BODY_TYPE_DESC,\n",
    "SPEED_LIMIT,\n",
    "HIT_AND_RUN_FLAG,\n",
    "TOWED_VEHICLE_CONFIG_DESC,\n",
    "AREA_DAMAGED_CODE_MAIN_DESC,\n",
    "PARKED_FLAG_DESC."
   ]
  },
  {
   "cell_type": "markdown",
   "id": "a8e90631",
   "metadata": {},
   "source": [
    "##### Looking at the Features I have selected as Categorical and Numerical. Checking if all the values present are unique to themselves or if there are any values repeating with a Spelling error or a case error"
   ]
  },
  {
   "cell_type": "code",
   "execution_count": 15,
   "id": "fe2db041",
   "metadata": {},
   "outputs": [
    {
     "data": {
      "text/plain": [
       "Disabling         498282\n",
       "Superficial       363011\n",
       "Functional        355315\n",
       "Unknown            95323\n",
       "Destroyed          77503\n",
       "No Damage          40963\n",
       "Not Applicable      7062\n",
       "Other               1349\n",
       "Name: DAMAGE_DESC, dtype: Int64"
      ]
     },
     "execution_count": 15,
     "metadata": {},
     "output_type": "execute_result"
    }
   ],
   "source": [
    "df.DAMAGE_DESC.value_counts()"
   ]
  },
  {
   "cell_type": "code",
   "execution_count": 16,
   "id": "feeeede8",
   "metadata": {},
   "outputs": [
    {
     "data": {
      "text/plain": [
       "Other Vehicle                     1036927\n",
       "Fixed Object                       128735\n",
       "Parked Vehicle                      98072\n",
       "Not Applicable                      82281\n",
       "Pedestrian                          19748\n",
       "Animal                              13331\n",
       "Off Road                            12287\n",
       "Overturn                            11323\n",
       "Unknown                             10380\n",
       "Other Object                         7974\n",
       "Bicycle                              4492\n",
       "Other                                3414\n",
       "Explosion or Fire                    2132\n",
       "Other Non Collision                  1883\n",
       "Thrown or Falling Object             1261\n",
       "Other Conveyance                      915\n",
       "Backing                               776\n",
       "Spilled Cargo                         615\n",
       "Fell Jumped from Motor Vehicle        590\n",
       "Other Pedalcycle                      541\n",
       "Units Separated                       303\n",
       "Jackknife                             288\n",
       "Immersion                             174\n",
       "Downhill Roadway                      136\n",
       "U-turn                                126\n",
       "Railway Train                         104\n",
       "Name: HARM_EVENT_DESC, dtype: Int64"
      ]
     },
     "execution_count": 16,
     "metadata": {},
     "output_type": "execute_result"
    }
   ],
   "source": [
    "df.HARM_EVENT_DESC.value_counts()"
   ]
  },
  {
   "cell_type": "code",
   "execution_count": 17,
   "id": "2ee0816e",
   "metadata": {},
   "outputs": [
    {
     "data": {
      "text/plain": [
       "Moving Constant Speed        568177\n",
       "Slowing or Stopping          195156\n",
       "Parked                       154942\n",
       "Stopped in Traffic Lane      101063\n",
       "Accelerating                  85834\n",
       "Making Left Turn              84841\n",
       "Unknown                       43379\n",
       "Backing                       36000\n",
       "Changing Lanes                30328\n",
       "Making Right Turn             28181\n",
       "Starting From Lane            24924\n",
       "Starting From Parked          14531\n",
       "Parking                       11346\n",
       "Not Applicable                11232\n",
       "Skidding                      11178\n",
       "Making U Turn                  7452\n",
       "Passing                        7021\n",
       "Other                          6602\n",
       "Negotiating a Curve            6250\n",
       "Entering Traffic Lane          5345\n",
       "Leaving Traffic Lane           3020\n",
       "Driverless Moving Vehicle      1047\n",
       "Right Turn on Red               959\n",
       "Name: MOVEMENT_DESC, dtype: Int64"
      ]
     },
     "execution_count": 17,
     "metadata": {},
     "output_type": "execute_result"
    }
   ],
   "source": [
    "df.MOVEMENT_DESC.value_counts()"
   ]
  },
  {
   "cell_type": "code",
   "execution_count": 18,
   "id": "2c7c69d0",
   "metadata": {},
   "outputs": [
    {
     "data": {
      "text/plain": [
       "Passenger Car                                                    918736\n",
       "(Sport) Utility Vehicle                                          157085\n",
       "Pickup Truck                                                      90520\n",
       "Van                                                               44845\n",
       "Unknown                                                           22960\n",
       "Other                                                             17508\n",
       "Truck Tractor                                                     13985\n",
       "Cargo Van/Light Truck 2 axles (10,000 lbs (4,536 kg) or less)     13863\n",
       "Other Light Trucks (10,000 lbs (4,536 kg))                        13655\n",
       "Police Vehicle/Non Emergency                                      11260\n",
       "Medium/Heavy Truck 2 axles (10,000 lbs (4,536 kg) or less)        11073\n",
       "Police Vehicle/Emergency                                          10719\n",
       "Transit Bus                                                        9855\n",
       "School Bus                                                         9772\n",
       "Motorcycle                                                         9687\n",
       "Station Wagon                                                      5795\n",
       "Recreational Vehicle                                               4281\n",
       "Ambulance/Emergency                                                3526\n",
       "Not Applicable                                                     2829\n",
       "Fire Vehicle/Emergency                                             2399\n",
       "Other Bus                                                          2218\n",
       "All Terrain Vehicle (ATV)                                          1309\n",
       "Ambulance/Non Emergency                                            1255\n",
       "Moped                                                              1219\n",
       "Low Speed Vehicle                                                  1029\n",
       "Fire Vehicle/Non Emergency                                         1003\n",
       "Snowmobile                                                          924\n",
       "Farm Vehicle                                                        335\n",
       "Cross Country Bus                                                   156\n",
       "Limousine                                                           134\n",
       "Name: BODY_TYPE_DESC, dtype: Int64"
      ]
     },
     "execution_count": 18,
     "metadata": {},
     "output_type": "execute_result"
    }
   ],
   "source": [
    "df.BODY_TYPE_DESC.value_counts()"
   ]
  },
  {
   "cell_type": "code",
   "execution_count": 19,
   "id": "97fcee9d",
   "metadata": {},
   "outputs": [
    {
     "data": {
      "text/plain": [
       "25    274812\n",
       "35    213092\n",
       "55    174933\n",
       "30    174161\n",
       "40    136135\n",
       "45     90038\n",
       "50     77319\n",
       "0      75401\n",
       "15     60815\n",
       "65     42173\n",
       "5      41360\n",
       "10     40634\n",
       "20     22206\n",
       "70     10215\n",
       "60      5455\n",
       "75        59\n",
       "Name: SPEED_LIMIT, dtype: Int64"
      ]
     },
     "execution_count": 19,
     "metadata": {},
     "output_type": "execute_result"
    }
   ],
   "source": [
    "df.SPEED_LIMIT.value_counts()"
   ]
  },
  {
   "cell_type": "code",
   "execution_count": 20,
   "id": "515a8b6a",
   "metadata": {},
   "outputs": [
    {
     "data": {
      "text/plain": [
       "No     1243813\n",
       "Yes     192636\n",
       "Name: HIT_AND_RUN_FLAG_DESC, dtype: Int64"
      ]
     },
     "execution_count": 20,
     "metadata": {},
     "output_type": "execute_result"
    }
   ],
   "source": [
    "df.HIT_AND_RUN_FLAG_DESC.value_counts()"
   ]
  },
  {
   "cell_type": "code",
   "execution_count": 21,
   "id": "b1fe8aa3",
   "metadata": {},
   "outputs": [
    {
     "data": {
      "text/plain": [
       "Not Applicable             1389477\n",
       "Unknown                      24565\n",
       "1 Semi Trailer               10507\n",
       "Utility Trailer               4341\n",
       "1 Full Trailer                3996\n",
       "Automobile                    3500\n",
       "Other                         1236\n",
       "Boat Trailer                   430\n",
       "2 Full Trailers                178\n",
       "Farm Equipment                 177\n",
       "Camper                         162\n",
       "Travel/Home Trailer            112\n",
       "1 Semi + 1 Full Trailer         96\n",
       "Mobile Home                     20\n",
       "3 Trailers                      11\n",
       "Name: TOWED_VEHICLE_CONFIG_DESC, dtype: Int64"
      ]
     },
     "execution_count": 21,
     "metadata": {},
     "output_type": "execute_result"
    }
   ],
   "source": [
    "df.TOWED_VEHICLE_CONFIG_DESC.value_counts()"
   ]
  },
  {
   "cell_type": "code",
   "execution_count": 22,
   "id": "a264622a",
   "metadata": {},
   "outputs": [
    {
     "data": {
      "text/plain": [
       "Twelve o'clock    539834\n",
       "Six o'clock       277515\n",
       "One o'clock       116891\n",
       "Eleven o'clock    105186\n",
       "Unknown            56918\n",
       "Ten o'clock        56712\n",
       "Two o'clock        48595\n",
       "Seven o'clock      43972\n",
       "Eight o'clock      35170\n",
       "Nine o'clock       32577\n",
       "Five o'clock       31702\n",
       "Four o'clock       30956\n",
       "Three o'clock      28010\n",
       "Roof Top            7090\n",
       "Non-collision       6400\n",
       "Underside           5987\n",
       "Name: AREA_DAMAGED_CODE_MAIN_DESC, dtype: Int64"
      ]
     },
     "execution_count": 22,
     "metadata": {},
     "output_type": "execute_result"
    }
   ],
   "source": [
    "df.AREA_DAMAGED_CODE_MAIN_DESC.value_counts()"
   ]
  },
  {
   "cell_type": "code",
   "execution_count": 23,
   "id": "4e834a2e",
   "metadata": {},
   "outputs": [
    {
     "data": {
      "text/plain": [
       "No     1283866\n",
       "Yes     154942\n",
       "Name: PARKED_FLAG_DESC, dtype: Int64"
      ]
     },
     "execution_count": 23,
     "metadata": {},
     "output_type": "execute_result"
    }
   ],
   "source": [
    "df.PARKED_FLAG_DESC.value_counts()"
   ]
  },
  {
   "cell_type": "markdown",
   "id": "d4dd2ead",
   "metadata": {},
   "source": [
    "It looks like the values for the selected columns are unique and there are no repeating values."
   ]
  },
  {
   "cell_type": "markdown",
   "id": "33457b79",
   "metadata": {},
   "source": [
    "In the data set I am considering the following columns and planning to drop rest of the columns as they do not have any significant value and some of them have many null values. The columns I plan to consider are (DAMAGE_DESC, HARM_EVENT_DESC,MOVEMENT_DESC, BODY_TYPE_DESC, SPEED_LIMIT, TOWED_VEHICLE_CONFIG_DESC, HIT_AND_RUN_FLAG_DESC, AREA_DAMAGED_CODE_MAIN_DESC, PARKED_FLAG_DESC)."
   ]
  },
  {
   "cell_type": "code",
   "execution_count": 24,
   "id": "0153e504",
   "metadata": {},
   "outputs": [
    {
     "data": {
      "text/plain": [
       "Index(['HARM_EVENT_DESC', 'HARM_EVENT_CODE', 'CONTI_DIRECTION_DESC',\n",
       "       'CONTI_DIRECTION_CODE', 'DAMAGE_DESC', 'DAMAGE_CODE', 'MOVEMENT_DESC',\n",
       "       'MOVEMENT_CODE', 'VIN_NO', 'REPORT_NO', 'CV_BODY_TYPE_DESC',\n",
       "       'CV_BODY_TYPE_CODE', 'VEH_YEAR', 'VEH_MAKE', 'VEH_MODEL',\n",
       "       'COMMERCIAL_FLAG_DESC', 'COMMERCIAL_FLAG', 'HZM_NUM',\n",
       "       'TOWED_AWAY_FLAG_DESC', 'TOWED_AWAY_FLAG', 'NUM_AXLES', 'GVW_DESC',\n",
       "       'GVW_CODE', 'GOING_DIRECTION_DESC', 'GOING_DIRECTION_CODE',\n",
       "       'BODY_TYPE_DESC', 'BODY_TYPE_CODE', 'DRIVERLESS_FLAG_DESC',\n",
       "       'DRIVERLESS_FLAG', 'FIRE_FLAG_DESC', 'FIRE_FLAG', 'PARKED_FLAG_DESC',\n",
       "       'PARKED_FLAG', 'SPEED_LIMIT', 'HIT_AND_RUN_FLAG_DESC',\n",
       "       'HIT_AND_RUN_FLAG', 'HAZMAT_SPILL_FLAG_DESC', 'HAZMAT_SPILL_FLAG',\n",
       "       'VEHICLE_ID', 'TOWED_VEHICLE_CONFIG_DESC', 'TOWED_VEHICLE_CONFIG_CODE',\n",
       "       'AREA_DAMAGED_CODE_IMP1', 'AREA_DAMAGED_CODE1', 'AREA_DAMAGED_CODE2',\n",
       "       'AREA_DAMAGED_CODE3', 'AREA_DAMAGED_CODE_MAIN_DESC',\n",
       "       'AREA_DAMAGED_CODE_MAIN', 'YEAR', 'Quarter'],\n",
       "      dtype='object')"
      ]
     },
     "execution_count": 24,
     "metadata": {},
     "output_type": "execute_result"
    }
   ],
   "source": [
    "df.columns"
   ]
  },
  {
   "cell_type": "markdown",
   "id": "33966274",
   "metadata": {},
   "source": [
    "These are the total columns."
   ]
  },
  {
   "cell_type": "code",
   "execution_count": 27,
   "id": "a41d4e74",
   "metadata": {},
   "outputs": [],
   "source": [
    "df_new = df.drop(columns=['HARM_EVENT_CODE', 'CONTI_DIRECTION_DESC',\n",
    "       'CONTI_DIRECTION_CODE', 'DAMAGE_CODE',\n",
    "       'MOVEMENT_CODE', 'VIN_NO', 'REPORT_NO', 'CV_BODY_TYPE_DESC',\n",
    "       'CV_BODY_TYPE_CODE', 'VEH_YEAR', 'VEH_MAKE', 'VEH_MODEL',\n",
    "       'COMMERCIAL_FLAG_DESC', 'COMMERCIAL_FLAG', 'HZM_NUM',\n",
    "       'TOWED_AWAY_FLAG_DESC', 'TOWED_AWAY_FLAG', 'NUM_AXLES', 'GVW_DESC',\n",
    "       'GVW_CODE', 'GOING_DIRECTION_DESC', 'GOING_DIRECTION_CODE', 'BODY_TYPE_CODE', 'DRIVERLESS_FLAG_DESC',\n",
    "       'DRIVERLESS_FLAG', 'FIRE_FLAG_DESC', 'FIRE_FLAG',\n",
    "       'PARKED_FLAG',\n",
    "       'HIT_AND_RUN_FLAG', 'HAZMAT_SPILL_FLAG_DESC', 'HAZMAT_SPILL_FLAG',\n",
    "       'VEHICLE_ID', 'TOWED_VEHICLE_CONFIG_CODE',\n",
    "       'AREA_DAMAGED_CODE_IMP1', 'AREA_DAMAGED_CODE1', 'AREA_DAMAGED_CODE2',\n",
    "       'AREA_DAMAGED_CODE3',\n",
    "       'AREA_DAMAGED_CODE_MAIN', 'YEAR', 'Quarter'])"
   ]
  },
  {
   "cell_type": "markdown",
   "id": "74167a5b",
   "metadata": {},
   "source": [
    "##### I have dropped the columns and following is the new Data Set"
   ]
  },
  {
   "cell_type": "code",
   "execution_count": 28,
   "id": "271e1a1b",
   "metadata": {},
   "outputs": [
    {
     "data": {
      "text/html": [
       "<div>\n",
       "<style scoped>\n",
       "    .dataframe tbody tr th:only-of-type {\n",
       "        vertical-align: middle;\n",
       "    }\n",
       "\n",
       "    .dataframe tbody tr th {\n",
       "        vertical-align: top;\n",
       "    }\n",
       "\n",
       "    .dataframe thead th {\n",
       "        text-align: right;\n",
       "    }\n",
       "</style>\n",
       "<table border=\"1\" class=\"dataframe\">\n",
       "  <thead>\n",
       "    <tr style=\"text-align: right;\">\n",
       "      <th></th>\n",
       "      <th>HARM_EVENT_DESC</th>\n",
       "      <th>DAMAGE_DESC</th>\n",
       "      <th>MOVEMENT_DESC</th>\n",
       "      <th>BODY_TYPE_DESC</th>\n",
       "      <th>PARKED_FLAG_DESC</th>\n",
       "      <th>SPEED_LIMIT</th>\n",
       "      <th>HIT_AND_RUN_FLAG_DESC</th>\n",
       "      <th>TOWED_VEHICLE_CONFIG_DESC</th>\n",
       "      <th>AREA_DAMAGED_CODE_MAIN_DESC</th>\n",
       "    </tr>\n",
       "  </thead>\n",
       "  <tbody>\n",
       "    <tr>\n",
       "      <th>0</th>\n",
       "      <td>Other Vehicle</td>\n",
       "      <td>Unknown</td>\n",
       "      <td>Unknown</td>\n",
       "      <td>&lt;NA&gt;</td>\n",
       "      <td>No</td>\n",
       "      <td>25</td>\n",
       "      <td>Yes</td>\n",
       "      <td>Unknown</td>\n",
       "      <td>Eleven o'clock</td>\n",
       "    </tr>\n",
       "    <tr>\n",
       "      <th>1</th>\n",
       "      <td>Other Vehicle</td>\n",
       "      <td>Superficial</td>\n",
       "      <td>Moving Constant Speed</td>\n",
       "      <td>Passenger Car</td>\n",
       "      <td>No</td>\n",
       "      <td>55</td>\n",
       "      <td>No</td>\n",
       "      <td>Not Applicable</td>\n",
       "      <td>Twelve o'clock</td>\n",
       "    </tr>\n",
       "    <tr>\n",
       "      <th>2</th>\n",
       "      <td>Other Vehicle</td>\n",
       "      <td>Functional</td>\n",
       "      <td>Stopped in Traffic Lane</td>\n",
       "      <td>(Sport) Utility Vehicle</td>\n",
       "      <td>No</td>\n",
       "      <td>30</td>\n",
       "      <td>No</td>\n",
       "      <td>Not Applicable</td>\n",
       "      <td>Six o'clock</td>\n",
       "    </tr>\n",
       "    <tr>\n",
       "      <th>3</th>\n",
       "      <td>Fixed Object</td>\n",
       "      <td>Unknown</td>\n",
       "      <td>Not Applicable</td>\n",
       "      <td>&lt;NA&gt;</td>\n",
       "      <td>No</td>\n",
       "      <td>35</td>\n",
       "      <td>Yes</td>\n",
       "      <td>Not Applicable</td>\n",
       "      <td>Unknown</td>\n",
       "    </tr>\n",
       "    <tr>\n",
       "      <th>4</th>\n",
       "      <td>Other Vehicle</td>\n",
       "      <td>Disabling</td>\n",
       "      <td>Slowing or Stopping</td>\n",
       "      <td>Passenger Car</td>\n",
       "      <td>No</td>\n",
       "      <td>35</td>\n",
       "      <td>No</td>\n",
       "      <td>Not Applicable</td>\n",
       "      <td>Six o'clock</td>\n",
       "    </tr>\n",
       "    <tr>\n",
       "      <th>...</th>\n",
       "      <td>...</td>\n",
       "      <td>...</td>\n",
       "      <td>...</td>\n",
       "      <td>...</td>\n",
       "      <td>...</td>\n",
       "      <td>...</td>\n",
       "      <td>...</td>\n",
       "      <td>...</td>\n",
       "      <td>...</td>\n",
       "    </tr>\n",
       "    <tr>\n",
       "      <th>1438803</th>\n",
       "      <td>Fixed Object</td>\n",
       "      <td>Destroyed</td>\n",
       "      <td>Moving Constant Speed</td>\n",
       "      <td>Passenger Car</td>\n",
       "      <td>No</td>\n",
       "      <td>25</td>\n",
       "      <td>No</td>\n",
       "      <td>Not Applicable</td>\n",
       "      <td>Twelve o'clock</td>\n",
       "    </tr>\n",
       "    <tr>\n",
       "      <th>1438804</th>\n",
       "      <td>Unknown</td>\n",
       "      <td>Disabling</td>\n",
       "      <td>Moving Constant Speed</td>\n",
       "      <td>Passenger Car</td>\n",
       "      <td>No</td>\n",
       "      <td>35</td>\n",
       "      <td>No</td>\n",
       "      <td>Not Applicable</td>\n",
       "      <td>Twelve o'clock</td>\n",
       "    </tr>\n",
       "    <tr>\n",
       "      <th>1438805</th>\n",
       "      <td>Other Vehicle</td>\n",
       "      <td>Disabling</td>\n",
       "      <td>Moving Constant Speed</td>\n",
       "      <td>Passenger Car</td>\n",
       "      <td>No</td>\n",
       "      <td>0</td>\n",
       "      <td>No</td>\n",
       "      <td>Not Applicable</td>\n",
       "      <td>Eleven o'clock</td>\n",
       "    </tr>\n",
       "    <tr>\n",
       "      <th>1438806</th>\n",
       "      <td>Other Vehicle</td>\n",
       "      <td>Disabling</td>\n",
       "      <td>Moving Constant Speed</td>\n",
       "      <td>Motorcycle</td>\n",
       "      <td>No</td>\n",
       "      <td>40</td>\n",
       "      <td>No</td>\n",
       "      <td>Not Applicable</td>\n",
       "      <td>Twelve o'clock</td>\n",
       "    </tr>\n",
       "    <tr>\n",
       "      <th>1438807</th>\n",
       "      <td>Other Vehicle</td>\n",
       "      <td>Functional</td>\n",
       "      <td>Starting From Parked</td>\n",
       "      <td>Cargo Van/Light Truck 2 axles (10,000 lbs (4,5...</td>\n",
       "      <td>No</td>\n",
       "      <td>10</td>\n",
       "      <td>Yes</td>\n",
       "      <td>Not Applicable</td>\n",
       "      <td>Twelve o'clock</td>\n",
       "    </tr>\n",
       "  </tbody>\n",
       "</table>\n",
       "<p>1438808 rows × 9 columns</p>\n",
       "</div>"
      ],
      "text/plain": [
       "        HARM_EVENT_DESC  DAMAGE_DESC            MOVEMENT_DESC  \\\n",
       "0         Other Vehicle      Unknown                  Unknown   \n",
       "1         Other Vehicle  Superficial    Moving Constant Speed   \n",
       "2         Other Vehicle   Functional  Stopped in Traffic Lane   \n",
       "3          Fixed Object      Unknown           Not Applicable   \n",
       "4         Other Vehicle    Disabling      Slowing or Stopping   \n",
       "...                 ...          ...                      ...   \n",
       "1438803    Fixed Object    Destroyed    Moving Constant Speed   \n",
       "1438804         Unknown    Disabling    Moving Constant Speed   \n",
       "1438805   Other Vehicle    Disabling    Moving Constant Speed   \n",
       "1438806   Other Vehicle    Disabling    Moving Constant Speed   \n",
       "1438807   Other Vehicle   Functional     Starting From Parked   \n",
       "\n",
       "                                            BODY_TYPE_DESC PARKED_FLAG_DESC  \\\n",
       "0                                                     <NA>               No   \n",
       "1                                            Passenger Car               No   \n",
       "2                                  (Sport) Utility Vehicle               No   \n",
       "3                                                     <NA>               No   \n",
       "4                                            Passenger Car               No   \n",
       "...                                                    ...              ...   \n",
       "1438803                                      Passenger Car               No   \n",
       "1438804                                      Passenger Car               No   \n",
       "1438805                                      Passenger Car               No   \n",
       "1438806                                         Motorcycle               No   \n",
       "1438807  Cargo Van/Light Truck 2 axles (10,000 lbs (4,5...               No   \n",
       "\n",
       "         SPEED_LIMIT HIT_AND_RUN_FLAG_DESC TOWED_VEHICLE_CONFIG_DESC  \\\n",
       "0                 25                   Yes                   Unknown   \n",
       "1                 55                    No            Not Applicable   \n",
       "2                 30                    No            Not Applicable   \n",
       "3                 35                   Yes            Not Applicable   \n",
       "4                 35                    No            Not Applicable   \n",
       "...              ...                   ...                       ...   \n",
       "1438803           25                    No            Not Applicable   \n",
       "1438804           35                    No            Not Applicable   \n",
       "1438805            0                    No            Not Applicable   \n",
       "1438806           40                    No            Not Applicable   \n",
       "1438807           10                   Yes            Not Applicable   \n",
       "\n",
       "        AREA_DAMAGED_CODE_MAIN_DESC  \n",
       "0                    Eleven o'clock  \n",
       "1                    Twelve o'clock  \n",
       "2                       Six o'clock  \n",
       "3                           Unknown  \n",
       "4                       Six o'clock  \n",
       "...                             ...  \n",
       "1438803              Twelve o'clock  \n",
       "1438804              Twelve o'clock  \n",
       "1438805              Eleven o'clock  \n",
       "1438806              Twelve o'clock  \n",
       "1438807              Twelve o'clock  \n",
       "\n",
       "[1438808 rows x 9 columns]"
      ]
     },
     "execution_count": 28,
     "metadata": {},
     "output_type": "execute_result"
    }
   ],
   "source": [
    "df_new"
   ]
  },
  {
   "cell_type": "code",
   "execution_count": 29,
   "id": "9ea34a57",
   "metadata": {},
   "outputs": [],
   "source": [
    "df_new.dropna(inplace=True)"
   ]
  },
  {
   "cell_type": "markdown",
   "id": "6b45f929",
   "metadata": {},
   "source": [
    "Dropping any NaN values in the Data Frame"
   ]
  },
  {
   "cell_type": "code",
   "execution_count": 31,
   "id": "138e50b5",
   "metadata": {},
   "outputs": [
    {
     "data": {
      "text/plain": [
       "(1367156, 9)"
      ]
     },
     "execution_count": 31,
     "metadata": {},
     "output_type": "execute_result"
    }
   ],
   "source": [
    "df_new.shape"
   ]
  },
  {
   "cell_type": "markdown",
   "id": "9db411dd",
   "metadata": {},
   "source": [
    "After cleaning the new Data Frame consists of 1,367,156 rows and 9 columns. "
   ]
  },
  {
   "cell_type": "markdown",
   "id": "e93a642a",
   "metadata": {},
   "source": [
    "### Exploratory Data Analysis"
   ]
  },
  {
   "cell_type": "markdown",
   "id": "01dbddf9",
   "metadata": {},
   "source": [
    "##### Distribution of the Damage caused to the vehicle"
   ]
  },
  {
   "cell_type": "code",
   "execution_count": 32,
   "id": "7b353053",
   "metadata": {},
   "outputs": [
    {
     "data": {
      "image/png": "[encoded data removed]",
      "text/plain": [
       "<Figure size 1080x576 with 1 Axes>"
      ]
     },
     "metadata": {
      "needs_background": "light"
     },
     "output_type": "display_data"
    }
   ],
   "source": [
    "sns.countplot(x='DAMAGE_DESC',palette = 'deep', data=df_new)\n",
    "plt.gcf().set_size_inches(15,8)\n",
    "plt.title('Distribution of the target variable Damage_Desc')\n",
    "plt.xlabel('Damage Description')\n",
    "plt.ylabel('Count')\n",
    "plt.show()"
   ]
  },
  {
   "cell_type": "markdown",
   "id": "728654a7",
   "metadata": {},
   "source": [
    "##### Observations"
   ]
  },
  {
   "cell_type": "markdown",
   "id": "aae17634",
   "metadata": {},
   "source": [
    "Many of the Vehicles were left in a Disabling condition followed by Superficial and Functional."
   ]
  },
  {
   "cell_type": "markdown",
   "id": "13055a64",
   "metadata": {},
   "source": [
    "##### Distribution of Vehicle that caused the Damage"
   ]
  },
  {
   "cell_type": "code",
   "execution_count": 33,
   "id": "70546fc2",
   "metadata": {},
   "outputs": [
    {
     "data": {
      "image/png": "[encoded data removed]",
      "text/plain": [
       "<Figure size 1080x576 with 1 Axes>"
      ]
     },
     "metadata": {
      "needs_background": "light"
     },
     "output_type": "display_data"
    }
   ],
   "source": [
    "sns.countplot(x='HARM_EVENT_DESC',palette = 'deep', data=df_new)\n",
    "plt.gcf().set_size_inches(15,8)\n",
    "plt.xticks(rotation='vertical')\n",
    "plt.title('Distribution of the HARM_EVENT_DESC')\n",
    "plt.xlabel('Harm Event Description')\n",
    "plt.ylabel('Count')\n",
    "plt.show()"
   ]
  },
  {
   "cell_type": "markdown",
   "id": "3ed9acd0",
   "metadata": {},
   "source": [
    "##### Observations"
   ]
  },
  {
   "cell_type": "markdown",
   "id": "13def698",
   "metadata": {},
   "source": [
    "From the Distribution we can see that most of the crashes caused are by other vehicles "
   ]
  },
  {
   "cell_type": "markdown",
   "id": "993cdd04",
   "metadata": {},
   "source": [
    "##### Distribution of the Movement of the vehicle"
   ]
  },
  {
   "cell_type": "code",
   "execution_count": 34,
   "id": "046c2d93",
   "metadata": {},
   "outputs": [
    {
     "data": {
      "image/png": "[encoded data removed]",
      "text/plain": [
       "<Figure size 1080x576 with 1 Axes>"
      ]
     },
     "metadata": {
      "needs_background": "light"
     },
     "output_type": "display_data"
    }
   ],
   "source": [
    "sns.countplot(x='MOVEMENT_DESC',palette = 'deep', data=df_new)\n",
    "plt.gcf().set_size_inches(15,8)\n",
    "plt.xticks(rotation='vertical')\n",
    "plt.title('Distribution of the MOVEMENT_DESC')\n",
    "plt.xlabel('Movement Description')\n",
    "plt.ylabel('Count')\n",
    "plt.show()"
   ]
  },
  {
   "cell_type": "markdown",
   "id": "2a34a5d7",
   "metadata": {},
   "source": [
    "##### Observations"
   ]
  },
  {
   "cell_type": "markdown",
   "id": "15147dca",
   "metadata": {},
   "source": [
    "From the Distribution we can observe that many vehicles which are invloved in a crash are moving at a constant speed."
   ]
  },
  {
   "cell_type": "markdown",
   "id": "9c9b9d0a",
   "metadata": {},
   "source": [
    "##### Distribution of the Body type of the vehicle"
   ]
  },
  {
   "cell_type": "code",
   "execution_count": 35,
   "id": "14e71ce9",
   "metadata": {},
   "outputs": [
    {
     "data": {
      "image/png": "[encoded data removed]",
      "text/plain": [
       "<Figure size 1080x576 with 1 Axes>"
      ]
     },
     "metadata": {
      "needs_background": "light"
     },
     "output_type": "display_data"
    }
   ],
   "source": [
    "sns.countplot(x='BODY_TYPE_DESC',palette = 'deep', data=df_new)\n",
    "plt.gcf().set_size_inches(15,8)\n",
    "plt.xticks(rotation='vertical')\n",
    "plt.title('Distribution of the BODY_TYPE_DESC')\n",
    "plt.xlabel('Body Type Description')\n",
    "plt.ylabel('Count')\n",
    "plt.show()"
   ]
  },
  {
   "cell_type": "markdown",
   "id": "38672911",
   "metadata": {},
   "source": [
    "##### Observations"
   ]
  },
  {
   "cell_type": "markdown",
   "id": "b735ffa2",
   "metadata": {},
   "source": [
    "Most of the cars involved in crashes are passenger cars."
   ]
  },
  {
   "cell_type": "markdown",
   "id": "117752b8",
   "metadata": {},
   "source": [
    "##### Distribution of Speed Limit"
   ]
  },
  {
   "cell_type": "code",
   "execution_count": 36,
   "id": "5f6dbde2",
   "metadata": {},
   "outputs": [
    {
     "data": {
      "image/png": "[encoded data removed]",
      "text/plain": [
       "<Figure size 1080x576 with 1 Axes>"
      ]
     },
     "metadata": {
      "needs_background": "light"
     },
     "output_type": "display_data"
    }
   ],
   "source": [
    "sns.countplot(x='SPEED_LIMIT',palette = 'deep', data=df_new)\n",
    "plt.gcf().set_size_inches(15,8)\n",
    "plt.xticks(rotation='vertical')\n",
    "plt.title('Distribution of the SPEED_LIMIT')\n",
    "plt.xlabel('Speed Limit')\n",
    "plt.ylabel('Count')\n",
    "plt.show()"
   ]
  },
  {
   "cell_type": "markdown",
   "id": "ca679227",
   "metadata": {},
   "source": [
    "##### Observations"
   ]
  },
  {
   "cell_type": "markdown",
   "id": "ded3ec67",
   "metadata": {},
   "source": [
    "Most of the places crashes occured were at places with speed limit 25"
   ]
  },
  {
   "cell_type": "markdown",
   "id": "8f00c20b",
   "metadata": {},
   "source": [
    "##### Distribution of Hit and Run "
   ]
  },
  {
   "cell_type": "code",
   "execution_count": 37,
   "id": "93142afb",
   "metadata": {},
   "outputs": [
    {
     "data": {
      "image/png": "[encoded data removed]",
      "text/plain": [
       "<Figure size 1080x576 with 1 Axes>"
      ]
     },
     "metadata": {
      "needs_background": "light"
     },
     "output_type": "display_data"
    }
   ],
   "source": [
    "sns.countplot(x='HIT_AND_RUN_FLAG_DESC',palette = 'deep', data=df_new)\n",
    "plt.gcf().set_size_inches(15,8)\n",
    "plt.xticks(rotation='vertical')\n",
    "plt.title('Distribution of the HIT_AND_RUN_FLAG_DESC')\n",
    "plt.xlabel('Hit and Run Flag')\n",
    "plt.ylabel('Count')\n",
    "plt.show()"
   ]
  },
  {
   "cell_type": "markdown",
   "id": "6568732d",
   "metadata": {},
   "source": [
    "##### Observations"
   ]
  },
  {
   "cell_type": "markdown",
   "id": "67337583",
   "metadata": {},
   "source": [
    "Many of them were not hit and run."
   ]
  },
  {
   "cell_type": "markdown",
   "id": "a2209696",
   "metadata": {},
   "source": [
    "##### Distribution of Area where the damage occurred"
   ]
  },
  {
   "cell_type": "code",
   "execution_count": 38,
   "id": "1900ac7d",
   "metadata": {},
   "outputs": [
    {
     "data": {
      "image/png": "[encoded data removed]",
      "text/plain": [
       "<Figure size 1080x576 with 1 Axes>"
      ]
     },
     "metadata": {
      "needs_background": "light"
     },
     "output_type": "display_data"
    }
   ],
   "source": [
    "sns.countplot(x='AREA_DAMAGED_CODE_MAIN_DESC',palette = 'deep', data=df_new)\n",
    "plt.gcf().set_size_inches(15,8)\n",
    "plt.xticks(rotation='vertical')\n",
    "plt.title('Distribution of the AREA_DAMAGED_CODE_MAIN_DESC')\n",
    "plt.xlabel('Place of Crash')\n",
    "plt.ylabel('Count')\n",
    "plt.show()"
   ]
  },
  {
   "cell_type": "markdown",
   "id": "e85018dd",
   "metadata": {},
   "source": [
    "##### Observations"
   ]
  },
  {
   "cell_type": "markdown",
   "id": "321a46be",
   "metadata": {},
   "source": [
    "From the Distribution we can say that most of the crashes were Rear-End or head-on."
   ]
  },
  {
   "cell_type": "markdown",
   "id": "38d649b5",
   "metadata": {},
   "source": [
    "##### Distribution of Parking"
   ]
  },
  {
   "cell_type": "code",
   "execution_count": 39,
   "id": "2490d074",
   "metadata": {},
   "outputs": [
    {
     "data": {
      "image/png": "[encoded data removed]",
      "text/plain": [
       "<Figure size 1080x576 with 1 Axes>"
      ]
     },
     "metadata": {
      "needs_background": "light"
     },
     "output_type": "display_data"
    }
   ],
   "source": [
    "sns.countplot(x='PARKED_FLAG_DESC',palette = 'deep', data=df_new)\n",
    "plt.gcf().set_size_inches(15,8)\n",
    "plt.xticks(rotation='vertical')\n",
    "plt.title('Distribution of the PARKED_FLAG_DESC')\n",
    "plt.xlabel('Car Parked Flag')\n",
    "plt.ylabel('Count')\n",
    "plt.show()"
   ]
  },
  {
   "cell_type": "markdown",
   "id": "18ca9521",
   "metadata": {},
   "source": [
    "##### Observations"
   ]
  },
  {
   "cell_type": "markdown",
   "id": "3c6d35d8",
   "metadata": {},
   "source": [
    "Most of the cars involved in the crash were not Parked."
   ]
  },
  {
   "cell_type": "markdown",
   "id": "b0f569d8",
   "metadata": {},
   "source": [
    "##### Distribution to see the type of damage caused at places with certain Speed Limit"
   ]
  },
  {
   "cell_type": "code",
   "execution_count": 40,
   "id": "8d90447d",
   "metadata": {
    "scrolled": false
   },
   "outputs": [
    {
     "data": {
      "image/png": "[encoded data removed]",
      "text/plain": [
       "<Figure size 1080x576 with 1 Axes>"
      ]
     },
     "metadata": {
      "needs_background": "light"
     },
     "output_type": "display_data"
    }
   ],
   "source": [
    "sns.boxplot(df_new.DAMAGE_DESC,df_new.SPEED_LIMIT)\n",
    "plt.gcf().set_size_inches(15,8)\n",
    "plt.xticks(rotation='vertical')\n",
    "plt.show()"
   ]
  },
  {
   "cell_type": "markdown",
   "id": "86391d57",
   "metadata": {},
   "source": [
    "##### Observations"
   ]
  },
  {
   "cell_type": "markdown",
   "id": "460716f0",
   "metadata": {},
   "source": [
    "This shows how the impact of the vehicle was by the rise of speed limit. At a speed limit of more than 40 the impact level was \"Destroyed\" or \" Disabling\". And every other impacts are at a speed limit of below 50."
   ]
  },
  {
   "cell_type": "code",
   "execution_count": null,
   "id": "309b41f4",
   "metadata": {},
   "outputs": [],
   "source": []
  }
 ],
 "metadata": {
  "kernelspec": {
   "display_name": "Python 3 (ipykernel)",
   "language": "python",
   "name": "python3"
  },
  "language_info": {
   "codemirror_mode": {
    "name": "ipython",
    "version": 3
   },
   "file_extension": ".py",
   "mimetype": "text/x-python",
   "name": "python",
   "nbconvert_exporter": "python",
   "pygments_lexer": "ipython3",
   "version": "3.9.7"
  }
 },
 "nbformat": 4,
 "nbformat_minor": 5
}
