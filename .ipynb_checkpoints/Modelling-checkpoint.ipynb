{
 "cells": [
  {
   "cell_type": "markdown",
   "id": "0037e1b2",
   "metadata": {},
   "source": [
    "# Modeling and Evaluation."
   ]
  },
  {
   "cell_type": "markdown",
   "id": "75270c33",
   "metadata": {},
   "source": [
    "### Importing all the necessaary Libraries."
   ]
  },
  {
   "cell_type": "code",
   "execution_count": 1,
   "id": "2f147ca8",
   "metadata": {},
   "outputs": [],
   "source": [
    "import pandas as pd\n",
    "import matplotlib.pyplot as plt\n",
    "import seaborn as sns\n",
    "from sklearn.pipeline import Pipeline\n",
    "from sklearn.compose import ColumnTransformer\n",
    "from sklearn.preprocessing import StandardScaler, OneHotEncoder\n",
    "from sklearn.model_selection import train_test_split\n",
    "from sklearn.linear_model import LogisticRegression\n",
    "from sklearn.tree import DecisionTreeClassifier\n",
    "from sklearn.ensemble import RandomForestClassifier\n",
    "from sklearn.neighbors import KNeighborsClassifier\n",
    "from sklearn.ensemble import GradientBoostingClassifier\n",
    "from sklearn.ensemble import VotingClassifier\n",
    "from sklearn.impute import SimpleImputer\n",
    "from sklearn.ensemble import BaggingClassifier\n",
    "from sklearn.ensemble import AdaBoostClassifier\n",
    "from sklearn.model_selection import cross_val_score\n",
    "from sklearn.model_selection import GridSearchCV\n",
    "from sklearn.metrics import confusion_matrix, classification_report\n",
    "from sklearn.metrics import roc_curve\n",
    "from sklearn.metrics import roc_auc_score\n",
    "import numpy as np\n",
    "import datetime\n",
    "import warnings\n",
    "warnings.filterwarnings('ignore')"
   ]
  },
  {
   "cell_type": "markdown",
   "id": "3921521b",
   "metadata": {},
   "source": [
    "### Reading Data into a Data Frame"
   ]
  },
  {
   "cell_type": "code",
   "execution_count": 2,
   "id": "f9fffaf4",
   "metadata": {},
   "outputs": [],
   "source": [
    "df=pd.read_csv('Maryland_Statewide_Vehicle_Crashes_-_Vehicle_Details.csv')"
   ]
  },
  {
   "cell_type": "code",
   "execution_count": 3,
   "id": "7c1f0f42",
   "metadata": {},
   "outputs": [
    {
     "data": {
      "text/html": [
       "<div>\n",
       "<style scoped>\n",
       "    .dataframe tbody tr th:only-of-type {\n",
       "        vertical-align: middle;\n",
       "    }\n",
       "\n",
       "    .dataframe tbody tr th {\n",
       "        vertical-align: top;\n",
       "    }\n",
       "\n",
       "    .dataframe thead th {\n",
       "        text-align: right;\n",
       "    }\n",
       "</style>\n",
       "<table border=\"1\" class=\"dataframe\">\n",
       "  <thead>\n",
       "    <tr style=\"text-align: right;\">\n",
       "      <th></th>\n",
       "      <th>HARM_EVENT_DESC</th>\n",
       "      <th>HARM_EVENT_CODE</th>\n",
       "      <th>CONTI_DIRECTION_DESC</th>\n",
       "      <th>CONTI_DIRECTION_CODE</th>\n",
       "      <th>DAMAGE_DESC</th>\n",
       "      <th>DAMAGE_CODE</th>\n",
       "      <th>MOVEMENT_DESC</th>\n",
       "      <th>MOVEMENT_CODE</th>\n",
       "      <th>VIN_NO</th>\n",
       "      <th>REPORT_NO</th>\n",
       "      <th>...</th>\n",
       "      <th>TOWED_VEHICLE_CONFIG_DESC</th>\n",
       "      <th>TOWED_VEHICLE_CONFIG_CODE</th>\n",
       "      <th>AREA_DAMAGED_CODE_IMP1</th>\n",
       "      <th>AREA_DAMAGED_CODE1</th>\n",
       "      <th>AREA_DAMAGED_CODE2</th>\n",
       "      <th>AREA_DAMAGED_CODE3</th>\n",
       "      <th>AREA_DAMAGED_CODE_MAIN_DESC</th>\n",
       "      <th>AREA_DAMAGED_CODE_MAIN</th>\n",
       "      <th>YEAR</th>\n",
       "      <th>Quarter</th>\n",
       "    </tr>\n",
       "  </thead>\n",
       "  <tbody>\n",
       "    <tr>\n",
       "      <th>0</th>\n",
       "      <td>Other Vehicle</td>\n",
       "      <td>1.0</td>\n",
       "      <td>North</td>\n",
       "      <td>N</td>\n",
       "      <td>Unknown</td>\n",
       "      <td>99</td>\n",
       "      <td>Unknown</td>\n",
       "      <td>99.0</td>\n",
       "      <td>NaN</td>\n",
       "      <td>AE5057004X</td>\n",
       "      <td>...</td>\n",
       "      <td>Unknown</td>\n",
       "      <td>99</td>\n",
       "      <td>11.0</td>\n",
       "      <td>10.0</td>\n",
       "      <td>11.0</td>\n",
       "      <td>12.0</td>\n",
       "      <td>Eleven o'clock</td>\n",
       "      <td>11.0</td>\n",
       "      <td>2020</td>\n",
       "      <td>Q2</td>\n",
       "    </tr>\n",
       "    <tr>\n",
       "      <th>1</th>\n",
       "      <td>Other Vehicle</td>\n",
       "      <td>1.0</td>\n",
       "      <td>North</td>\n",
       "      <td>N</td>\n",
       "      <td>Superficial</td>\n",
       "      <td>2</td>\n",
       "      <td>Moving Constant Speed</td>\n",
       "      <td>1.0</td>\n",
       "      <td>NMTKHMBX0JR025092</td>\n",
       "      <td>MSP7221001P</td>\n",
       "      <td>...</td>\n",
       "      <td>Not Applicable</td>\n",
       "      <td>0</td>\n",
       "      <td>12.0</td>\n",
       "      <td>6.0</td>\n",
       "      <td>12.0</td>\n",
       "      <td>NaN</td>\n",
       "      <td>Twelve o'clock</td>\n",
       "      <td>12.0</td>\n",
       "      <td>2020</td>\n",
       "      <td>Q2</td>\n",
       "    </tr>\n",
       "    <tr>\n",
       "      <th>2</th>\n",
       "      <td>Other Vehicle</td>\n",
       "      <td>1.0</td>\n",
       "      <td>South</td>\n",
       "      <td>S</td>\n",
       "      <td>Functional</td>\n",
       "      <td>3</td>\n",
       "      <td>Stopped in Traffic Lane</td>\n",
       "      <td>6.0</td>\n",
       "      <td>2GNAXPEX5K6103012</td>\n",
       "      <td>DA37010040</td>\n",
       "      <td>...</td>\n",
       "      <td>Not Applicable</td>\n",
       "      <td>0</td>\n",
       "      <td>6.0</td>\n",
       "      <td>6.0</td>\n",
       "      <td>NaN</td>\n",
       "      <td>NaN</td>\n",
       "      <td>Six o'clock</td>\n",
       "      <td>6.0</td>\n",
       "      <td>2020</td>\n",
       "      <td>Q2</td>\n",
       "    </tr>\n",
       "    <tr>\n",
       "      <th>3</th>\n",
       "      <td>Fixed Object</td>\n",
       "      <td>9.0</td>\n",
       "      <td>Unknown</td>\n",
       "      <td>U</td>\n",
       "      <td>Unknown</td>\n",
       "      <td>99</td>\n",
       "      <td>Not Applicable</td>\n",
       "      <td>0.0</td>\n",
       "      <td>NaN</td>\n",
       "      <td>MDTA1791002C</td>\n",
       "      <td>...</td>\n",
       "      <td>Not Applicable</td>\n",
       "      <td>0</td>\n",
       "      <td>99.0</td>\n",
       "      <td>99.0</td>\n",
       "      <td>NaN</td>\n",
       "      <td>NaN</td>\n",
       "      <td>Unknown</td>\n",
       "      <td>99.0</td>\n",
       "      <td>2020</td>\n",
       "      <td>Q2</td>\n",
       "    </tr>\n",
       "    <tr>\n",
       "      <th>4</th>\n",
       "      <td>Other Vehicle</td>\n",
       "      <td>1.0</td>\n",
       "      <td>East</td>\n",
       "      <td>E</td>\n",
       "      <td>Disabling</td>\n",
       "      <td>4</td>\n",
       "      <td>Slowing or Stopping</td>\n",
       "      <td>3.0</td>\n",
       "      <td>5FNRL18672B048550</td>\n",
       "      <td>AE456100BL</td>\n",
       "      <td>...</td>\n",
       "      <td>Not Applicable</td>\n",
       "      <td>0</td>\n",
       "      <td>6.0</td>\n",
       "      <td>6.0</td>\n",
       "      <td>12.0</td>\n",
       "      <td>NaN</td>\n",
       "      <td>Six o'clock</td>\n",
       "      <td>6.0</td>\n",
       "      <td>2020</td>\n",
       "      <td>Q2</td>\n",
       "    </tr>\n",
       "  </tbody>\n",
       "</table>\n",
       "<p>5 rows × 49 columns</p>\n",
       "</div>"
      ],
      "text/plain": [
       "  HARM_EVENT_DESC  HARM_EVENT_CODE CONTI_DIRECTION_DESC CONTI_DIRECTION_CODE  \\\n",
       "0   Other Vehicle              1.0                North                    N   \n",
       "1   Other Vehicle              1.0                North                    N   \n",
       "2   Other Vehicle              1.0                South                    S   \n",
       "3    Fixed Object              9.0              Unknown                    U   \n",
       "4   Other Vehicle              1.0                 East                    E   \n",
       "\n",
       "   DAMAGE_DESC  DAMAGE_CODE            MOVEMENT_DESC  MOVEMENT_CODE  \\\n",
       "0      Unknown           99                  Unknown           99.0   \n",
       "1  Superficial            2    Moving Constant Speed            1.0   \n",
       "2   Functional            3  Stopped in Traffic Lane            6.0   \n",
       "3      Unknown           99           Not Applicable            0.0   \n",
       "4    Disabling            4      Slowing or Stopping            3.0   \n",
       "\n",
       "              VIN_NO     REPORT_NO  ... TOWED_VEHICLE_CONFIG_DESC  \\\n",
       "0                NaN    AE5057004X  ...                   Unknown   \n",
       "1  NMTKHMBX0JR025092   MSP7221001P  ...            Not Applicable   \n",
       "2  2GNAXPEX5K6103012    DA37010040  ...            Not Applicable   \n",
       "3                NaN  MDTA1791002C  ...            Not Applicable   \n",
       "4  5FNRL18672B048550    AE456100BL  ...            Not Applicable   \n",
       "\n",
       "   TOWED_VEHICLE_CONFIG_CODE  AREA_DAMAGED_CODE_IMP1 AREA_DAMAGED_CODE1  \\\n",
       "0                         99                    11.0               10.0   \n",
       "1                          0                    12.0                6.0   \n",
       "2                          0                     6.0                6.0   \n",
       "3                          0                    99.0               99.0   \n",
       "4                          0                     6.0                6.0   \n",
       "\n",
       "  AREA_DAMAGED_CODE2 AREA_DAMAGED_CODE3 AREA_DAMAGED_CODE_MAIN_DESC  \\\n",
       "0               11.0               12.0              Eleven o'clock   \n",
       "1               12.0                NaN              Twelve o'clock   \n",
       "2                NaN                NaN                 Six o'clock   \n",
       "3                NaN                NaN                     Unknown   \n",
       "4               12.0                NaN                 Six o'clock   \n",
       "\n",
       "  AREA_DAMAGED_CODE_MAIN  YEAR Quarter  \n",
       "0                   11.0  2020      Q2  \n",
       "1                   12.0  2020      Q2  \n",
       "2                    6.0  2020      Q2  \n",
       "3                   99.0  2020      Q2  \n",
       "4                    6.0  2020      Q2  \n",
       "\n",
       "[5 rows x 49 columns]"
      ]
     },
     "execution_count": 3,
     "metadata": {},
     "output_type": "execute_result"
    }
   ],
   "source": [
    "df.head()"
   ]
  },
  {
   "cell_type": "markdown",
   "id": "1811dcb1",
   "metadata": {},
   "source": [
    "As per the EDA we are dropping the unnecessary columns. This will give us a new data set with necessary columns."
   ]
  },
  {
   "cell_type": "code",
   "execution_count": 4,
   "id": "a49f5e48",
   "metadata": {},
   "outputs": [],
   "source": [
    "# Using drop function to drop the unnecassary columns\n",
    "df_new = df.drop(columns=['HARM_EVENT_CODE', 'CONTI_DIRECTION_DESC',\n",
    "       'CONTI_DIRECTION_CODE', 'DAMAGE_CODE',\n",
    "       'MOVEMENT_CODE', 'VIN_NO', 'REPORT_NO', 'CV_BODY_TYPE_DESC',\n",
    "       'CV_BODY_TYPE_CODE', 'VEH_YEAR', 'VEH_MAKE', 'VEH_MODEL',\n",
    "       'COMMERCIAL_FLAG_DESC', 'COMMERCIAL_FLAG', 'HZM_NUM',\n",
    "       'TOWED_AWAY_FLAG_DESC', 'TOWED_AWAY_FLAG', 'NUM_AXLES', 'GVW_DESC',\n",
    "       'GVW_CODE', 'GOING_DIRECTION_DESC', 'GOING_DIRECTION_CODE', 'BODY_TYPE_CODE', 'DRIVERLESS_FLAG_DESC',\n",
    "       'DRIVERLESS_FLAG', 'FIRE_FLAG_DESC', 'FIRE_FLAG',\n",
    "       'PARKED_FLAG',\n",
    "       'HIT_AND_RUN_FLAG', 'HAZMAT_SPILL_FLAG_DESC', 'HAZMAT_SPILL_FLAG',\n",
    "       'VEHICLE_ID', 'TOWED_VEHICLE_CONFIG_CODE',\n",
    "       'AREA_DAMAGED_CODE_IMP1', 'AREA_DAMAGED_CODE1', 'AREA_DAMAGED_CODE2',\n",
    "       'AREA_DAMAGED_CODE3',\n",
    "       'AREA_DAMAGED_CODE_MAIN', 'YEAR', 'Quarter'])"
   ]
  },
  {
   "cell_type": "markdown",
   "id": "5064a3b1",
   "metadata": {},
   "source": [
    "Our target variable is \"DAMAGE_DESC\". We are looking for how many values it holds."
   ]
  },
  {
   "cell_type": "code",
   "execution_count": 5,
   "id": "2cdd2f88",
   "metadata": {},
   "outputs": [
    {
     "data": {
      "text/plain": [
       "Disabling         498282\n",
       "Superficial       363011\n",
       "Functional        355315\n",
       "Unknown            95323\n",
       "Destroyed          77503\n",
       "No Damage          40963\n",
       "Not Applicable      7062\n",
       "Other               1349\n",
       "Name: DAMAGE_DESC, dtype: int64"
      ]
     },
     "execution_count": 5,
     "metadata": {},
     "output_type": "execute_result"
    }
   ],
   "source": [
    "df_new.DAMAGE_DESC.value_counts()"
   ]
  },
  {
   "cell_type": "markdown",
   "id": "fb08224c",
   "metadata": {},
   "source": [
    "We have many classes in the target variable which will result in taking longer time for modelling and gives less precision and recall. So I am planning to shrink them to 2 classes."
   ]
  },
  {
   "cell_type": "markdown",
   "id": "028496d3",
   "metadata": {},
   "source": [
    "My main goal is to predict whether a vehicle is able to move on it's own or else we it is not functional. I have considered functional, Nod Damage and Not Applicable as Functional. The rest are Not Functional"
   ]
  },
  {
   "cell_type": "markdown",
   "id": "b77bb5f8",
   "metadata": {},
   "source": [
    "So I have created a new column new_damage_desc where I considered only Functional and No Damage as Functional and assigned rest of the classes as Not Functional."
   ]
  },
  {
   "cell_type": "code",
   "execution_count": 6,
   "id": "f53c8f80",
   "metadata": {},
   "outputs": [],
   "source": [
    "df_new['new_damage_desc'] = ['Functional' if x == 'Functional' or x == 'No Damage' or x == 'Not Applicable' else 'Not Functional' for x in df_new['DAMAGE_DESC']]"
   ]
  },
  {
   "cell_type": "markdown",
   "id": "fe10b699",
   "metadata": {},
   "source": [
    "Below is the Plot for target variable classes."
   ]
  },
  {
   "cell_type": "code",
   "execution_count": 7,
   "id": "9e2717c0",
   "metadata": {},
   "outputs": [
    {
     "data": {
      "image/png": "[encoded data removed]",
      "text/plain": [
       "<Figure size 432x288 with 1 Axes>"
      ]
     },
     "metadata": {
      "needs_background": "light"
     },
     "output_type": "display_data"
    }
   ],
   "source": [
    "df_new['new_damage_desc'].value_counts().plot.bar()\n",
    "plt.title('Distribution of Target')\n",
    "plt.show()"
   ]
  },
  {
   "cell_type": "markdown",
   "id": "544c70a0",
   "metadata": {},
   "source": [
    "We can see that there is class imbalance so we should predict by solving these class imbalances."
   ]
  },
  {
   "cell_type": "markdown",
   "id": "5b53d00a",
   "metadata": {},
   "source": [
    "##### Feature Engineering."
   ]
  },
  {
   "cell_type": "code",
   "execution_count": 8,
   "id": "6f778c7b",
   "metadata": {},
   "outputs": [
    {
     "data": {
      "text/html": [
       "<div>\n",
       "<style scoped>\n",
       "    .dataframe tbody tr th:only-of-type {\n",
       "        vertical-align: middle;\n",
       "    }\n",
       "\n",
       "    .dataframe tbody tr th {\n",
       "        vertical-align: top;\n",
       "    }\n",
       "\n",
       "    .dataframe thead th {\n",
       "        text-align: right;\n",
       "    }\n",
       "</style>\n",
       "<table border=\"1\" class=\"dataframe\">\n",
       "  <thead>\n",
       "    <tr style=\"text-align: right;\">\n",
       "      <th></th>\n",
       "      <th>HARM_EVENT_DESC</th>\n",
       "      <th>DAMAGE_DESC</th>\n",
       "      <th>MOVEMENT_DESC</th>\n",
       "      <th>BODY_TYPE_DESC</th>\n",
       "      <th>PARKED_FLAG_DESC</th>\n",
       "      <th>SPEED_LIMIT</th>\n",
       "      <th>HIT_AND_RUN_FLAG_DESC</th>\n",
       "      <th>TOWED_VEHICLE_CONFIG_DESC</th>\n",
       "      <th>AREA_DAMAGED_CODE_MAIN_DESC</th>\n",
       "      <th>new_damage_desc</th>\n",
       "    </tr>\n",
       "  </thead>\n",
       "  <tbody>\n",
       "    <tr>\n",
       "      <th>0</th>\n",
       "      <td>Other Vehicle</td>\n",
       "      <td>Unknown</td>\n",
       "      <td>Unknown</td>\n",
       "      <td>NaN</td>\n",
       "      <td>No</td>\n",
       "      <td>25</td>\n",
       "      <td>Yes</td>\n",
       "      <td>Unknown</td>\n",
       "      <td>Eleven o'clock</td>\n",
       "      <td>Not Functional</td>\n",
       "    </tr>\n",
       "    <tr>\n",
       "      <th>1</th>\n",
       "      <td>Other Vehicle</td>\n",
       "      <td>Superficial</td>\n",
       "      <td>Moving Constant Speed</td>\n",
       "      <td>Passenger Car</td>\n",
       "      <td>No</td>\n",
       "      <td>55</td>\n",
       "      <td>No</td>\n",
       "      <td>Not Applicable</td>\n",
       "      <td>Twelve o'clock</td>\n",
       "      <td>Not Functional</td>\n",
       "    </tr>\n",
       "    <tr>\n",
       "      <th>2</th>\n",
       "      <td>Other Vehicle</td>\n",
       "      <td>Functional</td>\n",
       "      <td>Stopped in Traffic Lane</td>\n",
       "      <td>(Sport) Utility Vehicle</td>\n",
       "      <td>No</td>\n",
       "      <td>30</td>\n",
       "      <td>No</td>\n",
       "      <td>Not Applicable</td>\n",
       "      <td>Six o'clock</td>\n",
       "      <td>Functional</td>\n",
       "    </tr>\n",
       "    <tr>\n",
       "      <th>3</th>\n",
       "      <td>Fixed Object</td>\n",
       "      <td>Unknown</td>\n",
       "      <td>Not Applicable</td>\n",
       "      <td>NaN</td>\n",
       "      <td>No</td>\n",
       "      <td>35</td>\n",
       "      <td>Yes</td>\n",
       "      <td>Not Applicable</td>\n",
       "      <td>Unknown</td>\n",
       "      <td>Not Functional</td>\n",
       "    </tr>\n",
       "    <tr>\n",
       "      <th>4</th>\n",
       "      <td>Other Vehicle</td>\n",
       "      <td>Disabling</td>\n",
       "      <td>Slowing or Stopping</td>\n",
       "      <td>Passenger Car</td>\n",
       "      <td>No</td>\n",
       "      <td>35</td>\n",
       "      <td>No</td>\n",
       "      <td>Not Applicable</td>\n",
       "      <td>Six o'clock</td>\n",
       "      <td>Not Functional</td>\n",
       "    </tr>\n",
       "  </tbody>\n",
       "</table>\n",
       "</div>"
      ],
      "text/plain": [
       "  HARM_EVENT_DESC  DAMAGE_DESC            MOVEMENT_DESC  \\\n",
       "0   Other Vehicle      Unknown                  Unknown   \n",
       "1   Other Vehicle  Superficial    Moving Constant Speed   \n",
       "2   Other Vehicle   Functional  Stopped in Traffic Lane   \n",
       "3    Fixed Object      Unknown           Not Applicable   \n",
       "4   Other Vehicle    Disabling      Slowing or Stopping   \n",
       "\n",
       "            BODY_TYPE_DESC PARKED_FLAG_DESC  SPEED_LIMIT  \\\n",
       "0                      NaN               No           25   \n",
       "1            Passenger Car               No           55   \n",
       "2  (Sport) Utility Vehicle               No           30   \n",
       "3                      NaN               No           35   \n",
       "4            Passenger Car               No           35   \n",
       "\n",
       "  HIT_AND_RUN_FLAG_DESC TOWED_VEHICLE_CONFIG_DESC AREA_DAMAGED_CODE_MAIN_DESC  \\\n",
       "0                   Yes                   Unknown              Eleven o'clock   \n",
       "1                    No            Not Applicable              Twelve o'clock   \n",
       "2                    No            Not Applicable                 Six o'clock   \n",
       "3                   Yes            Not Applicable                     Unknown   \n",
       "4                    No            Not Applicable                 Six o'clock   \n",
       "\n",
       "  new_damage_desc  \n",
       "0  Not Functional  \n",
       "1  Not Functional  \n",
       "2      Functional  \n",
       "3  Not Functional  \n",
       "4  Not Functional  "
      ]
     },
     "execution_count": 8,
     "metadata": {},
     "output_type": "execute_result"
    }
   ],
   "source": [
    "df_new.head()"
   ]
  },
  {
   "cell_type": "markdown",
   "id": "e891adea",
   "metadata": {},
   "source": [
    "I have taken the categorical columns and Numerical columns and created pipelines respectively. I have used imputing method of mean for numerical and most_frequent for categorical pipeline. Using them I have created a processing pipeline."
   ]
  },
  {
   "cell_type": "markdown",
   "id": "29ae11b3",
   "metadata": {},
   "source": [
    "Used Standard Scalar for strandadizig of any anomalies in the data, So the data will be standardized to a sing scale.\n",
    "Used One Hot Encoder to bring the categorical values to a nominal value."
   ]
  },
  {
   "cell_type": "code",
   "execution_count": 9,
   "id": "5efd6826",
   "metadata": {},
   "outputs": [
    {
     "data": {
      "text/plain": [
       "ColumnTransformer(transformers=[('proc_numeric',\n",
       "                                 Pipeline(steps=[('impute_missing_n',\n",
       "                                                  SimpleImputer(strategy='median')),\n",
       "                                                 ('standardize_num',\n",
       "                                                  StandardScaler())]),\n",
       "                                 ['SPEED_LIMIT']),\n",
       "                                ('create_dummies',\n",
       "                                 Pipeline(steps=[('impute_missing_c',\n",
       "                                                  SimpleImputer(strategy='most_frequent')),\n",
       "                                                 ('create_dummies_cats',\n",
       "                                                  OneHotEncoder(drop='first',\n",
       "                                                                handle_unknown='ignore'))]),\n",
       "                                 ['HARM_EVENT_DESC', 'MOVEMENT_DESC',\n",
       "                                  'BODY_TYPE_DESC', 'PARKED_FLAG_DESC',\n",
       "                                  'HIT_AND_RUN_FLAG_DESC',\n",
       "                                  'TOWED_VEHICLE_CONFIG_DESC',\n",
       "                                  'AREA_DAMAGED_CODE_MAIN_DESC'])])"
      ]
     },
     "execution_count": 9,
     "metadata": {},
     "output_type": "execute_result"
    }
   ],
   "source": [
    "cat_columns = ['HARM_EVENT_DESC','MOVEMENT_DESC','BODY_TYPE_DESC','PARKED_FLAG_DESC','HIT_AND_RUN_FLAG_DESC','TOWED_VEHICLE_CONFIG_DESC','AREA_DAMAGED_CODE_MAIN_DESC']\n",
    "num_columns = ['SPEED_LIMIT']\n",
    "\n",
    "num_pipeline = Pipeline([('impute_missing_n', SimpleImputer(missing_values = np.NaN, strategy='median')),('standardize_num', StandardScaler())])\n",
    "\n",
    "cat_pipeline = Pipeline([('impute_missing_c', SimpleImputer(missing_values= np.NaN,strategy='most_frequent')),('create_dummies_cats', OneHotEncoder(drop='first',handle_unknown='ignore'))\n",
    "                         ])\n",
    "\n",
    "processing_pipeline = ColumnTransformer(transformers=[('proc_numeric', num_pipeline, num_columns),\n",
    "                                                      ('create_dummies', cat_pipeline, cat_columns)])\n",
    "\n",
    "processing_pipeline"
   ]
  },
  {
   "cell_type": "markdown",
   "id": "ef4b79fc",
   "metadata": {},
   "source": [
    "Processing Pipeline is created."
   ]
  },
  {
   "cell_type": "markdown",
   "id": "e765be41",
   "metadata": {},
   "source": [
    "##### Splitting the Data set into test and train using train split"
   ]
  },
  {
   "cell_type": "markdown",
   "id": "6c8c762e",
   "metadata": {},
   "source": [
    "As I have created new target variable. I have removed both these from the features and considered the new target variable for y. Used 20% of the Data for training and testing."
   ]
  },
  {
   "cell_type": "code",
   "execution_count": 10,
   "id": "97b7d80e",
   "metadata": {},
   "outputs": [],
   "source": [
    "features = [x for x in df_new.columns if x != 'DAMAGE_DESC' and x!= 'new_damage_desc']\n",
    "X = df_new[features]\n",
    "y = df_new['new_damage_desc']\n",
    "X_train, X_test, y_train, y_test = train_test_split(X, y,\n",
    "                                                          test_size=0.2,\n",
    "                                                          random_state = 123)"
   ]
  },
  {
   "cell_type": "markdown",
   "id": "05057da2",
   "metadata": {},
   "source": [
    "##### Logistic Regression"
   ]
  },
  {
   "cell_type": "code",
   "execution_count": 11,
   "id": "082dd922",
   "metadata": {},
   "outputs": [
    {
     "name": "stdout",
     "output_type": "stream",
     "text": [
      "Pipeline(steps=[('processing pipeline',\n",
      "                 ColumnTransformer(transformers=[('proc_numeric',\n",
      "                                                  Pipeline(steps=[('impute_missing_n',\n",
      "                                                                   SimpleImputer(strategy='median')),\n",
      "                                                                  ('standardize_num',\n",
      "                                                                   StandardScaler())]),\n",
      "                                                  ['SPEED_LIMIT']),\n",
      "                                                 ('create_dummies',\n",
      "                                                  Pipeline(steps=[('impute_missing_c',\n",
      "                                                                   SimpleImputer(strategy='most_frequent')),\n",
      "                                                                  ('create_dummies_cats',\n",
      "                                                                   OneHotEncoder(drop='first',\n",
      "                                                                                 handle_unknown='ignore'))]),\n",
      "                                                  ['HARM_EVENT_DESC',\n",
      "                                                   'MOVEMENT_DESC',\n",
      "                                                   'BODY_TYPE_DESC',\n",
      "                                                   'PARKED_FLAG_DESC',\n",
      "                                                   'HIT_AND_RUN_FLAG_DESC',\n",
      "                                                   'TOWED_VEHICLE_CONFIG_DESC',\n",
      "                                                   'AREA_DAMAGED_CODE_MAIN_DESC'])])),\n",
      "                ('model', LogisticRegression(C=100, solver='liblinear'))])\n",
      "\n",
      "\n",
      "Validation score: 51.94%\n",
      "Test score: 51.91%\n",
      "--- 0:11:33.060575 seconds ---\n"
     ]
    }
   ],
   "source": [
    "st = datetime.datetime.now()\n",
    "p = Pipeline([('processing pipeline', processing_pipeline), \n",
    "              ('model', LogisticRegression(solver = 'liblinear'))\n",
    "             ])\n",
    "\n",
    "params = {'model__C': [0.01, 0.1, 1, 10, 100]}\n",
    "grid_search = GridSearchCV(p, param_grid=params, scoring='recall_macro', cv=10, refit=True)\n",
    "grid_search = grid_search.fit(X_train, y_train)\n",
    "print(grid_search.best_estimator_)\n",
    "print(\"\\n\")\n",
    "print(f'Validation score: {grid_search.best_score_:.2%}')\n",
    "print(f'Test score: {grid_search.score(X_test, y_test):.2%}')\n",
    "\n",
    "print(\"--- %s seconds ---\" % (datetime.datetime.now() - st))"
   ]
  },
  {
   "cell_type": "markdown",
   "id": "776bcca3",
   "metadata": {},
   "source": [
    "Created a logistic regression and have used scoring as recall_macro because we have class imbalances.\n",
    "As we can see the c value has picked 100 so below we are performing a secondary search for the same"
   ]
  },
  {
   "cell_type": "code",
   "execution_count": 12,
   "id": "017d7a61",
   "metadata": {},
   "outputs": [
    {
     "name": "stdout",
     "output_type": "stream",
     "text": [
      "Pipeline(steps=[('processing pipeline',\n",
      "                 ColumnTransformer(transformers=[('proc_numeric',\n",
      "                                                  Pipeline(steps=[('impute_missing_n',\n",
      "                                                                   SimpleImputer(strategy='median')),\n",
      "                                                                  ('standardize_num',\n",
      "                                                                   StandardScaler())]),\n",
      "                                                  ['SPEED_LIMIT']),\n",
      "                                                 ('create_dummies',\n",
      "                                                  Pipeline(steps=[('impute_missing_c',\n",
      "                                                                   SimpleImputer(strategy='most_frequent')),\n",
      "                                                                  ('create_dummies_cats',\n",
      "                                                                   OneHotEncoder(drop='first',\n",
      "                                                                                 handle_unknown='ignore'))]),\n",
      "                                                  ['HARM_EVENT_DESC',\n",
      "                                                   'MOVEMENT_DESC',\n",
      "                                                   'BODY_TYPE_DESC',\n",
      "                                                   'PARKED_FLAG_DESC',\n",
      "                                                   'HIT_AND_RUN_FLAG_DESC',\n",
      "                                                   'TOWED_VEHICLE_CONFIG_DESC',\n",
      "                                                   'AREA_DAMAGED_CODE_MAIN_DESC'])])),\n",
      "                ('model', LogisticRegression(C=500, solver='liblinear'))])\n",
      "\n",
      "\n",
      "Validation score: 51.94%\n",
      "Test score: 51.91%\n",
      "--- 0:08:08.679400 seconds ---\n"
     ]
    }
   ],
   "source": [
    "st = datetime.datetime.now()\n",
    "p = Pipeline([('processing pipeline', processing_pipeline), \n",
    "              ('model', LogisticRegression(solver = 'liblinear'))\n",
    "             ])\n",
    "\n",
    "params = {'model__C': [300,400,500]}\n",
    "grid_search = GridSearchCV(p, param_grid=params, scoring='recall_macro', cv=10, refit=True)\n",
    "grid_search = grid_search.fit(X_train, y_train)\n",
    "print(grid_search.best_estimator_)\n",
    "print(\"\\n\")\n",
    "print(f'Validation score: {grid_search.best_score_:.2%}')\n",
    "print(f'Test score: {grid_search.score(X_test, y_test):.2%}')\n",
    "print(\"--- %s seconds ---\" % (datetime.datetime.now() - st))"
   ]
  },
  {
   "cell_type": "markdown",
   "id": "7d3bfe4f",
   "metadata": {},
   "source": [
    "As we can see the c value has changed to 500, so developed a classification report below with c value 500. The classes have imbalances so we are using class weights as balanced, so the functional class will reach the non functional values."
   ]
  },
  {
   "cell_type": "code",
   "execution_count": 30,
   "id": "9076e2c5",
   "metadata": {},
   "outputs": [
    {
     "name": "stdout",
     "output_type": "stream",
     "text": [
      "                precision    recall  f1-score   support\n",
      "\n",
      "    Functional       0.37      0.60      0.46     80600\n",
      "Not Functional       0.79      0.60      0.69    207162\n",
      "\n",
      "      accuracy                           0.60    287762\n",
      "     macro avg       0.58      0.60      0.57    287762\n",
      "  weighted avg       0.67      0.60      0.62    287762\n",
      "\n"
     ]
    }
   ],
   "source": [
    "logistic_model = Pipeline([('processing_pipeline', processing_pipeline),('model', LogisticRegression(C=500, class_weight='balanced', solver='liblinear'))])\n",
    "logistic_model.fit(X_train,y_train)\n",
    "logistic_predict = logistic_model.predict(X_test)\n",
    "print(classification_report(y_test, logistic_predict))"
   ]
  },
  {
   "cell_type": "markdown",
   "id": "7b9eaf54",
   "metadata": {},
   "source": [
    "We can see that we have got an accuracy of 58% and a recall of 60%. Logistic regression model has given good results let us check the ROC curve."
   ]
  },
  {
   "cell_type": "code",
   "execution_count": 14,
   "id": "fcf32a1f",
   "metadata": {},
   "outputs": [
    {
     "data": {
      "image/png": "[encoded data removed]",
      "text/plain": [
       "<Figure size 432x288 with 1 Axes>"
      ]
     },
     "metadata": {
      "needs_background": "light"
     },
     "output_type": "display_data"
    }
   ],
   "source": [
    "y_testprobability = logistic_model.predict_proba(X_test)\n",
    "y_trainprobability = logistic_model.predict_proba(X_train)\n",
    "\n",
    "def roc(y, prob):\n",
    "    fpr, tpr, _ = roc_curve(y, prob, pos_label='Not Functional')\n",
    "    return fpr, tpr\n",
    "fpr_test, tpr_test = roc(y_test, y_testprobability[:,1])\n",
    "fpr_train, tpr_train = roc(y_train, y_trainprobability[:,1])\n",
    "auc = roc_auc_score(y_test, y_testprobability[:,1], multi_class = 'ovr')\n",
    "plt.plot(fpr_test, tpr_test,'-r')\n",
    "plt.plot(fpr_train, tpr_train,'-b')\n",
    "plt.xlabel('False Positive Rate')\n",
    "plt.ylabel('True Positive Rate')\n",
    "plt.title('ROC curve, AUC = %.2f'%auc)\n",
    "plt.legend(['Test','Training'])\n",
    "plt.plot([0, 1], [0, 1], color='navy', linestyle='--')\n",
    "plt.show()"
   ]
  },
  {
   "cell_type": "markdown",
   "id": "7bacb6dd",
   "metadata": {},
   "source": [
    "#### Observations.\n",
    "\n",
    "    By using logistic regression we got a macro avg of 58% precision and recall of 60%.\n",
    "    When it comes to damage, Not Functional has high precision with 79% and recall of 60%..\n",
    "    For Damage resulting in functional, it has a precision of 37% and recall of 60%.\n",
    "    The ROC Curve has an AUC of 0.65."
   ]
  },
  {
   "cell_type": "markdown",
   "id": "76dc9830",
   "metadata": {},
   "source": [
    "##### Decision Tree Classifier."
   ]
  },
  {
   "cell_type": "code",
   "execution_count": 15,
   "id": "f3a0ef01",
   "metadata": {},
   "outputs": [
    {
     "name": "stdout",
     "output_type": "stream",
     "text": [
      "Pipeline(steps=[('processing pipeline',\n",
      "                 ColumnTransformer(transformers=[('proc_numeric',\n",
      "                                                  Pipeline(steps=[('impute_missing_n',\n",
      "                                                                   SimpleImputer(strategy='median')),\n",
      "                                                                  ('standardize_num',\n",
      "                                                                   StandardScaler())]),\n",
      "                                                  ['SPEED_LIMIT']),\n",
      "                                                 ('create_dummies',\n",
      "                                                  Pipeline(steps=[('impute_missing_c',\n",
      "                                                                   SimpleImputer(strategy='most_frequent')),\n",
      "                                                                  ('create_dummies_cats',\n",
      "                                                                   OneHotEncoder(drop='first',\n",
      "                                                                                 handle_unknown='ignore'))]),\n",
      "                                                  ['HARM_EVENT_DESC',\n",
      "                                                   'MOVEMENT_DESC',\n",
      "                                                   'BODY_TYPE_DESC',\n",
      "                                                   'PARKED_FLAG_DESC',\n",
      "                                                   'HIT_AND_RUN_FLAG_DESC',\n",
      "                                                   'TOWED_VEHICLE_CONFIG_DESC',\n",
      "                                                   'AREA_DAMAGED_CODE_MAIN_DESC'])])),\n",
      "                ('model',\n",
      "                 DecisionTreeClassifier(max_depth=7, min_samples_split=0.1))])\n",
      "\n",
      "\n",
      "Validation score: 51.34%\n",
      "Test score: 51.37%\n",
      "--- 0:09:17.140441 seconds ---\n"
     ]
    }
   ],
   "source": [
    "st = datetime.datetime.now()\n",
    "p = Pipeline([('processing pipeline', processing_pipeline), \n",
    "              ('model', DecisionTreeClassifier())\n",
    "             ])\n",
    "\n",
    "params = {'model__max_depth': [1, 7, 15], 'model__min_samples_split' : [0.1, 0.3, 0.8]}\n",
    "\n",
    "grid_search = GridSearchCV(p, param_grid=params, scoring='recall_macro', cv=10, refit=True)\n",
    "grid_search = grid_search.fit(X_train, y_train)\n",
    "print(grid_search.best_estimator_)\n",
    "print(\"\\n\")\n",
    "print(f'Validation score: {grid_search.best_score_:.2%}')\n",
    "print(f'Test score: {grid_search.score(X_test, y_test):.2%}')\n",
    "print(\"--- %s seconds ---\" % (datetime.datetime.now() - st))"
   ]
  },
  {
   "cell_type": "markdown",
   "id": "41965898",
   "metadata": {},
   "source": [
    "We have got similar validation score compared to the Logistic Regression Model. The max depth is 7 and min_samples_split is 0.1. So let us perform a secondary search."
   ]
  },
  {
   "cell_type": "markdown",
   "id": "434fcb53",
   "metadata": {},
   "source": [
    "As it was 7 we have taken max_depth 6,7,8 the nearest neighbours. min_samples_split as 0.01,0.05,0.1 the nearest neighbours."
   ]
  },
  {
   "cell_type": "code",
   "execution_count": 16,
   "id": "930056c4",
   "metadata": {},
   "outputs": [
    {
     "name": "stdout",
     "output_type": "stream",
     "text": [
      "Pipeline(steps=[('processing pipeline',\n",
      "                 ColumnTransformer(transformers=[('proc_numeric',\n",
      "                                                  Pipeline(steps=[('impute_missing_n',\n",
      "                                                                   SimpleImputer(strategy='median')),\n",
      "                                                                  ('standardize_num',\n",
      "                                                                   StandardScaler())]),\n",
      "                                                  ['SPEED_LIMIT']),\n",
      "                                                 ('create_dummies',\n",
      "                                                  Pipeline(steps=[('impute_missing_c',\n",
      "                                                                   SimpleImputer(strategy='most_frequent')),\n",
      "                                                                  ('create_dummies_cats',\n",
      "                                                                   OneHotEncoder(drop='first',\n",
      "                                                                                 handle_unknown='ignore'))]),\n",
      "                                                  ['HARM_EVENT_DESC',\n",
      "                                                   'MOVEMENT_DESC',\n",
      "                                                   'BODY_TYPE_DESC',\n",
      "                                                   'PARKED_FLAG_DESC',\n",
      "                                                   'HIT_AND_RUN_FLAG_DESC',\n",
      "                                                   'TOWED_VEHICLE_CONFIG_DESC',\n",
      "                                                   'AREA_DAMAGED_CODE_MAIN_DESC'])])),\n",
      "                ('model',\n",
      "                 DecisionTreeClassifier(max_depth=5, min_samples_split=0.05))])\n",
      "\n",
      "\n",
      "Validation score: 52.67%\n",
      "Test score: 53.01%\n",
      "--- 0:18:22.121016 seconds ---\n"
     ]
    }
   ],
   "source": [
    "st = datetime.datetime.now()\n",
    "p = Pipeline([('processing pipeline', processing_pipeline), \n",
    "              ('model', DecisionTreeClassifier())\n",
    "             ])\n",
    "\n",
    "params = {'model__max_depth': [1,2,3,4,5,6,], 'model__min_samples_split' : [0.01, 0.05, 0.1]}\n",
    "\n",
    "grid_search = GridSearchCV(p, param_grid=params, scoring='recall_macro', cv=10, refit=True)\n",
    "grid_search = grid_search.fit(X_train, y_train)\n",
    "print(grid_search.best_estimator_)\n",
    "print(\"\\n\")\n",
    "print(f'Validation score: {grid_search.best_score_:.2%}')\n",
    "print(f'Test score: {grid_search.score(X_test, y_test):.2%}')\n",
    "print(\"--- %s seconds ---\" % (datetime.datetime.now() - st))"
   ]
  },
  {
   "cell_type": "markdown",
   "id": "5f0b85eb",
   "metadata": {},
   "source": [
    "We can see the validation scores have increased so we have used 5 as the max_depth and min_samples_split as 0.05. Used class_weights as balanced to balance the class imbalances."
   ]
  },
  {
   "cell_type": "code",
   "execution_count": 17,
   "id": "9dcf3d99",
   "metadata": {},
   "outputs": [
    {
     "name": "stdout",
     "output_type": "stream",
     "text": [
      "                precision    recall  f1-score   support\n",
      "\n",
      "    Functional       0.34      0.66      0.45     80600\n",
      "Not Functional       0.79      0.51      0.62    207162\n",
      "\n",
      "      accuracy                           0.55    287762\n",
      "     macro avg       0.57      0.58      0.53    287762\n",
      "  weighted avg       0.67      0.55      0.57    287762\n",
      "\n"
     ]
    }
   ],
   "source": [
    "decision_model = Pipeline([('processing_pipeline', processing_pipeline),('model', DecisionTreeClassifier(max_depth=5, class_weight='balanced', min_samples_split=0.05))])\n",
    "decision_model.fit(X_train,y_train)\n",
    "decision_predict = decision_model.predict(X_test)\n",
    "print(classification_report(y_test, decision_predict))"
   ]
  },
  {
   "cell_type": "markdown",
   "id": "bb6eaaab",
   "metadata": {},
   "source": [
    "We can see that we have got an macro avg of 57% for precision and a recall of 58%. There isn't a signicficant increase compared to logistic regression, let us check the ROC curve."
   ]
  },
  {
   "cell_type": "code",
   "execution_count": 18,
   "id": "26b8917d",
   "metadata": {},
   "outputs": [
    {
     "data": {
      "image/png": "[encoded data removed]",
      "text/plain": [
       "<Figure size 432x288 with 1 Axes>"
      ]
     },
     "metadata": {
      "needs_background": "light"
     },
     "output_type": "display_data"
    }
   ],
   "source": [
    "from sklearn.metrics import roc_auc_score\n",
    "import numpy as np\n",
    "y_testprobability = decision_model.predict_proba(X_test)\n",
    "y_trainprobability = decision_model.predict_proba(X_train)\n",
    "\n",
    "def roc(y, prob):\n",
    "    fpr, tpr, _ = roc_curve(y, prob, pos_label='Not Functional')\n",
    "    return fpr, tpr\n",
    "fpr_test, tpr_test = roc(y_test, y_testprobability[:,1])\n",
    "fpr_train, tpr_train = roc(y_train, y_trainprobability[:,1])\n",
    "auc = roc_auc_score(y_test, y_testprobability[:,1], multi_class = 'ovr')\n",
    "plt.plot(fpr_test, tpr_test,'-r')\n",
    "plt.plot(fpr_train, tpr_train,'-b')\n",
    "plt.xlabel('False Positive Rate')\n",
    "plt.ylabel('True Positive Rate')\n",
    "plt.title('ROC curve, AUC = %.2f'%auc)\n",
    "plt.legend(['Test','Training'])\n",
    "plt.plot([0, 1], [0, 1], color='navy', linestyle='--')\n",
    "plt.show()"
   ]
  },
  {
   "cell_type": "markdown",
   "id": "6233eebf",
   "metadata": {},
   "source": [
    "#### Observations.\n",
    "\n",
    "    By using Decision Tree we got a macro avg of 57% for precision and 58% recall.\n",
    "    When it comes damage, Not Functional has high precision with 79% and recall of 51%..\n",
    "    For Damage resulting in functional, it has a precision of 34% and recall of 66%.\n",
    "    The ROC Curve has an AUC of 0.62."
   ]
  },
  {
   "cell_type": "markdown",
   "id": "90d69f9f",
   "metadata": {},
   "source": [
    "Logistic regression has better results compared to Decision tree classifier. Let us proceed to Gradient Boosting Classifier"
   ]
  },
  {
   "cell_type": "markdown",
   "id": "c55dc9da",
   "metadata": {},
   "source": [
    "##### Gradient Boosting."
   ]
  },
  {
   "cell_type": "code",
   "execution_count": 19,
   "id": "81de88af",
   "metadata": {},
   "outputs": [
    {
     "name": "stdout",
     "output_type": "stream",
     "text": [
      "Fitting 2 folds for each of 6 candidates, totalling 12 fits\n",
      "[CV 1/2; 1/6] START gb__max_depth=1, gb__n_estimators=10........................\n",
      "[CV 1/2; 1/6] END gb__max_depth=1, gb__n_estimators=10;, score=0.500 total time=   9.3s\n",
      "[CV 2/2; 1/6] START gb__max_depth=1, gb__n_estimators=10........................\n",
      "[CV 2/2; 1/6] END gb__max_depth=1, gb__n_estimators=10;, score=0.500 total time=   9.3s\n",
      "[CV 1/2; 2/6] START gb__max_depth=1, gb__n_estimators=20........................\n",
      "[CV 1/2; 2/6] END gb__max_depth=1, gb__n_estimators=20;, score=0.500 total time=  11.9s\n",
      "[CV 2/2; 2/6] START gb__max_depth=1, gb__n_estimators=20........................\n",
      "[CV 2/2; 2/6] END gb__max_depth=1, gb__n_estimators=20;, score=0.500 total time=  11.8s\n",
      "[CV 1/2; 3/6] START gb__max_depth=1, gb__n_estimators=30........................\n",
      "[CV 1/2; 3/6] END gb__max_depth=1, gb__n_estimators=30;, score=0.501 total time=  14.7s\n",
      "[CV 2/2; 3/6] START gb__max_depth=1, gb__n_estimators=30........................\n",
      "[CV 2/2; 3/6] END gb__max_depth=1, gb__n_estimators=30;, score=0.500 total time=  14.5s\n",
      "[CV 1/2; 4/6] START gb__max_depth=3, gb__n_estimators=10........................\n",
      "[CV 1/2; 4/6] END gb__max_depth=3, gb__n_estimators=10;, score=0.501 total time=  13.2s\n",
      "[CV 2/2; 4/6] START gb__max_depth=3, gb__n_estimators=10........................\n",
      "[CV 2/2; 4/6] END gb__max_depth=3, gb__n_estimators=10;, score=0.501 total time=  13.2s\n",
      "[CV 1/2; 5/6] START gb__max_depth=3, gb__n_estimators=20........................\n",
      "[CV 1/2; 5/6] END gb__max_depth=3, gb__n_estimators=20;, score=0.509 total time=  19.5s\n",
      "[CV 2/2; 5/6] START gb__max_depth=3, gb__n_estimators=20........................\n",
      "[CV 2/2; 5/6] END gb__max_depth=3, gb__n_estimators=20;, score=0.509 total time=  19.5s\n",
      "[CV 1/2; 6/6] START gb__max_depth=3, gb__n_estimators=30........................\n",
      "[CV 1/2; 6/6] END gb__max_depth=3, gb__n_estimators=30;, score=0.512 total time=  25.7s\n",
      "[CV 2/2; 6/6] START gb__max_depth=3, gb__n_estimators=30........................\n",
      "[CV 2/2; 6/6] END gb__max_depth=3, gb__n_estimators=30;, score=0.511 total time=  25.8s\n",
      "Pipeline(steps=[('processing',\n",
      "                 ColumnTransformer(transformers=[('proc_numeric',\n",
      "                                                  Pipeline(steps=[('impute_missing_n',\n",
      "                                                                   SimpleImputer(strategy='median')),\n",
      "                                                                  ('standardize_num',\n",
      "                                                                   StandardScaler())]),\n",
      "                                                  ['SPEED_LIMIT']),\n",
      "                                                 ('create_dummies',\n",
      "                                                  Pipeline(steps=[('impute_missing_c',\n",
      "                                                                   SimpleImputer(strategy='most_frequent')),\n",
      "                                                                  ('create_dummies_cats',\n",
      "                                                                   OneHotEncoder(drop='first',\n",
      "                                                                                 handle_unknown='ignore'))]),\n",
      "                                                  ['HARM_EVENT_DESC',\n",
      "                                                   'MOVEMENT_DESC',\n",
      "                                                   'BODY_TYPE_DESC',\n",
      "                                                   'PARKED_FLAG_DESC',\n",
      "                                                   'HIT_AND_RUN_FLAG_DESC',\n",
      "                                                   'TOWED_VEHICLE_CONFIG_DESC',\n",
      "                                                   'AREA_DAMAGED_CODE_MAIN_DESC'])])),\n",
      "                ('gb', GradientBoostingClassifier(n_estimators=30))])\n",
      "\n",
      "\n",
      "Validation score: 51.15%\n",
      "Test score: 51.19%\n",
      "--- 0:04:01.057186 seconds ---\n"
     ]
    }
   ],
   "source": [
    "st = datetime.datetime.now()\n",
    "gb_p = Pipeline([('processing', processing_pipeline),\n",
    "             ('gb', GradientBoostingClassifier())])\n",
    "\n",
    "params_gb = {'gb__max_depth': [1, 3],\n",
    "         'gb__n_estimators': [10,20, 30]\n",
    "         }\n",
    "gcv_gb = GridSearchCV(gb_p, param_grid = params_gb, cv=2, scoring='recall_macro', verbose=10)\n",
    "gcv_gb = gcv_gb.fit(X_train, y_train)\n",
    "print(gcv_gb.best_estimator_)\n",
    "print(\"\\n\")\n",
    "print(f'Validation score: {gcv_gb.best_score_:.2%}')\n",
    "print(f'Test score: {gcv_gb.score(X_test, y_test):.2%}')\n",
    "print(\"--- %s seconds ---\" % (datetime.datetime.now() - st))"
   ]
  },
  {
   "cell_type": "markdown",
   "id": "1530aa1d",
   "metadata": {},
   "source": [
    "We can see that it has selected the n_estimators as 30 so we are doing a secondary search for this."
   ]
  },
  {
   "cell_type": "code",
   "execution_count": 20,
   "id": "98db8e7d",
   "metadata": {},
   "outputs": [
    {
     "name": "stdout",
     "output_type": "stream",
     "text": [
      "Fitting 2 folds for each of 6 candidates, totalling 12 fits\n",
      "[CV 1/2; 1/6] START gb__max_depth=1, gb__n_estimators=100.......................\n",
      "[CV 1/2; 1/6] END gb__max_depth=1, gb__n_estimators=100;, score=0.508 total time=  32.0s\n",
      "[CV 2/2; 1/6] START gb__max_depth=1, gb__n_estimators=100.......................\n",
      "[CV 2/2; 1/6] END gb__max_depth=1, gb__n_estimators=100;, score=0.509 total time=  31.9s\n",
      "[CV 1/2; 2/6] START gb__max_depth=1, gb__n_estimators=200.......................\n",
      "[CV 1/2; 2/6] END gb__max_depth=1, gb__n_estimators=200;, score=0.513 total time=  57.6s\n",
      "[CV 2/2; 2/6] START gb__max_depth=1, gb__n_estimators=200.......................\n",
      "[CV 2/2; 2/6] END gb__max_depth=1, gb__n_estimators=200;, score=0.513 total time= 1.3min\n",
      "[CV 1/2; 3/6] START gb__max_depth=1, gb__n_estimators=300.......................\n",
      "[CV 1/2; 3/6] END gb__max_depth=1, gb__n_estimators=300;, score=0.515 total time= 1.7min\n",
      "[CV 2/2; 3/6] START gb__max_depth=1, gb__n_estimators=300.......................\n",
      "[CV 2/2; 3/6] END gb__max_depth=1, gb__n_estimators=300;, score=0.514 total time= 1.7min\n",
      "[CV 1/2; 4/6] START gb__max_depth=3, gb__n_estimators=100.......................\n",
      "[CV 1/2; 4/6] END gb__max_depth=3, gb__n_estimators=100;, score=0.524 total time= 1.4min\n",
      "[CV 2/2; 4/6] START gb__max_depth=3, gb__n_estimators=100.......................\n",
      "[CV 2/2; 4/6] END gb__max_depth=3, gb__n_estimators=100;, score=0.523 total time= 1.4min\n",
      "[CV 1/2; 5/6] START gb__max_depth=3, gb__n_estimators=200.......................\n",
      "[CV 1/2; 5/6] END gb__max_depth=3, gb__n_estimators=200;, score=0.525 total time= 2.9min\n",
      "[CV 2/2; 5/6] START gb__max_depth=3, gb__n_estimators=200.......................\n",
      "[CV 2/2; 5/6] END gb__max_depth=3, gb__n_estimators=200;, score=0.525 total time= 3.2min\n",
      "[CV 1/2; 6/6] START gb__max_depth=3, gb__n_estimators=300.......................\n",
      "[CV 1/2; 6/6] END gb__max_depth=3, gb__n_estimators=300;, score=0.526 total time= 3.7min\n",
      "[CV 2/2; 6/6] START gb__max_depth=3, gb__n_estimators=300.......................\n",
      "[CV 2/2; 6/6] END gb__max_depth=3, gb__n_estimators=300;, score=0.526 total time= 3.9min\n",
      "Pipeline(steps=[('processing',\n",
      "                 ColumnTransformer(transformers=[('proc_numeric',\n",
      "                                                  Pipeline(steps=[('impute_missing_n',\n",
      "                                                                   SimpleImputer(strategy='median')),\n",
      "                                                                  ('standardize_num',\n",
      "                                                                   StandardScaler())]),\n",
      "                                                  ['SPEED_LIMIT']),\n",
      "                                                 ('create_dummies',\n",
      "                                                  Pipeline(steps=[('impute_missing_c',\n",
      "                                                                   SimpleImputer(strategy='most_frequent')),\n",
      "                                                                  ('create_dummies_cats',\n",
      "                                                                   OneHotEncoder(drop='first',\n",
      "                                                                                 handle_unknown='ignore'))]),\n",
      "                                                  ['HARM_EVENT_DESC',\n",
      "                                                   'MOVEMENT_DESC',\n",
      "                                                   'BODY_TYPE_DESC',\n",
      "                                                   'PARKED_FLAG_DESC',\n",
      "                                                   'HIT_AND_RUN_FLAG_DESC',\n",
      "                                                   'TOWED_VEHICLE_CONFIG_DESC',\n",
      "                                                   'AREA_DAMAGED_CODE_MAIN_DESC'])])),\n",
      "                ('gb', GradientBoostingClassifier(n_estimators=300))])\n",
      "\n",
      "\n",
      "Validation score: 52.62%\n",
      "Test score: 52.65%\n",
      "--- 0:32:53.700738 seconds ---\n"
     ]
    }
   ],
   "source": [
    "st = datetime.datetime.now()\n",
    "gb_p = Pipeline([('processing', processing_pipeline),\n",
    "             ('gb', GradientBoostingClassifier())])\n",
    "\n",
    "params_gb = {'gb__max_depth': [1, 3],\n",
    "         'gb__n_estimators': [100,200, 300]\n",
    "         }\n",
    "\n",
    "gcv_gb = GridSearchCV(gb_p, param_grid = params_gb, cv=2, scoring='recall_macro', verbose=10)\n",
    "gcv_gb = gcv_gb.fit(X_train, y_train)\n",
    "print(gcv_gb.best_estimator_)\n",
    "print(\"\\n\")\n",
    "print(f'Validation score: {gcv_gb.best_score_:.2%}')\n",
    "print(f'Test score: {gcv_gb.score(X_test, y_test):.2%}')\n",
    "print(\"--- %s seconds ---\" % (datetime.datetime.now() - st))"
   ]
  },
  {
   "cell_type": "markdown",
   "id": "1262b373",
   "metadata": {},
   "source": [
    "Now after the secondary search we are checking the classification report."
   ]
  },
  {
   "cell_type": "code",
   "execution_count": 21,
   "id": "50380e1d",
   "metadata": {},
   "outputs": [
    {
     "name": "stdout",
     "output_type": "stream",
     "text": [
      "                precision    recall  f1-score   support\n",
      "\n",
      "    Functional       0.34      0.66      0.45     80600\n",
      "Not Functional       0.79      0.51      0.62    207162\n",
      "\n",
      "      accuracy                           0.55    287762\n",
      "     macro avg       0.57      0.58      0.53    287762\n",
      "  weighted avg       0.67      0.55      0.57    287762\n",
      "\n"
     ]
    }
   ],
   "source": [
    "gb_model = Pipeline([('processing_pipeline', processing_pipeline),('model', GradientBoostingClassifier(n_estimators=300))])\n",
    "gb_model.fit(X_train,y_train)\n",
    "gb_predict = gb_model.predict(X_test)\n",
    "print(classification_report(y_test, decision_predict))"
   ]
  },
  {
   "cell_type": "markdown",
   "id": "73a309a9",
   "metadata": {},
   "source": [
    "We can see that we have got an macro avg of 57% for precision and a recall of 58%. There isn't an increase compared to logistic regression, let us check the ROC curve."
   ]
  },
  {
   "cell_type": "code",
   "execution_count": 22,
   "id": "01d7b1a3",
   "metadata": {},
   "outputs": [
    {
     "data": {
      "image/png": "[encoded data removed]",
      "text/plain": [
       "<Figure size 432x288 with 1 Axes>"
      ]
     },
     "metadata": {
      "needs_background": "light"
     },
     "output_type": "display_data"
    }
   ],
   "source": [
    "y_testprobability = gb_model.predict_proba(X_test)\n",
    "y_trainprobability = gb_model.predict_proba(X_train)\n",
    "\n",
    "def roc(y, prob):\n",
    "    fpr, tpr, _ = roc_curve(y, prob, pos_label='Not Functional')\n",
    "    return fpr, tpr\n",
    "fpr_test, tpr_test = roc(y_test, y_testprobability[:,1])\n",
    "fpr_train, tpr_train = roc(y_train, y_trainprobability[:,1])\n",
    "auc = roc_auc_score(y_test, y_testprobability[:,1], multi_class = 'ovr')\n",
    "plt.plot(fpr_test, tpr_test,'-r')\n",
    "plt.plot(fpr_train, tpr_train,'-b')\n",
    "plt.xlabel('False Positive Rate')\n",
    "plt.ylabel('True Positive Rate')\n",
    "plt.title('ROC curve, AUC = %.2f'%auc)\n",
    "plt.legend(['Test','Training'])\n",
    "plt.plot([0, 1], [0, 1], color='navy', linestyle='--')\n",
    "plt.show()"
   ]
  },
  {
   "cell_type": "markdown",
   "id": "93b2377e",
   "metadata": {},
   "source": [
    "#### Observations.\n",
    "\n",
    "    By using Gradient Boosting classifier we got a macro avg of 57% for precision and 58% recall.\n",
    "    When it comes damage, Not Functional has high precision with 79% and recall of 51%.\n",
    "    For Damage resulting in functional, it has a precision of 34% and recall of 66%.\n",
    "    The ROC Curve has an AUC of 0.67 which is greater than logistic regression."
   ]
  },
  {
   "cell_type": "markdown",
   "id": "b09e3b8d",
   "metadata": {},
   "source": [
    "##### Random Forrest"
   ]
  },
  {
   "cell_type": "code",
   "execution_count": 23,
   "id": "155da786",
   "metadata": {},
   "outputs": [
    {
     "name": "stdout",
     "output_type": "stream",
     "text": [
      "Fitting 5 folds for each of 54 candidates, totalling 270 fits\n",
      "[CV 1/5; 1/54] START rf__class_weight=balanced, rf__max_depth=5, rf__max_samples=1000, rf__n_estimators=10\n",
      "[CV 1/5; 1/54] END rf__class_weight=balanced, rf__max_depth=5, rf__max_samples=1000, rf__n_estimators=10;, score=0.589 total time=   7.1s\n",
      "[CV 2/5; 1/54] START rf__class_weight=balanced, rf__max_depth=5, rf__max_samples=1000, rf__n_estimators=10\n",
      "[CV 2/5; 1/54] END rf__class_weight=balanced, rf__max_depth=5, rf__max_samples=1000, rf__n_estimators=10;, score=0.580 total time=   7.2s\n",
      "[CV 3/5; 1/54] START rf__class_weight=balanced, rf__max_depth=5, rf__max_samples=1000, rf__n_estimators=10\n",
      "[CV 3/5; 1/54] END rf__class_weight=balanced, rf__max_depth=5, rf__max_samples=1000, rf__n_estimators=10;, score=0.580 total time=   7.2s\n",
      "[CV 4/5; 1/54] START rf__class_weight=balanced, rf__max_depth=5, rf__max_samples=1000, rf__n_estimators=10\n",
      "[CV 4/5; 1/54] END rf__class_weight=balanced, rf__max_depth=5, rf__max_samples=1000, rf__n_estimators=10;, score=0.581 total time=   7.1s\n",
      "[CV 5/5; 1/54] START rf__class_weight=balanced, rf__max_depth=5, rf__max_samples=1000, rf__n_estimators=10\n",
      "[CV 5/5; 1/54] END rf__class_weight=balanced, rf__max_depth=5, rf__max_samples=1000, rf__n_estimators=10;, score=0.587 total time=   7.3s\n",
      "[CV 1/5; 2/54] START rf__class_weight=balanced, rf__max_depth=5, rf__max_samples=1000, rf__n_estimators=50\n",
      "[CV 1/5; 2/54] END rf__class_weight=balanced, rf__max_depth=5, rf__max_samples=1000, rf__n_estimators=50;, score=0.591 total time=  12.0s\n",
      "[CV 2/5; 2/54] START rf__class_weight=balanced, rf__max_depth=5, rf__max_samples=1000, rf__n_estimators=50\n",
      "[CV 2/5; 2/54] END rf__class_weight=balanced, rf__max_depth=5, rf__max_samples=1000, rf__n_estimators=50;, score=0.585 total time=  12.0s\n",
      "[CV 3/5; 2/54] START rf__class_weight=balanced, rf__max_depth=5, rf__max_samples=1000, rf__n_estimators=50\n",
      "[CV 3/5; 2/54] END rf__class_weight=balanced, rf__max_depth=5, rf__max_samples=1000, rf__n_estimators=50;, score=0.586 total time=  11.9s\n",
      "[CV 4/5; 2/54] START rf__class_weight=balanced, rf__max_depth=5, rf__max_samples=1000, rf__n_estimators=50\n",
      "[CV 4/5; 2/54] END rf__class_weight=balanced, rf__max_depth=5, rf__max_samples=1000, rf__n_estimators=50;, score=0.587 total time=  11.9s\n",
      "[CV 5/5; 2/54] START rf__class_weight=balanced, rf__max_depth=5, rf__max_samples=1000, rf__n_estimators=50\n",
      "[CV 5/5; 2/54] END rf__class_weight=balanced, rf__max_depth=5, rf__max_samples=1000, rf__n_estimators=50;, score=0.591 total time=  11.9s\n",
      "[CV 1/5; 3/54] START rf__class_weight=balanced, rf__max_depth=5, rf__max_samples=1000, rf__n_estimators=100\n",
      "[CV 1/5; 3/54] END rf__class_weight=balanced, rf__max_depth=5, rf__max_samples=1000, rf__n_estimators=100;, score=0.589 total time=  17.9s\n",
      "[CV 2/5; 3/54] START rf__class_weight=balanced, rf__max_depth=5, rf__max_samples=1000, rf__n_estimators=100\n",
      "[CV 2/5; 3/54] END rf__class_weight=balanced, rf__max_depth=5, rf__max_samples=1000, rf__n_estimators=100;, score=0.595 total time=  17.9s\n",
      "[CV 3/5; 3/54] START rf__class_weight=balanced, rf__max_depth=5, rf__max_samples=1000, rf__n_estimators=100\n",
      "[CV 3/5; 3/54] END rf__class_weight=balanced, rf__max_depth=5, rf__max_samples=1000, rf__n_estimators=100;, score=0.593 total time=  17.9s\n",
      "[CV 4/5; 3/54] START rf__class_weight=balanced, rf__max_depth=5, rf__max_samples=1000, rf__n_estimators=100\n",
      "[CV 4/5; 3/54] END rf__class_weight=balanced, rf__max_depth=5, rf__max_samples=1000, rf__n_estimators=100;, score=0.592 total time=  17.7s\n",
      "[CV 5/5; 3/54] START rf__class_weight=balanced, rf__max_depth=5, rf__max_samples=1000, rf__n_estimators=100\n",
      "[CV 5/5; 3/54] END rf__class_weight=balanced, rf__max_depth=5, rf__max_samples=1000, rf__n_estimators=100;, score=0.593 total time=  17.9s\n",
      "[CV 1/5; 4/54] START rf__class_weight=balanced, rf__max_depth=5, rf__max_samples=2000, rf__n_estimators=10\n",
      "[CV 1/5; 4/54] END rf__class_weight=balanced, rf__max_depth=5, rf__max_samples=2000, rf__n_estimators=10;, score=0.584 total time=   7.3s\n",
      "[CV 2/5; 4/54] START rf__class_weight=balanced, rf__max_depth=5, rf__max_samples=2000, rf__n_estimators=10\n",
      "[CV 2/5; 4/54] END rf__class_weight=balanced, rf__max_depth=5, rf__max_samples=2000, rf__n_estimators=10;, score=0.588 total time=   7.2s\n",
      "[CV 3/5; 4/54] START rf__class_weight=balanced, rf__max_depth=5, rf__max_samples=2000, rf__n_estimators=10\n",
      "[CV 3/5; 4/54] END rf__class_weight=balanced, rf__max_depth=5, rf__max_samples=2000, rf__n_estimators=10;, score=0.586 total time=   7.2s\n",
      "[CV 4/5; 4/54] START rf__class_weight=balanced, rf__max_depth=5, rf__max_samples=2000, rf__n_estimators=10\n",
      "[CV 4/5; 4/54] END rf__class_weight=balanced, rf__max_depth=5, rf__max_samples=2000, rf__n_estimators=10;, score=0.590 total time=   7.4s\n",
      "[CV 5/5; 4/54] START rf__class_weight=balanced, rf__max_depth=5, rf__max_samples=2000, rf__n_estimators=10\n",
      "[CV 5/5; 4/54] END rf__class_weight=balanced, rf__max_depth=5, rf__max_samples=2000, rf__n_estimators=10;, score=0.585 total time=   7.2s\n",
      "[CV 1/5; 5/54] START rf__class_weight=balanced, rf__max_depth=5, rf__max_samples=2000, rf__n_estimators=50\n",
      "[CV 1/5; 5/54] END rf__class_weight=balanced, rf__max_depth=5, rf__max_samples=2000, rf__n_estimators=50;, score=0.585 total time=  12.2s\n",
      "[CV 2/5; 5/54] START rf__class_weight=balanced, rf__max_depth=5, rf__max_samples=2000, rf__n_estimators=50\n",
      "[CV 2/5; 5/54] END rf__class_weight=balanced, rf__max_depth=5, rf__max_samples=2000, rf__n_estimators=50;, score=0.595 total time=  12.1s\n",
      "[CV 3/5; 5/54] START rf__class_weight=balanced, rf__max_depth=5, rf__max_samples=2000, rf__n_estimators=50\n",
      "[CV 3/5; 5/54] END rf__class_weight=balanced, rf__max_depth=5, rf__max_samples=2000, rf__n_estimators=50;, score=0.595 total time=  12.2s\n",
      "[CV 4/5; 5/54] START rf__class_weight=balanced, rf__max_depth=5, rf__max_samples=2000, rf__n_estimators=50\n",
      "[CV 4/5; 5/54] END rf__class_weight=balanced, rf__max_depth=5, rf__max_samples=2000, rf__n_estimators=50;, score=0.592 total time=  12.2s\n",
      "[CV 5/5; 5/54] START rf__class_weight=balanced, rf__max_depth=5, rf__max_samples=2000, rf__n_estimators=50\n",
      "[CV 5/5; 5/54] END rf__class_weight=balanced, rf__max_depth=5, rf__max_samples=2000, rf__n_estimators=50;, score=0.594 total time=  12.2s\n",
      "[CV 1/5; 6/54] START rf__class_weight=balanced, rf__max_depth=5, rf__max_samples=2000, rf__n_estimators=100\n",
      "[CV 1/5; 6/54] END rf__class_weight=balanced, rf__max_depth=5, rf__max_samples=2000, rf__n_estimators=100;, score=0.590 total time=  18.3s\n",
      "[CV 2/5; 6/54] START rf__class_weight=balanced, rf__max_depth=5, rf__max_samples=2000, rf__n_estimators=100\n",
      "[CV 2/5; 6/54] END rf__class_weight=balanced, rf__max_depth=5, rf__max_samples=2000, rf__n_estimators=100;, score=0.593 total time=  18.3s\n",
      "[CV 3/5; 6/54] START rf__class_weight=balanced, rf__max_depth=5, rf__max_samples=2000, rf__n_estimators=100\n",
      "[CV 3/5; 6/54] END rf__class_weight=balanced, rf__max_depth=5, rf__max_samples=2000, rf__n_estimators=100;, score=0.593 total time=  18.3s\n",
      "[CV 4/5; 6/54] START rf__class_weight=balanced, rf__max_depth=5, rf__max_samples=2000, rf__n_estimators=100\n",
      "[CV 4/5; 6/54] END rf__class_weight=balanced, rf__max_depth=5, rf__max_samples=2000, rf__n_estimators=100;, score=0.595 total time=  18.2s\n",
      "[CV 5/5; 6/54] START rf__class_weight=balanced, rf__max_depth=5, rf__max_samples=2000, rf__n_estimators=100\n",
      "[CV 5/5; 6/54] END rf__class_weight=balanced, rf__max_depth=5, rf__max_samples=2000, rf__n_estimators=100;, score=0.599 total time=  18.6s\n",
      "[CV 1/5; 7/54] START rf__class_weight=balanced, rf__max_depth=5, rf__max_samples=5000, rf__n_estimators=10\n",
      "[CV 1/5; 7/54] END rf__class_weight=balanced, rf__max_depth=5, rf__max_samples=5000, rf__n_estimators=10;, score=0.591 total time=   7.3s\n",
      "[CV 2/5; 7/54] START rf__class_weight=balanced, rf__max_depth=5, rf__max_samples=5000, rf__n_estimators=10\n",
      "[CV 2/5; 7/54] END rf__class_weight=balanced, rf__max_depth=5, rf__max_samples=5000, rf__n_estimators=10;, score=0.593 total time=   7.3s\n",
      "[CV 3/5; 7/54] START rf__class_weight=balanced, rf__max_depth=5, rf__max_samples=5000, rf__n_estimators=10\n",
      "[CV 3/5; 7/54] END rf__class_weight=balanced, rf__max_depth=5, rf__max_samples=5000, rf__n_estimators=10;, score=0.588 total time=   7.3s\n",
      "[CV 4/5; 7/54] START rf__class_weight=balanced, rf__max_depth=5, rf__max_samples=5000, rf__n_estimators=10\n"
     ]
    },
    {
     "name": "stdout",
     "output_type": "stream",
     "text": [
      "[CV 4/5; 7/54] END rf__class_weight=balanced, rf__max_depth=5, rf__max_samples=5000, rf__n_estimators=10;, score=0.588 total time=   7.3s\n",
      "[CV 5/5; 7/54] START rf__class_weight=balanced, rf__max_depth=5, rf__max_samples=5000, rf__n_estimators=10\n",
      "[CV 5/5; 7/54] END rf__class_weight=balanced, rf__max_depth=5, rf__max_samples=5000, rf__n_estimators=10;, score=0.592 total time=   7.3s\n",
      "[CV 1/5; 8/54] START rf__class_weight=balanced, rf__max_depth=5, rf__max_samples=5000, rf__n_estimators=50\n",
      "[CV 1/5; 8/54] END rf__class_weight=balanced, rf__max_depth=5, rf__max_samples=5000, rf__n_estimators=50;, score=0.594 total time=  12.5s\n",
      "[CV 2/5; 8/54] START rf__class_weight=balanced, rf__max_depth=5, rf__max_samples=5000, rf__n_estimators=50\n",
      "[CV 2/5; 8/54] END rf__class_weight=balanced, rf__max_depth=5, rf__max_samples=5000, rf__n_estimators=50;, score=0.591 total time=  12.6s\n",
      "[CV 3/5; 8/54] START rf__class_weight=balanced, rf__max_depth=5, rf__max_samples=5000, rf__n_estimators=50\n",
      "[CV 3/5; 8/54] END rf__class_weight=balanced, rf__max_depth=5, rf__max_samples=5000, rf__n_estimators=50;, score=0.589 total time=  12.5s\n",
      "[CV 4/5; 8/54] START rf__class_weight=balanced, rf__max_depth=5, rf__max_samples=5000, rf__n_estimators=50\n",
      "[CV 4/5; 8/54] END rf__class_weight=balanced, rf__max_depth=5, rf__max_samples=5000, rf__n_estimators=50;, score=0.597 total time=  12.6s\n",
      "[CV 5/5; 8/54] START rf__class_weight=balanced, rf__max_depth=5, rf__max_samples=5000, rf__n_estimators=50\n",
      "[CV 5/5; 8/54] END rf__class_weight=balanced, rf__max_depth=5, rf__max_samples=5000, rf__n_estimators=50;, score=0.598 total time=  12.7s\n",
      "[CV 1/5; 9/54] START rf__class_weight=balanced, rf__max_depth=5, rf__max_samples=5000, rf__n_estimators=100\n",
      "[CV 1/5; 9/54] END rf__class_weight=balanced, rf__max_depth=5, rf__max_samples=5000, rf__n_estimators=100;, score=0.594 total time=  19.2s\n",
      "[CV 2/5; 9/54] START rf__class_weight=balanced, rf__max_depth=5, rf__max_samples=5000, rf__n_estimators=100\n",
      "[CV 2/5; 9/54] END rf__class_weight=balanced, rf__max_depth=5, rf__max_samples=5000, rf__n_estimators=100;, score=0.594 total time=  19.1s\n",
      "[CV 3/5; 9/54] START rf__class_weight=balanced, rf__max_depth=5, rf__max_samples=5000, rf__n_estimators=100\n",
      "[CV 3/5; 9/54] END rf__class_weight=balanced, rf__max_depth=5, rf__max_samples=5000, rf__n_estimators=100;, score=0.597 total time=  19.1s\n",
      "[CV 4/5; 9/54] START rf__class_weight=balanced, rf__max_depth=5, rf__max_samples=5000, rf__n_estimators=100\n",
      "[CV 4/5; 9/54] END rf__class_weight=balanced, rf__max_depth=5, rf__max_samples=5000, rf__n_estimators=100;, score=0.594 total time=  19.1s\n",
      "[CV 5/5; 9/54] START rf__class_weight=balanced, rf__max_depth=5, rf__max_samples=5000, rf__n_estimators=100\n",
      "[CV 5/5; 9/54] END rf__class_weight=balanced, rf__max_depth=5, rf__max_samples=5000, rf__n_estimators=100;, score=0.599 total time=  19.1s\n",
      "[CV 1/5; 10/54] START rf__class_weight=balanced, rf__max_depth=10, rf__max_samples=1000, rf__n_estimators=10\n",
      "[CV 1/5; 10/54] END rf__class_weight=balanced, rf__max_depth=10, rf__max_samples=1000, rf__n_estimators=10;, score=0.584 total time=   7.5s\n",
      "[CV 2/5; 10/54] START rf__class_weight=balanced, rf__max_depth=10, rf__max_samples=1000, rf__n_estimators=10\n",
      "[CV 2/5; 10/54] END rf__class_weight=balanced, rf__max_depth=10, rf__max_samples=1000, rf__n_estimators=10;, score=0.576 total time=   7.7s\n",
      "[CV 3/5; 10/54] START rf__class_weight=balanced, rf__max_depth=10, rf__max_samples=1000, rf__n_estimators=10\n",
      "[CV 3/5; 10/54] END rf__class_weight=balanced, rf__max_depth=10, rf__max_samples=1000, rf__n_estimators=10;, score=0.579 total time=   7.4s\n",
      "[CV 4/5; 10/54] START rf__class_weight=balanced, rf__max_depth=10, rf__max_samples=1000, rf__n_estimators=10\n",
      "[CV 4/5; 10/54] END rf__class_weight=balanced, rf__max_depth=10, rf__max_samples=1000, rf__n_estimators=10;, score=0.583 total time=   7.5s\n",
      "[CV 5/5; 10/54] START rf__class_weight=balanced, rf__max_depth=10, rf__max_samples=1000, rf__n_estimators=10\n",
      "[CV 5/5; 10/54] END rf__class_weight=balanced, rf__max_depth=10, rf__max_samples=1000, rf__n_estimators=10;, score=0.586 total time=   7.6s\n",
      "[CV 1/5; 11/54] START rf__class_weight=balanced, rf__max_depth=10, rf__max_samples=1000, rf__n_estimators=50\n",
      "[CV 1/5; 11/54] END rf__class_weight=balanced, rf__max_depth=10, rf__max_samples=1000, rf__n_estimators=50;, score=0.584 total time=  13.3s\n",
      "[CV 2/5; 11/54] START rf__class_weight=balanced, rf__max_depth=10, rf__max_samples=1000, rf__n_estimators=50\n",
      "[CV 2/5; 11/54] END rf__class_weight=balanced, rf__max_depth=10, rf__max_samples=1000, rf__n_estimators=50;, score=0.593 total time=  13.5s\n",
      "[CV 3/5; 11/54] START rf__class_weight=balanced, rf__max_depth=10, rf__max_samples=1000, rf__n_estimators=50\n",
      "[CV 3/5; 11/54] END rf__class_weight=balanced, rf__max_depth=10, rf__max_samples=1000, rf__n_estimators=50;, score=0.590 total time=  13.3s\n",
      "[CV 4/5; 11/54] START rf__class_weight=balanced, rf__max_depth=10, rf__max_samples=1000, rf__n_estimators=50\n",
      "[CV 4/5; 11/54] END rf__class_weight=balanced, rf__max_depth=10, rf__max_samples=1000, rf__n_estimators=50;, score=0.588 total time=  13.4s\n",
      "[CV 5/5; 11/54] START rf__class_weight=balanced, rf__max_depth=10, rf__max_samples=1000, rf__n_estimators=50\n",
      "[CV 5/5; 11/54] END rf__class_weight=balanced, rf__max_depth=10, rf__max_samples=1000, rf__n_estimators=50;, score=0.587 total time=  13.6s\n",
      "[CV 1/5; 12/54] START rf__class_weight=balanced, rf__max_depth=10, rf__max_samples=1000, rf__n_estimators=100\n",
      "[CV 1/5; 12/54] END rf__class_weight=balanced, rf__max_depth=10, rf__max_samples=1000, rf__n_estimators=100;, score=0.588 total time=  20.8s\n",
      "[CV 2/5; 12/54] START rf__class_weight=balanced, rf__max_depth=10, rf__max_samples=1000, rf__n_estimators=100\n",
      "[CV 2/5; 12/54] END rf__class_weight=balanced, rf__max_depth=10, rf__max_samples=1000, rf__n_estimators=100;, score=0.590 total time=  20.8s\n",
      "[CV 3/5; 12/54] START rf__class_weight=balanced, rf__max_depth=10, rf__max_samples=1000, rf__n_estimators=100\n",
      "[CV 3/5; 12/54] END rf__class_weight=balanced, rf__max_depth=10, rf__max_samples=1000, rf__n_estimators=100;, score=0.591 total time=  20.6s\n",
      "[CV 4/5; 12/54] START rf__class_weight=balanced, rf__max_depth=10, rf__max_samples=1000, rf__n_estimators=100\n",
      "[CV 4/5; 12/54] END rf__class_weight=balanced, rf__max_depth=10, rf__max_samples=1000, rf__n_estimators=100;, score=0.589 total time=  20.9s\n",
      "[CV 5/5; 12/54] START rf__class_weight=balanced, rf__max_depth=10, rf__max_samples=1000, rf__n_estimators=100\n",
      "[CV 5/5; 12/54] END rf__class_weight=balanced, rf__max_depth=10, rf__max_samples=1000, rf__n_estimators=100;, score=0.591 total time=  20.9s\n",
      "[CV 1/5; 13/54] START rf__class_weight=balanced, rf__max_depth=10, rf__max_samples=2000, rf__n_estimators=10\n",
      "[CV 1/5; 13/54] END rf__class_weight=balanced, rf__max_depth=10, rf__max_samples=2000, rf__n_estimators=10;, score=0.587 total time=   7.9s\n",
      "[CV 2/5; 13/54] START rf__class_weight=balanced, rf__max_depth=10, rf__max_samples=2000, rf__n_estimators=10\n",
      "[CV 2/5; 13/54] END rf__class_weight=balanced, rf__max_depth=10, rf__max_samples=2000, rf__n_estimators=10;, score=0.587 total time=   7.6s\n",
      "[CV 3/5; 13/54] START rf__class_weight=balanced, rf__max_depth=10, rf__max_samples=2000, rf__n_estimators=10\n",
      "[CV 3/5; 13/54] END rf__class_weight=balanced, rf__max_depth=10, rf__max_samples=2000, rf__n_estimators=10;, score=0.586 total time=   7.7s\n",
      "[CV 4/5; 13/54] START rf__class_weight=balanced, rf__max_depth=10, rf__max_samples=2000, rf__n_estimators=10\n",
      "[CV 4/5; 13/54] END rf__class_weight=balanced, rf__max_depth=10, rf__max_samples=2000, rf__n_estimators=10;, score=0.589 total time=   7.8s\n",
      "[CV 5/5; 13/54] START rf__class_weight=balanced, rf__max_depth=10, rf__max_samples=2000, rf__n_estimators=10\n",
      "[CV 5/5; 13/54] END rf__class_weight=balanced, rf__max_depth=10, rf__max_samples=2000, rf__n_estimators=10;, score=0.583 total time=   7.6s\n",
      "[CV 1/5; 14/54] START rf__class_weight=balanced, rf__max_depth=10, rf__max_samples=2000, rf__n_estimators=50\n",
      "[CV 1/5; 14/54] END rf__class_weight=balanced, rf__max_depth=10, rf__max_samples=2000, rf__n_estimators=50;, score=0.593 total time=  14.6s\n",
      "[CV 2/5; 14/54] START rf__class_weight=balanced, rf__max_depth=10, rf__max_samples=2000, rf__n_estimators=50\n",
      "[CV 2/5; 14/54] END rf__class_weight=balanced, rf__max_depth=10, rf__max_samples=2000, rf__n_estimators=50;, score=0.596 total time=  14.5s\n",
      "[CV 3/5; 14/54] START rf__class_weight=balanced, rf__max_depth=10, rf__max_samples=2000, rf__n_estimators=50\n"
     ]
    },
    {
     "name": "stdout",
     "output_type": "stream",
     "text": [
      "[CV 3/5; 14/54] END rf__class_weight=balanced, rf__max_depth=10, rf__max_samples=2000, rf__n_estimators=50;, score=0.591 total time=  14.5s\n",
      "[CV 4/5; 14/54] START rf__class_weight=balanced, rf__max_depth=10, rf__max_samples=2000, rf__n_estimators=50\n",
      "[CV 4/5; 14/54] END rf__class_weight=balanced, rf__max_depth=10, rf__max_samples=2000, rf__n_estimators=50;, score=0.594 total time=  14.5s\n",
      "[CV 5/5; 14/54] START rf__class_weight=balanced, rf__max_depth=10, rf__max_samples=2000, rf__n_estimators=50\n",
      "[CV 5/5; 14/54] END rf__class_weight=balanced, rf__max_depth=10, rf__max_samples=2000, rf__n_estimators=50;, score=0.592 total time=  14.3s\n",
      "[CV 1/5; 15/54] START rf__class_weight=balanced, rf__max_depth=10, rf__max_samples=2000, rf__n_estimators=100\n",
      "[CV 1/5; 15/54] END rf__class_weight=balanced, rf__max_depth=10, rf__max_samples=2000, rf__n_estimators=100;, score=0.593 total time=  22.7s\n",
      "[CV 2/5; 15/54] START rf__class_weight=balanced, rf__max_depth=10, rf__max_samples=2000, rf__n_estimators=100\n",
      "[CV 2/5; 15/54] END rf__class_weight=balanced, rf__max_depth=10, rf__max_samples=2000, rf__n_estimators=100;, score=0.594 total time=  23.2s\n",
      "[CV 3/5; 15/54] START rf__class_weight=balanced, rf__max_depth=10, rf__max_samples=2000, rf__n_estimators=100\n",
      "[CV 3/5; 15/54] END rf__class_weight=balanced, rf__max_depth=10, rf__max_samples=2000, rf__n_estimators=100;, score=0.592 total time=  22.8s\n",
      "[CV 4/5; 15/54] START rf__class_weight=balanced, rf__max_depth=10, rf__max_samples=2000, rf__n_estimators=100\n",
      "[CV 4/5; 15/54] END rf__class_weight=balanced, rf__max_depth=10, rf__max_samples=2000, rf__n_estimators=100;, score=0.597 total time=  22.9s\n",
      "[CV 5/5; 15/54] START rf__class_weight=balanced, rf__max_depth=10, rf__max_samples=2000, rf__n_estimators=100\n",
      "[CV 5/5; 15/54] END rf__class_weight=balanced, rf__max_depth=10, rf__max_samples=2000, rf__n_estimators=100;, score=0.601 total time=  23.0s\n",
      "[CV 1/5; 16/54] START rf__class_weight=balanced, rf__max_depth=10, rf__max_samples=5000, rf__n_estimators=10\n",
      "[CV 1/5; 16/54] END rf__class_weight=balanced, rf__max_depth=10, rf__max_samples=5000, rf__n_estimators=10;, score=0.592 total time=   8.1s\n",
      "[CV 2/5; 16/54] START rf__class_weight=balanced, rf__max_depth=10, rf__max_samples=5000, rf__n_estimators=10\n",
      "[CV 2/5; 16/54] END rf__class_weight=balanced, rf__max_depth=10, rf__max_samples=5000, rf__n_estimators=10;, score=0.592 total time=   8.0s\n",
      "[CV 3/5; 16/54] START rf__class_weight=balanced, rf__max_depth=10, rf__max_samples=5000, rf__n_estimators=10\n",
      "[CV 3/5; 16/54] END rf__class_weight=balanced, rf__max_depth=10, rf__max_samples=5000, rf__n_estimators=10;, score=0.596 total time=   8.0s\n",
      "[CV 4/5; 16/54] START rf__class_weight=balanced, rf__max_depth=10, rf__max_samples=5000, rf__n_estimators=10\n",
      "[CV 4/5; 16/54] END rf__class_weight=balanced, rf__max_depth=10, rf__max_samples=5000, rf__n_estimators=10;, score=0.596 total time=   8.0s\n",
      "[CV 5/5; 16/54] START rf__class_weight=balanced, rf__max_depth=10, rf__max_samples=5000, rf__n_estimators=10\n",
      "[CV 5/5; 16/54] END rf__class_weight=balanced, rf__max_depth=10, rf__max_samples=5000, rf__n_estimators=10;, score=0.597 total time=   8.1s\n",
      "[CV 1/5; 17/54] START rf__class_weight=balanced, rf__max_depth=10, rf__max_samples=5000, rf__n_estimators=50\n",
      "[CV 1/5; 17/54] END rf__class_weight=balanced, rf__max_depth=10, rf__max_samples=5000, rf__n_estimators=50;, score=0.598 total time=  16.1s\n",
      "[CV 2/5; 17/54] START rf__class_weight=balanced, rf__max_depth=10, rf__max_samples=5000, rf__n_estimators=50\n",
      "[CV 2/5; 17/54] END rf__class_weight=balanced, rf__max_depth=10, rf__max_samples=5000, rf__n_estimators=50;, score=0.602 total time=  16.4s\n",
      "[CV 3/5; 17/54] START rf__class_weight=balanced, rf__max_depth=10, rf__max_samples=5000, rf__n_estimators=50\n",
      "[CV 3/5; 17/54] END rf__class_weight=balanced, rf__max_depth=10, rf__max_samples=5000, rf__n_estimators=50;, score=0.600 total time=  16.4s\n",
      "[CV 4/5; 17/54] START rf__class_weight=balanced, rf__max_depth=10, rf__max_samples=5000, rf__n_estimators=50\n",
      "[CV 4/5; 17/54] END rf__class_weight=balanced, rf__max_depth=10, rf__max_samples=5000, rf__n_estimators=50;, score=0.599 total time=  16.1s\n",
      "[CV 5/5; 17/54] START rf__class_weight=balanced, rf__max_depth=10, rf__max_samples=5000, rf__n_estimators=50\n",
      "[CV 5/5; 17/54] END rf__class_weight=balanced, rf__max_depth=10, rf__max_samples=5000, rf__n_estimators=50;, score=0.602 total time=  16.3s\n",
      "[CV 1/5; 18/54] START rf__class_weight=balanced, rf__max_depth=10, rf__max_samples=5000, rf__n_estimators=100\n",
      "[CV 1/5; 18/54] END rf__class_weight=balanced, rf__max_depth=10, rf__max_samples=5000, rf__n_estimators=100;, score=0.599 total time=  26.3s\n",
      "[CV 2/5; 18/54] START rf__class_weight=balanced, rf__max_depth=10, rf__max_samples=5000, rf__n_estimators=100\n",
      "[CV 2/5; 18/54] END rf__class_weight=balanced, rf__max_depth=10, rf__max_samples=5000, rf__n_estimators=100;, score=0.602 total time=  26.4s\n",
      "[CV 3/5; 18/54] START rf__class_weight=balanced, rf__max_depth=10, rf__max_samples=5000, rf__n_estimators=100\n",
      "[CV 3/5; 18/54] END rf__class_weight=balanced, rf__max_depth=10, rf__max_samples=5000, rf__n_estimators=100;, score=0.602 total time=  26.5s\n",
      "[CV 4/5; 18/54] START rf__class_weight=balanced, rf__max_depth=10, rf__max_samples=5000, rf__n_estimators=100\n",
      "[CV 4/5; 18/54] END rf__class_weight=balanced, rf__max_depth=10, rf__max_samples=5000, rf__n_estimators=100;, score=0.600 total time=  26.5s\n",
      "[CV 5/5; 18/54] START rf__class_weight=balanced, rf__max_depth=10, rf__max_samples=5000, rf__n_estimators=100\n",
      "[CV 5/5; 18/54] END rf__class_weight=balanced, rf__max_depth=10, rf__max_samples=5000, rf__n_estimators=100;, score=0.603 total time=  26.7s\n",
      "[CV 1/5; 19/54] START rf__class_weight=balanced, rf__max_depth=15, rf__max_samples=1000, rf__n_estimators=10\n",
      "[CV 1/5; 19/54] END rf__class_weight=balanced, rf__max_depth=15, rf__max_samples=1000, rf__n_estimators=10;, score=0.565 total time=   7.7s\n",
      "[CV 2/5; 19/54] START rf__class_weight=balanced, rf__max_depth=15, rf__max_samples=1000, rf__n_estimators=10\n",
      "[CV 2/5; 19/54] END rf__class_weight=balanced, rf__max_depth=15, rf__max_samples=1000, rf__n_estimators=10;, score=0.573 total time=   7.8s\n",
      "[CV 3/5; 19/54] START rf__class_weight=balanced, rf__max_depth=15, rf__max_samples=1000, rf__n_estimators=10\n",
      "[CV 3/5; 19/54] END rf__class_weight=balanced, rf__max_depth=15, rf__max_samples=1000, rf__n_estimators=10;, score=0.570 total time=   8.1s\n",
      "[CV 4/5; 19/54] START rf__class_weight=balanced, rf__max_depth=15, rf__max_samples=1000, rf__n_estimators=10\n",
      "[CV 4/5; 19/54] END rf__class_weight=balanced, rf__max_depth=15, rf__max_samples=1000, rf__n_estimators=10;, score=0.576 total time=   7.7s\n",
      "[CV 5/5; 19/54] START rf__class_weight=balanced, rf__max_depth=15, rf__max_samples=1000, rf__n_estimators=10\n",
      "[CV 5/5; 19/54] END rf__class_weight=balanced, rf__max_depth=15, rf__max_samples=1000, rf__n_estimators=10;, score=0.575 total time=   7.9s\n",
      "[CV 1/5; 20/54] START rf__class_weight=balanced, rf__max_depth=15, rf__max_samples=1000, rf__n_estimators=50\n",
      "[CV 1/5; 20/54] END rf__class_weight=balanced, rf__max_depth=15, rf__max_samples=1000, rf__n_estimators=50;, score=0.574 total time=  15.4s\n",
      "[CV 2/5; 20/54] START rf__class_weight=balanced, rf__max_depth=15, rf__max_samples=1000, rf__n_estimators=50\n",
      "[CV 2/5; 20/54] END rf__class_weight=balanced, rf__max_depth=15, rf__max_samples=1000, rf__n_estimators=50;, score=0.575 total time=  15.5s\n",
      "[CV 3/5; 20/54] START rf__class_weight=balanced, rf__max_depth=15, rf__max_samples=1000, rf__n_estimators=50\n",
      "[CV 3/5; 20/54] END rf__class_weight=balanced, rf__max_depth=15, rf__max_samples=1000, rf__n_estimators=50;, score=0.574 total time=  15.4s\n",
      "[CV 4/5; 20/54] START rf__class_weight=balanced, rf__max_depth=15, rf__max_samples=1000, rf__n_estimators=50\n",
      "[CV 4/5; 20/54] END rf__class_weight=balanced, rf__max_depth=15, rf__max_samples=1000, rf__n_estimators=50;, score=0.575 total time=  15.4s\n",
      "[CV 5/5; 20/54] START rf__class_weight=balanced, rf__max_depth=15, rf__max_samples=1000, rf__n_estimators=50\n",
      "[CV 5/5; 20/54] END rf__class_weight=balanced, rf__max_depth=15, rf__max_samples=1000, rf__n_estimators=50;, score=0.576 total time=  15.4s\n",
      "[CV 1/5; 21/54] START rf__class_weight=balanced, rf__max_depth=15, rf__max_samples=1000, rf__n_estimators=100\n"
     ]
    },
    {
     "name": "stdout",
     "output_type": "stream",
     "text": [
      "[CV 1/5; 21/54] END rf__class_weight=balanced, rf__max_depth=15, rf__max_samples=1000, rf__n_estimators=100;, score=0.572 total time=  24.4s\n",
      "[CV 2/5; 21/54] START rf__class_weight=balanced, rf__max_depth=15, rf__max_samples=1000, rf__n_estimators=100\n",
      "[CV 2/5; 21/54] END rf__class_weight=balanced, rf__max_depth=15, rf__max_samples=1000, rf__n_estimators=100;, score=0.575 total time=  24.7s\n",
      "[CV 3/5; 21/54] START rf__class_weight=balanced, rf__max_depth=15, rf__max_samples=1000, rf__n_estimators=100\n",
      "[CV 3/5; 21/54] END rf__class_weight=balanced, rf__max_depth=15, rf__max_samples=1000, rf__n_estimators=100;, score=0.576 total time=  24.7s\n",
      "[CV 4/5; 21/54] START rf__class_weight=balanced, rf__max_depth=15, rf__max_samples=1000, rf__n_estimators=100\n",
      "[CV 4/5; 21/54] END rf__class_weight=balanced, rf__max_depth=15, rf__max_samples=1000, rf__n_estimators=100;, score=0.577 total time=  24.7s\n",
      "[CV 5/5; 21/54] START rf__class_weight=balanced, rf__max_depth=15, rf__max_samples=1000, rf__n_estimators=100\n",
      "[CV 5/5; 21/54] END rf__class_weight=balanced, rf__max_depth=15, rf__max_samples=1000, rf__n_estimators=100;, score=0.581 total time=  25.1s\n",
      "[CV 1/5; 22/54] START rf__class_weight=balanced, rf__max_depth=15, rf__max_samples=2000, rf__n_estimators=10\n",
      "[CV 1/5; 22/54] END rf__class_weight=balanced, rf__max_depth=15, rf__max_samples=2000, rf__n_estimators=10;, score=0.580 total time=   8.3s\n",
      "[CV 2/5; 22/54] START rf__class_weight=balanced, rf__max_depth=15, rf__max_samples=2000, rf__n_estimators=10\n",
      "[CV 2/5; 22/54] END rf__class_weight=balanced, rf__max_depth=15, rf__max_samples=2000, rf__n_estimators=10;, score=0.581 total time=   8.2s\n",
      "[CV 3/5; 22/54] START rf__class_weight=balanced, rf__max_depth=15, rf__max_samples=2000, rf__n_estimators=10\n",
      "[CV 3/5; 22/54] END rf__class_weight=balanced, rf__max_depth=15, rf__max_samples=2000, rf__n_estimators=10;, score=0.582 total time=   8.4s\n",
      "[CV 4/5; 22/54] START rf__class_weight=balanced, rf__max_depth=15, rf__max_samples=2000, rf__n_estimators=10\n",
      "[CV 4/5; 22/54] END rf__class_weight=balanced, rf__max_depth=15, rf__max_samples=2000, rf__n_estimators=10;, score=0.578 total time=   8.2s\n",
      "[CV 5/5; 22/54] START rf__class_weight=balanced, rf__max_depth=15, rf__max_samples=2000, rf__n_estimators=10\n",
      "[CV 5/5; 22/54] END rf__class_weight=balanced, rf__max_depth=15, rf__max_samples=2000, rf__n_estimators=10;, score=0.589 total time=   8.4s\n",
      "[CV 1/5; 23/54] START rf__class_weight=balanced, rf__max_depth=15, rf__max_samples=2000, rf__n_estimators=50\n",
      "[CV 1/5; 23/54] END rf__class_weight=balanced, rf__max_depth=15, rf__max_samples=2000, rf__n_estimators=50;, score=0.585 total time=  17.4s\n",
      "[CV 2/5; 23/54] START rf__class_weight=balanced, rf__max_depth=15, rf__max_samples=2000, rf__n_estimators=50\n",
      "[CV 2/5; 23/54] END rf__class_weight=balanced, rf__max_depth=15, rf__max_samples=2000, rf__n_estimators=50;, score=0.587 total time=  17.7s\n",
      "[CV 3/5; 23/54] START rf__class_weight=balanced, rf__max_depth=15, rf__max_samples=2000, rf__n_estimators=50\n",
      "[CV 3/5; 23/54] END rf__class_weight=balanced, rf__max_depth=15, rf__max_samples=2000, rf__n_estimators=50;, score=0.585 total time=  17.4s\n",
      "[CV 4/5; 23/54] START rf__class_weight=balanced, rf__max_depth=15, rf__max_samples=2000, rf__n_estimators=50\n",
      "[CV 4/5; 23/54] END rf__class_weight=balanced, rf__max_depth=15, rf__max_samples=2000, rf__n_estimators=50;, score=0.585 total time=  17.7s\n",
      "[CV 5/5; 23/54] START rf__class_weight=balanced, rf__max_depth=15, rf__max_samples=2000, rf__n_estimators=50\n",
      "[CV 5/5; 23/54] END rf__class_weight=balanced, rf__max_depth=15, rf__max_samples=2000, rf__n_estimators=50;, score=0.584 total time=  18.9s\n",
      "[CV 1/5; 24/54] START rf__class_weight=balanced, rf__max_depth=15, rf__max_samples=2000, rf__n_estimators=100\n",
      "[CV 1/5; 24/54] END rf__class_weight=balanced, rf__max_depth=15, rf__max_samples=2000, rf__n_estimators=100;, score=0.583 total time=  30.0s\n",
      "[CV 2/5; 24/54] START rf__class_weight=balanced, rf__max_depth=15, rf__max_samples=2000, rf__n_estimators=100\n",
      "[CV 2/5; 24/54] END rf__class_weight=balanced, rf__max_depth=15, rf__max_samples=2000, rf__n_estimators=100;, score=0.590 total time=  29.3s\n",
      "[CV 3/5; 24/54] START rf__class_weight=balanced, rf__max_depth=15, rf__max_samples=2000, rf__n_estimators=100\n",
      "[CV 3/5; 24/54] END rf__class_weight=balanced, rf__max_depth=15, rf__max_samples=2000, rf__n_estimators=100;, score=0.586 total time=  29.7s\n",
      "[CV 4/5; 24/54] START rf__class_weight=balanced, rf__max_depth=15, rf__max_samples=2000, rf__n_estimators=100\n",
      "[CV 4/5; 24/54] END rf__class_weight=balanced, rf__max_depth=15, rf__max_samples=2000, rf__n_estimators=100;, score=0.588 total time=  28.6s\n",
      "[CV 5/5; 24/54] START rf__class_weight=balanced, rf__max_depth=15, rf__max_samples=2000, rf__n_estimators=100\n",
      "[CV 5/5; 24/54] END rf__class_weight=balanced, rf__max_depth=15, rf__max_samples=2000, rf__n_estimators=100;, score=0.586 total time=  27.3s\n",
      "[CV 1/5; 25/54] START rf__class_weight=balanced, rf__max_depth=15, rf__max_samples=5000, rf__n_estimators=10\n",
      "[CV 1/5; 25/54] END rf__class_weight=balanced, rf__max_depth=15, rf__max_samples=5000, rf__n_estimators=10;, score=0.589 total time=   8.6s\n",
      "[CV 2/5; 25/54] START rf__class_weight=balanced, rf__max_depth=15, rf__max_samples=5000, rf__n_estimators=10\n",
      "[CV 2/5; 25/54] END rf__class_weight=balanced, rf__max_depth=15, rf__max_samples=5000, rf__n_estimators=10;, score=0.590 total time=   8.6s\n",
      "[CV 3/5; 25/54] START rf__class_weight=balanced, rf__max_depth=15, rf__max_samples=5000, rf__n_estimators=10\n",
      "[CV 3/5; 25/54] END rf__class_weight=balanced, rf__max_depth=15, rf__max_samples=5000, rf__n_estimators=10;, score=0.590 total time=   8.8s\n",
      "[CV 4/5; 25/54] START rf__class_weight=balanced, rf__max_depth=15, rf__max_samples=5000, rf__n_estimators=10\n",
      "[CV 4/5; 25/54] END rf__class_weight=balanced, rf__max_depth=15, rf__max_samples=5000, rf__n_estimators=10;, score=0.592 total time=   8.5s\n",
      "[CV 5/5; 25/54] START rf__class_weight=balanced, rf__max_depth=15, rf__max_samples=5000, rf__n_estimators=10\n",
      "[CV 5/5; 25/54] END rf__class_weight=balanced, rf__max_depth=15, rf__max_samples=5000, rf__n_estimators=10;, score=0.592 total time=   8.6s\n",
      "[CV 1/5; 26/54] START rf__class_weight=balanced, rf__max_depth=15, rf__max_samples=5000, rf__n_estimators=50\n",
      "[CV 1/5; 26/54] END rf__class_weight=balanced, rf__max_depth=15, rf__max_samples=5000, rf__n_estimators=50;, score=0.594 total time=  21.0s\n",
      "[CV 2/5; 26/54] START rf__class_weight=balanced, rf__max_depth=15, rf__max_samples=5000, rf__n_estimators=50\n",
      "[CV 2/5; 26/54] END rf__class_weight=balanced, rf__max_depth=15, rf__max_samples=5000, rf__n_estimators=50;, score=0.594 total time=  20.9s\n",
      "[CV 3/5; 26/54] START rf__class_weight=balanced, rf__max_depth=15, rf__max_samples=5000, rf__n_estimators=50\n",
      "[CV 3/5; 26/54] END rf__class_weight=balanced, rf__max_depth=15, rf__max_samples=5000, rf__n_estimators=50;, score=0.599 total time=  20.9s\n",
      "[CV 4/5; 26/54] START rf__class_weight=balanced, rf__max_depth=15, rf__max_samples=5000, rf__n_estimators=50\n",
      "[CV 4/5; 26/54] END rf__class_weight=balanced, rf__max_depth=15, rf__max_samples=5000, rf__n_estimators=50;, score=0.597 total time=  20.4s\n",
      "[CV 5/5; 26/54] START rf__class_weight=balanced, rf__max_depth=15, rf__max_samples=5000, rf__n_estimators=50\n",
      "[CV 5/5; 26/54] END rf__class_weight=balanced, rf__max_depth=15, rf__max_samples=5000, rf__n_estimators=50;, score=0.599 total time=  21.2s\n",
      "[CV 1/5; 27/54] START rf__class_weight=balanced, rf__max_depth=15, rf__max_samples=5000, rf__n_estimators=100\n",
      "[CV 1/5; 27/54] END rf__class_weight=balanced, rf__max_depth=15, rf__max_samples=5000, rf__n_estimators=100;, score=0.595 total time=  35.2s\n",
      "[CV 2/5; 27/54] START rf__class_weight=balanced, rf__max_depth=15, rf__max_samples=5000, rf__n_estimators=100\n",
      "[CV 2/5; 27/54] END rf__class_weight=balanced, rf__max_depth=15, rf__max_samples=5000, rf__n_estimators=100;, score=0.599 total time=  35.6s\n",
      "[CV 3/5; 27/54] START rf__class_weight=balanced, rf__max_depth=15, rf__max_samples=5000, rf__n_estimators=100\n",
      "[CV 3/5; 27/54] END rf__class_weight=balanced, rf__max_depth=15, rf__max_samples=5000, rf__n_estimators=100;, score=0.598 total time=  35.8s\n",
      "[CV 4/5; 27/54] START rf__class_weight=balanced, rf__max_depth=15, rf__max_samples=5000, rf__n_estimators=100\n"
     ]
    },
    {
     "name": "stdout",
     "output_type": "stream",
     "text": [
      "[CV 4/5; 27/54] END rf__class_weight=balanced, rf__max_depth=15, rf__max_samples=5000, rf__n_estimators=100;, score=0.597 total time=  35.1s\n",
      "[CV 5/5; 27/54] START rf__class_weight=balanced, rf__max_depth=15, rf__max_samples=5000, rf__n_estimators=100\n",
      "[CV 5/5; 27/54] END rf__class_weight=balanced, rf__max_depth=15, rf__max_samples=5000, rf__n_estimators=100;, score=0.601 total time=  35.1s\n",
      "[CV 1/5; 28/54] START rf__class_weight=balanced_subsample, rf__max_depth=5, rf__max_samples=1000, rf__n_estimators=10\n",
      "[CV 1/5; 28/54] END rf__class_weight=balanced_subsample, rf__max_depth=5, rf__max_samples=1000, rf__n_estimators=10;, score=0.586 total time=   6.5s\n",
      "[CV 2/5; 28/54] START rf__class_weight=balanced_subsample, rf__max_depth=5, rf__max_samples=1000, rf__n_estimators=10\n",
      "[CV 2/5; 28/54] END rf__class_weight=balanced_subsample, rf__max_depth=5, rf__max_samples=1000, rf__n_estimators=10;, score=0.586 total time=   6.6s\n",
      "[CV 3/5; 28/54] START rf__class_weight=balanced_subsample, rf__max_depth=5, rf__max_samples=1000, rf__n_estimators=10\n",
      "[CV 3/5; 28/54] END rf__class_weight=balanced_subsample, rf__max_depth=5, rf__max_samples=1000, rf__n_estimators=10;, score=0.585 total time=   6.4s\n",
      "[CV 4/5; 28/54] START rf__class_weight=balanced_subsample, rf__max_depth=5, rf__max_samples=1000, rf__n_estimators=10\n",
      "[CV 4/5; 28/54] END rf__class_weight=balanced_subsample, rf__max_depth=5, rf__max_samples=1000, rf__n_estimators=10;, score=0.580 total time=   6.5s\n",
      "[CV 5/5; 28/54] START rf__class_weight=balanced_subsample, rf__max_depth=5, rf__max_samples=1000, rf__n_estimators=10\n",
      "[CV 5/5; 28/54] END rf__class_weight=balanced_subsample, rf__max_depth=5, rf__max_samples=1000, rf__n_estimators=10;, score=0.588 total time=   6.5s\n",
      "[CV 1/5; 29/54] START rf__class_weight=balanced_subsample, rf__max_depth=5, rf__max_samples=1000, rf__n_estimators=50\n",
      "[CV 1/5; 29/54] END rf__class_weight=balanced_subsample, rf__max_depth=5, rf__max_samples=1000, rf__n_estimators=50;, score=0.592 total time=  12.4s\n",
      "[CV 2/5; 29/54] START rf__class_weight=balanced_subsample, rf__max_depth=5, rf__max_samples=1000, rf__n_estimators=50\n",
      "[CV 2/5; 29/54] END rf__class_weight=balanced_subsample, rf__max_depth=5, rf__max_samples=1000, rf__n_estimators=50;, score=0.589 total time=  12.5s\n",
      "[CV 3/5; 29/54] START rf__class_weight=balanced_subsample, rf__max_depth=5, rf__max_samples=1000, rf__n_estimators=50\n",
      "[CV 3/5; 29/54] END rf__class_weight=balanced_subsample, rf__max_depth=5, rf__max_samples=1000, rf__n_estimators=50;, score=0.589 total time=  12.4s\n",
      "[CV 4/5; 29/54] START rf__class_weight=balanced_subsample, rf__max_depth=5, rf__max_samples=1000, rf__n_estimators=50\n",
      "[CV 4/5; 29/54] END rf__class_weight=balanced_subsample, rf__max_depth=5, rf__max_samples=1000, rf__n_estimators=50;, score=0.595 total time=  12.5s\n",
      "[CV 5/5; 29/54] START rf__class_weight=balanced_subsample, rf__max_depth=5, rf__max_samples=1000, rf__n_estimators=50\n",
      "[CV 5/5; 29/54] END rf__class_weight=balanced_subsample, rf__max_depth=5, rf__max_samples=1000, rf__n_estimators=50;, score=0.593 total time=  12.7s\n",
      "[CV 1/5; 30/54] START rf__class_weight=balanced_subsample, rf__max_depth=5, rf__max_samples=1000, rf__n_estimators=100\n",
      "[CV 1/5; 30/54] END rf__class_weight=balanced_subsample, rf__max_depth=5, rf__max_samples=1000, rf__n_estimators=100;, score=0.591 total time=  20.0s\n",
      "[CV 2/5; 30/54] START rf__class_weight=balanced_subsample, rf__max_depth=5, rf__max_samples=1000, rf__n_estimators=100\n",
      "[CV 2/5; 30/54] END rf__class_weight=balanced_subsample, rf__max_depth=5, rf__max_samples=1000, rf__n_estimators=100;, score=0.593 total time=  20.1s\n",
      "[CV 3/5; 30/54] START rf__class_weight=balanced_subsample, rf__max_depth=5, rf__max_samples=1000, rf__n_estimators=100\n",
      "[CV 3/5; 30/54] END rf__class_weight=balanced_subsample, rf__max_depth=5, rf__max_samples=1000, rf__n_estimators=100;, score=0.594 total time=  19.9s\n",
      "[CV 4/5; 30/54] START rf__class_weight=balanced_subsample, rf__max_depth=5, rf__max_samples=1000, rf__n_estimators=100\n",
      "[CV 4/5; 30/54] END rf__class_weight=balanced_subsample, rf__max_depth=5, rf__max_samples=1000, rf__n_estimators=100;, score=0.596 total time=  19.9s\n",
      "[CV 5/5; 30/54] START rf__class_weight=balanced_subsample, rf__max_depth=5, rf__max_samples=1000, rf__n_estimators=100\n",
      "[CV 5/5; 30/54] END rf__class_weight=balanced_subsample, rf__max_depth=5, rf__max_samples=1000, rf__n_estimators=100;, score=0.599 total time=  20.1s\n",
      "[CV 1/5; 31/54] START rf__class_weight=balanced_subsample, rf__max_depth=5, rf__max_samples=2000, rf__n_estimators=10\n",
      "[CV 1/5; 31/54] END rf__class_weight=balanced_subsample, rf__max_depth=5, rf__max_samples=2000, rf__n_estimators=10;, score=0.589 total time=   6.5s\n",
      "[CV 2/5; 31/54] START rf__class_weight=balanced_subsample, rf__max_depth=5, rf__max_samples=2000, rf__n_estimators=10\n",
      "[CV 2/5; 31/54] END rf__class_weight=balanced_subsample, rf__max_depth=5, rf__max_samples=2000, rf__n_estimators=10;, score=0.592 total time=   6.5s\n",
      "[CV 3/5; 31/54] START rf__class_weight=balanced_subsample, rf__max_depth=5, rf__max_samples=2000, rf__n_estimators=10\n",
      "[CV 3/5; 31/54] END rf__class_weight=balanced_subsample, rf__max_depth=5, rf__max_samples=2000, rf__n_estimators=10;, score=0.585 total time=   6.6s\n",
      "[CV 4/5; 31/54] START rf__class_weight=balanced_subsample, rf__max_depth=5, rf__max_samples=2000, rf__n_estimators=10\n",
      "[CV 4/5; 31/54] END rf__class_weight=balanced_subsample, rf__max_depth=5, rf__max_samples=2000, rf__n_estimators=10;, score=0.585 total time=   6.5s\n",
      "[CV 5/5; 31/54] START rf__class_weight=balanced_subsample, rf__max_depth=5, rf__max_samples=2000, rf__n_estimators=10\n",
      "[CV 5/5; 31/54] END rf__class_weight=balanced_subsample, rf__max_depth=5, rf__max_samples=2000, rf__n_estimators=10;, score=0.594 total time=   6.5s\n",
      "[CV 1/5; 32/54] START rf__class_weight=balanced_subsample, rf__max_depth=5, rf__max_samples=2000, rf__n_estimators=50\n",
      "[CV 1/5; 32/54] END rf__class_weight=balanced_subsample, rf__max_depth=5, rf__max_samples=2000, rf__n_estimators=50;, score=0.590 total time=  12.7s\n",
      "[CV 2/5; 32/54] START rf__class_weight=balanced_subsample, rf__max_depth=5, rf__max_samples=2000, rf__n_estimators=50\n",
      "[CV 2/5; 32/54] END rf__class_weight=balanced_subsample, rf__max_depth=5, rf__max_samples=2000, rf__n_estimators=50;, score=0.590 total time=  12.8s\n",
      "[CV 3/5; 32/54] START rf__class_weight=balanced_subsample, rf__max_depth=5, rf__max_samples=2000, rf__n_estimators=50\n",
      "[CV 3/5; 32/54] END rf__class_weight=balanced_subsample, rf__max_depth=5, rf__max_samples=2000, rf__n_estimators=50;, score=0.591 total time=  12.6s\n",
      "[CV 4/5; 32/54] START rf__class_weight=balanced_subsample, rf__max_depth=5, rf__max_samples=2000, rf__n_estimators=50\n",
      "[CV 4/5; 32/54] END rf__class_weight=balanced_subsample, rf__max_depth=5, rf__max_samples=2000, rf__n_estimators=50;, score=0.595 total time=  12.6s\n",
      "[CV 5/5; 32/54] START rf__class_weight=balanced_subsample, rf__max_depth=5, rf__max_samples=2000, rf__n_estimators=50\n",
      "[CV 5/5; 32/54] END rf__class_weight=balanced_subsample, rf__max_depth=5, rf__max_samples=2000, rf__n_estimators=50;, score=0.594 total time=  12.7s\n",
      "[CV 1/5; 33/54] START rf__class_weight=balanced_subsample, rf__max_depth=5, rf__max_samples=2000, rf__n_estimators=100\n",
      "[CV 1/5; 33/54] END rf__class_weight=balanced_subsample, rf__max_depth=5, rf__max_samples=2000, rf__n_estimators=100;, score=0.590 total time=  20.3s\n",
      "[CV 2/5; 33/54] START rf__class_weight=balanced_subsample, rf__max_depth=5, rf__max_samples=2000, rf__n_estimators=100\n",
      "[CV 2/5; 33/54] END rf__class_weight=balanced_subsample, rf__max_depth=5, rf__max_samples=2000, rf__n_estimators=100;, score=0.595 total time=  20.6s\n",
      "[CV 3/5; 33/54] START rf__class_weight=balanced_subsample, rf__max_depth=5, rf__max_samples=2000, rf__n_estimators=100\n",
      "[CV 3/5; 33/54] END rf__class_weight=balanced_subsample, rf__max_depth=5, rf__max_samples=2000, rf__n_estimators=100;, score=0.594 total time=  20.7s\n",
      "[CV 4/5; 33/54] START rf__class_weight=balanced_subsample, rf__max_depth=5, rf__max_samples=2000, rf__n_estimators=100\n",
      "[CV 4/5; 33/54] END rf__class_weight=balanced_subsample, rf__max_depth=5, rf__max_samples=2000, rf__n_estimators=100;, score=0.596 total time=  20.4s\n",
      "[CV 5/5; 33/54] START rf__class_weight=balanced_subsample, rf__max_depth=5, rf__max_samples=2000, rf__n_estimators=100\n"
     ]
    },
    {
     "name": "stdout",
     "output_type": "stream",
     "text": [
      "[CV 5/5; 33/54] END rf__class_weight=balanced_subsample, rf__max_depth=5, rf__max_samples=2000, rf__n_estimators=100;, score=0.596 total time=  20.7s\n",
      "[CV 1/5; 34/54] START rf__class_weight=balanced_subsample, rf__max_depth=5, rf__max_samples=5000, rf__n_estimators=10\n",
      "[CV 1/5; 34/54] END rf__class_weight=balanced_subsample, rf__max_depth=5, rf__max_samples=5000, rf__n_estimators=10;, score=0.593 total time=   6.7s\n",
      "[CV 2/5; 34/54] START rf__class_weight=balanced_subsample, rf__max_depth=5, rf__max_samples=5000, rf__n_estimators=10\n",
      "[CV 2/5; 34/54] END rf__class_weight=balanced_subsample, rf__max_depth=5, rf__max_samples=5000, rf__n_estimators=10;, score=0.595 total time=   6.8s\n",
      "[CV 3/5; 34/54] START rf__class_weight=balanced_subsample, rf__max_depth=5, rf__max_samples=5000, rf__n_estimators=10\n",
      "[CV 3/5; 34/54] END rf__class_weight=balanced_subsample, rf__max_depth=5, rf__max_samples=5000, rf__n_estimators=10;, score=0.588 total time=   6.6s\n",
      "[CV 4/5; 34/54] START rf__class_weight=balanced_subsample, rf__max_depth=5, rf__max_samples=5000, rf__n_estimators=10\n",
      "[CV 4/5; 34/54] END rf__class_weight=balanced_subsample, rf__max_depth=5, rf__max_samples=5000, rf__n_estimators=10;, score=0.590 total time=   6.5s\n",
      "[CV 5/5; 34/54] START rf__class_weight=balanced_subsample, rf__max_depth=5, rf__max_samples=5000, rf__n_estimators=10\n",
      "[CV 5/5; 34/54] END rf__class_weight=balanced_subsample, rf__max_depth=5, rf__max_samples=5000, rf__n_estimators=10;, score=0.589 total time=   6.7s\n",
      "[CV 1/5; 35/54] START rf__class_weight=balanced_subsample, rf__max_depth=5, rf__max_samples=5000, rf__n_estimators=50\n",
      "[CV 1/5; 35/54] END rf__class_weight=balanced_subsample, rf__max_depth=5, rf__max_samples=5000, rf__n_estimators=50;, score=0.592 total time=  13.2s\n",
      "[CV 2/5; 35/54] START rf__class_weight=balanced_subsample, rf__max_depth=5, rf__max_samples=5000, rf__n_estimators=50\n",
      "[CV 2/5; 35/54] END rf__class_weight=balanced_subsample, rf__max_depth=5, rf__max_samples=5000, rf__n_estimators=50;, score=0.589 total time=  13.2s\n",
      "[CV 3/5; 35/54] START rf__class_weight=balanced_subsample, rf__max_depth=5, rf__max_samples=5000, rf__n_estimators=50\n",
      "[CV 3/5; 35/54] END rf__class_weight=balanced_subsample, rf__max_depth=5, rf__max_samples=5000, rf__n_estimators=50;, score=0.589 total time=  13.0s\n",
      "[CV 4/5; 35/54] START rf__class_weight=balanced_subsample, rf__max_depth=5, rf__max_samples=5000, rf__n_estimators=50\n",
      "[CV 4/5; 35/54] END rf__class_weight=balanced_subsample, rf__max_depth=5, rf__max_samples=5000, rf__n_estimators=50;, score=0.596 total time=  13.1s\n",
      "[CV 5/5; 35/54] START rf__class_weight=balanced_subsample, rf__max_depth=5, rf__max_samples=5000, rf__n_estimators=50\n",
      "[CV 5/5; 35/54] END rf__class_weight=balanced_subsample, rf__max_depth=5, rf__max_samples=5000, rf__n_estimators=50;, score=0.596 total time=  13.2s\n",
      "[CV 1/5; 36/54] START rf__class_weight=balanced_subsample, rf__max_depth=5, rf__max_samples=5000, rf__n_estimators=100\n",
      "[CV 1/5; 36/54] END rf__class_weight=balanced_subsample, rf__max_depth=5, rf__max_samples=5000, rf__n_estimators=100;, score=0.594 total time=  21.2s\n",
      "[CV 2/5; 36/54] START rf__class_weight=balanced_subsample, rf__max_depth=5, rf__max_samples=5000, rf__n_estimators=100\n",
      "[CV 2/5; 36/54] END rf__class_weight=balanced_subsample, rf__max_depth=5, rf__max_samples=5000, rf__n_estimators=100;, score=0.599 total time=  21.5s\n",
      "[CV 3/5; 36/54] START rf__class_weight=balanced_subsample, rf__max_depth=5, rf__max_samples=5000, rf__n_estimators=100\n",
      "[CV 3/5; 36/54] END rf__class_weight=balanced_subsample, rf__max_depth=5, rf__max_samples=5000, rf__n_estimators=100;, score=0.595 total time=  21.1s\n",
      "[CV 4/5; 36/54] START rf__class_weight=balanced_subsample, rf__max_depth=5, rf__max_samples=5000, rf__n_estimators=100\n",
      "[CV 4/5; 36/54] END rf__class_weight=balanced_subsample, rf__max_depth=5, rf__max_samples=5000, rf__n_estimators=100;, score=0.598 total time=  21.4s\n",
      "[CV 5/5; 36/54] START rf__class_weight=balanced_subsample, rf__max_depth=5, rf__max_samples=5000, rf__n_estimators=100\n",
      "[CV 5/5; 36/54] END rf__class_weight=balanced_subsample, rf__max_depth=5, rf__max_samples=5000, rf__n_estimators=100;, score=0.600 total time=  21.5s\n",
      "[CV 1/5; 37/54] START rf__class_weight=balanced_subsample, rf__max_depth=10, rf__max_samples=1000, rf__n_estimators=10\n",
      "[CV 1/5; 37/54] END rf__class_weight=balanced_subsample, rf__max_depth=10, rf__max_samples=1000, rf__n_estimators=10;, score=0.577 total time=   6.8s\n",
      "[CV 2/5; 37/54] START rf__class_weight=balanced_subsample, rf__max_depth=10, rf__max_samples=1000, rf__n_estimators=10\n",
      "[CV 2/5; 37/54] END rf__class_weight=balanced_subsample, rf__max_depth=10, rf__max_samples=1000, rf__n_estimators=10;, score=0.581 total time=   6.8s\n",
      "[CV 3/5; 37/54] START rf__class_weight=balanced_subsample, rf__max_depth=10, rf__max_samples=1000, rf__n_estimators=10\n",
      "[CV 3/5; 37/54] END rf__class_weight=balanced_subsample, rf__max_depth=10, rf__max_samples=1000, rf__n_estimators=10;, score=0.576 total time=   6.8s\n",
      "[CV 4/5; 37/54] START rf__class_weight=balanced_subsample, rf__max_depth=10, rf__max_samples=1000, rf__n_estimators=10\n",
      "[CV 4/5; 37/54] END rf__class_weight=balanced_subsample, rf__max_depth=10, rf__max_samples=1000, rf__n_estimators=10;, score=0.579 total time=   6.8s\n",
      "[CV 5/5; 37/54] START rf__class_weight=balanced_subsample, rf__max_depth=10, rf__max_samples=1000, rf__n_estimators=10\n",
      "[CV 5/5; 37/54] END rf__class_weight=balanced_subsample, rf__max_depth=10, rf__max_samples=1000, rf__n_estimators=10;, score=0.580 total time=   6.7s\n",
      "[CV 1/5; 38/54] START rf__class_weight=balanced_subsample, rf__max_depth=10, rf__max_samples=1000, rf__n_estimators=50\n",
      "[CV 1/5; 38/54] END rf__class_weight=balanced_subsample, rf__max_depth=10, rf__max_samples=1000, rf__n_estimators=50;, score=0.586 total time=  13.8s\n",
      "[CV 2/5; 38/54] START rf__class_weight=balanced_subsample, rf__max_depth=10, rf__max_samples=1000, rf__n_estimators=50\n",
      "[CV 2/5; 38/54] END rf__class_weight=balanced_subsample, rf__max_depth=10, rf__max_samples=1000, rf__n_estimators=50;, score=0.587 total time=  14.0s\n",
      "[CV 3/5; 38/54] START rf__class_weight=balanced_subsample, rf__max_depth=10, rf__max_samples=1000, rf__n_estimators=50\n",
      "[CV 3/5; 38/54] END rf__class_weight=balanced_subsample, rf__max_depth=10, rf__max_samples=1000, rf__n_estimators=50;, score=0.587 total time=  13.8s\n",
      "[CV 4/5; 38/54] START rf__class_weight=balanced_subsample, rf__max_depth=10, rf__max_samples=1000, rf__n_estimators=50\n",
      "[CV 4/5; 38/54] END rf__class_weight=balanced_subsample, rf__max_depth=10, rf__max_samples=1000, rf__n_estimators=50;, score=0.587 total time=  13.9s\n",
      "[CV 5/5; 38/54] START rf__class_weight=balanced_subsample, rf__max_depth=10, rf__max_samples=1000, rf__n_estimators=50\n",
      "[CV 5/5; 38/54] END rf__class_weight=balanced_subsample, rf__max_depth=10, rf__max_samples=1000, rf__n_estimators=50;, score=0.592 total time=  14.0s\n",
      "[CV 1/5; 39/54] START rf__class_weight=balanced_subsample, rf__max_depth=10, rf__max_samples=1000, rf__n_estimators=100\n",
      "[CV 1/5; 39/54] END rf__class_weight=balanced_subsample, rf__max_depth=10, rf__max_samples=1000, rf__n_estimators=100;, score=0.586 total time=  22.7s\n",
      "[CV 2/5; 39/54] START rf__class_weight=balanced_subsample, rf__max_depth=10, rf__max_samples=1000, rf__n_estimators=100\n",
      "[CV 2/5; 39/54] END rf__class_weight=balanced_subsample, rf__max_depth=10, rf__max_samples=1000, rf__n_estimators=100;, score=0.590 total time=  22.9s\n",
      "[CV 3/5; 39/54] START rf__class_weight=balanced_subsample, rf__max_depth=10, rf__max_samples=1000, rf__n_estimators=100\n",
      "[CV 3/5; 39/54] END rf__class_weight=balanced_subsample, rf__max_depth=10, rf__max_samples=1000, rf__n_estimators=100;, score=0.587 total time=  22.7s\n",
      "[CV 4/5; 39/54] START rf__class_weight=balanced_subsample, rf__max_depth=10, rf__max_samples=1000, rf__n_estimators=100\n",
      "[CV 4/5; 39/54] END rf__class_weight=balanced_subsample, rf__max_depth=10, rf__max_samples=1000, rf__n_estimators=100;, score=0.588 total time=  22.7s\n",
      "[CV 5/5; 39/54] START rf__class_weight=balanced_subsample, rf__max_depth=10, rf__max_samples=1000, rf__n_estimators=100\n",
      "[CV 5/5; 39/54] END rf__class_weight=balanced_subsample, rf__max_depth=10, rf__max_samples=1000, rf__n_estimators=100;, score=0.594 total time=  22.9s\n",
      "[CV 1/5; 40/54] START rf__class_weight=balanced_subsample, rf__max_depth=10, rf__max_samples=2000, rf__n_estimators=10\n"
     ]
    },
    {
     "name": "stdout",
     "output_type": "stream",
     "text": [
      "[CV 1/5; 40/54] END rf__class_weight=balanced_subsample, rf__max_depth=10, rf__max_samples=2000, rf__n_estimators=10;, score=0.587 total time=   6.9s\n",
      "[CV 2/5; 40/54] START rf__class_weight=balanced_subsample, rf__max_depth=10, rf__max_samples=2000, rf__n_estimators=10\n",
      "[CV 2/5; 40/54] END rf__class_weight=balanced_subsample, rf__max_depth=10, rf__max_samples=2000, rf__n_estimators=10;, score=0.590 total time=   7.0s\n",
      "[CV 3/5; 40/54] START rf__class_weight=balanced_subsample, rf__max_depth=10, rf__max_samples=2000, rf__n_estimators=10\n",
      "[CV 3/5; 40/54] END rf__class_weight=balanced_subsample, rf__max_depth=10, rf__max_samples=2000, rf__n_estimators=10;, score=0.593 total time=   7.0s\n",
      "[CV 4/5; 40/54] START rf__class_weight=balanced_subsample, rf__max_depth=10, rf__max_samples=2000, rf__n_estimators=10\n",
      "[CV 4/5; 40/54] END rf__class_weight=balanced_subsample, rf__max_depth=10, rf__max_samples=2000, rf__n_estimators=10;, score=0.588 total time=   6.9s\n",
      "[CV 5/5; 40/54] START rf__class_weight=balanced_subsample, rf__max_depth=10, rf__max_samples=2000, rf__n_estimators=10\n",
      "[CV 5/5; 40/54] END rf__class_weight=balanced_subsample, rf__max_depth=10, rf__max_samples=2000, rf__n_estimators=10;, score=0.590 total time=   7.0s\n",
      "[CV 1/5; 41/54] START rf__class_weight=balanced_subsample, rf__max_depth=10, rf__max_samples=2000, rf__n_estimators=50\n",
      "[CV 1/5; 41/54] END rf__class_weight=balanced_subsample, rf__max_depth=10, rf__max_samples=2000, rf__n_estimators=50;, score=0.592 total time=  14.8s\n",
      "[CV 2/5; 41/54] START rf__class_weight=balanced_subsample, rf__max_depth=10, rf__max_samples=2000, rf__n_estimators=50\n",
      "[CV 2/5; 41/54] END rf__class_weight=balanced_subsample, rf__max_depth=10, rf__max_samples=2000, rf__n_estimators=50;, score=0.597 total time=  14.9s\n",
      "[CV 3/5; 41/54] START rf__class_weight=balanced_subsample, rf__max_depth=10, rf__max_samples=2000, rf__n_estimators=50\n",
      "[CV 3/5; 41/54] END rf__class_weight=balanced_subsample, rf__max_depth=10, rf__max_samples=2000, rf__n_estimators=50;, score=0.595 total time=  14.8s\n",
      "[CV 4/5; 41/54] START rf__class_weight=balanced_subsample, rf__max_depth=10, rf__max_samples=2000, rf__n_estimators=50\n",
      "[CV 4/5; 41/54] END rf__class_weight=balanced_subsample, rf__max_depth=10, rf__max_samples=2000, rf__n_estimators=50;, score=0.596 total time=  14.8s\n",
      "[CV 5/5; 41/54] START rf__class_weight=balanced_subsample, rf__max_depth=10, rf__max_samples=2000, rf__n_estimators=50\n",
      "[CV 5/5; 41/54] END rf__class_weight=balanced_subsample, rf__max_depth=10, rf__max_samples=2000, rf__n_estimators=50;, score=0.597 total time=  14.9s\n",
      "[CV 1/5; 42/54] START rf__class_weight=balanced_subsample, rf__max_depth=10, rf__max_samples=2000, rf__n_estimators=100\n",
      "[CV 1/5; 42/54] END rf__class_weight=balanced_subsample, rf__max_depth=10, rf__max_samples=2000, rf__n_estimators=100;, score=0.596 total time=  24.5s\n",
      "[CV 2/5; 42/54] START rf__class_weight=balanced_subsample, rf__max_depth=10, rf__max_samples=2000, rf__n_estimators=100\n",
      "[CV 2/5; 42/54] END rf__class_weight=balanced_subsample, rf__max_depth=10, rf__max_samples=2000, rf__n_estimators=100;, score=0.599 total time=  24.5s\n",
      "[CV 3/5; 42/54] START rf__class_weight=balanced_subsample, rf__max_depth=10, rf__max_samples=2000, rf__n_estimators=100\n",
      "[CV 3/5; 42/54] END rf__class_weight=balanced_subsample, rf__max_depth=10, rf__max_samples=2000, rf__n_estimators=100;, score=0.596 total time=  24.7s\n",
      "[CV 4/5; 42/54] START rf__class_weight=balanced_subsample, rf__max_depth=10, rf__max_samples=2000, rf__n_estimators=100\n",
      "[CV 4/5; 42/54] END rf__class_weight=balanced_subsample, rf__max_depth=10, rf__max_samples=2000, rf__n_estimators=100;, score=0.598 total time=  24.5s\n",
      "[CV 5/5; 42/54] START rf__class_weight=balanced_subsample, rf__max_depth=10, rf__max_samples=2000, rf__n_estimators=100\n",
      "[CV 5/5; 42/54] END rf__class_weight=balanced_subsample, rf__max_depth=10, rf__max_samples=2000, rf__n_estimators=100;, score=0.597 total time=  24.7s\n",
      "[CV 1/5; 43/54] START rf__class_weight=balanced_subsample, rf__max_depth=10, rf__max_samples=5000, rf__n_estimators=10\n",
      "[CV 1/5; 43/54] END rf__class_weight=balanced_subsample, rf__max_depth=10, rf__max_samples=5000, rf__n_estimators=10;, score=0.595 total time=   7.3s\n",
      "[CV 2/5; 43/54] START rf__class_weight=balanced_subsample, rf__max_depth=10, rf__max_samples=5000, rf__n_estimators=10\n",
      "[CV 2/5; 43/54] END rf__class_weight=balanced_subsample, rf__max_depth=10, rf__max_samples=5000, rf__n_estimators=10;, score=0.596 total time=   7.3s\n",
      "[CV 3/5; 43/54] START rf__class_weight=balanced_subsample, rf__max_depth=10, rf__max_samples=5000, rf__n_estimators=10\n",
      "[CV 3/5; 43/54] END rf__class_weight=balanced_subsample, rf__max_depth=10, rf__max_samples=5000, rf__n_estimators=10;, score=0.595 total time=   7.4s\n",
      "[CV 4/5; 43/54] START rf__class_weight=balanced_subsample, rf__max_depth=10, rf__max_samples=5000, rf__n_estimators=10\n",
      "[CV 4/5; 43/54] END rf__class_weight=balanced_subsample, rf__max_depth=10, rf__max_samples=5000, rf__n_estimators=10;, score=0.595 total time=   7.2s\n",
      "[CV 5/5; 43/54] START rf__class_weight=balanced_subsample, rf__max_depth=10, rf__max_samples=5000, rf__n_estimators=10\n",
      "[CV 5/5; 43/54] END rf__class_weight=balanced_subsample, rf__max_depth=10, rf__max_samples=5000, rf__n_estimators=10;, score=0.596 total time=   7.3s\n",
      "[CV 1/5; 44/54] START rf__class_weight=balanced_subsample, rf__max_depth=10, rf__max_samples=5000, rf__n_estimators=50\n",
      "[CV 1/5; 44/54] END rf__class_weight=balanced_subsample, rf__max_depth=10, rf__max_samples=5000, rf__n_estimators=50;, score=0.599 total time=  16.5s\n",
      "[CV 2/5; 44/54] START rf__class_weight=balanced_subsample, rf__max_depth=10, rf__max_samples=5000, rf__n_estimators=50\n",
      "[CV 2/5; 44/54] END rf__class_weight=balanced_subsample, rf__max_depth=10, rf__max_samples=5000, rf__n_estimators=50;, score=0.601 total time=  16.5s\n",
      "[CV 3/5; 44/54] START rf__class_weight=balanced_subsample, rf__max_depth=10, rf__max_samples=5000, rf__n_estimators=50\n",
      "[CV 3/5; 44/54] END rf__class_weight=balanced_subsample, rf__max_depth=10, rf__max_samples=5000, rf__n_estimators=50;, score=0.600 total time=  16.1s\n",
      "[CV 4/5; 44/54] START rf__class_weight=balanced_subsample, rf__max_depth=10, rf__max_samples=5000, rf__n_estimators=50\n",
      "[CV 4/5; 44/54] END rf__class_weight=balanced_subsample, rf__max_depth=10, rf__max_samples=5000, rf__n_estimators=50;, score=0.599 total time=  16.5s\n",
      "[CV 5/5; 44/54] START rf__class_weight=balanced_subsample, rf__max_depth=10, rf__max_samples=5000, rf__n_estimators=50\n",
      "[CV 5/5; 44/54] END rf__class_weight=balanced_subsample, rf__max_depth=10, rf__max_samples=5000, rf__n_estimators=50;, score=0.603 total time=  16.9s\n",
      "[CV 1/5; 45/54] START rf__class_weight=balanced_subsample, rf__max_depth=10, rf__max_samples=5000, rf__n_estimators=100\n",
      "[CV 1/5; 45/54] END rf__class_weight=balanced_subsample, rf__max_depth=10, rf__max_samples=5000, rf__n_estimators=100;, score=0.600 total time=  28.8s\n",
      "[CV 2/5; 45/54] START rf__class_weight=balanced_subsample, rf__max_depth=10, rf__max_samples=5000, rf__n_estimators=100\n",
      "[CV 2/5; 45/54] END rf__class_weight=balanced_subsample, rf__max_depth=10, rf__max_samples=5000, rf__n_estimators=100;, score=0.603 total time=  29.6s\n",
      "[CV 3/5; 45/54] START rf__class_weight=balanced_subsample, rf__max_depth=10, rf__max_samples=5000, rf__n_estimators=100\n",
      "[CV 3/5; 45/54] END rf__class_weight=balanced_subsample, rf__max_depth=10, rf__max_samples=5000, rf__n_estimators=100;, score=0.602 total time=  29.2s\n",
      "[CV 4/5; 45/54] START rf__class_weight=balanced_subsample, rf__max_depth=10, rf__max_samples=5000, rf__n_estimators=100\n",
      "[CV 4/5; 45/54] END rf__class_weight=balanced_subsample, rf__max_depth=10, rf__max_samples=5000, rf__n_estimators=100;, score=0.600 total time=  28.3s\n",
      "[CV 5/5; 45/54] START rf__class_weight=balanced_subsample, rf__max_depth=10, rf__max_samples=5000, rf__n_estimators=100\n",
      "[CV 5/5; 45/54] END rf__class_weight=balanced_subsample, rf__max_depth=10, rf__max_samples=5000, rf__n_estimators=100;, score=0.604 total time=  29.6s\n",
      "[CV 1/5; 46/54] START rf__class_weight=balanced_subsample, rf__max_depth=15, rf__max_samples=1000, rf__n_estimators=10\n",
      "[CV 1/5; 46/54] END rf__class_weight=balanced_subsample, rf__max_depth=15, rf__max_samples=1000, rf__n_estimators=10;, score=0.574 total time=   7.3s\n",
      "[CV 2/5; 46/54] START rf__class_weight=balanced_subsample, rf__max_depth=15, rf__max_samples=1000, rf__n_estimators=10\n"
     ]
    },
    {
     "name": "stdout",
     "output_type": "stream",
     "text": [
      "[CV 2/5; 46/54] END rf__class_weight=balanced_subsample, rf__max_depth=15, rf__max_samples=1000, rf__n_estimators=10;, score=0.572 total time=   7.3s\n",
      "[CV 3/5; 46/54] START rf__class_weight=balanced_subsample, rf__max_depth=15, rf__max_samples=1000, rf__n_estimators=10\n",
      "[CV 3/5; 46/54] END rf__class_weight=balanced_subsample, rf__max_depth=15, rf__max_samples=1000, rf__n_estimators=10;, score=0.571 total time=   7.2s\n",
      "[CV 4/5; 46/54] START rf__class_weight=balanced_subsample, rf__max_depth=15, rf__max_samples=1000, rf__n_estimators=10\n",
      "[CV 4/5; 46/54] END rf__class_weight=balanced_subsample, rf__max_depth=15, rf__max_samples=1000, rf__n_estimators=10;, score=0.572 total time=   7.2s\n",
      "[CV 5/5; 46/54] START rf__class_weight=balanced_subsample, rf__max_depth=15, rf__max_samples=1000, rf__n_estimators=10\n",
      "[CV 5/5; 46/54] END rf__class_weight=balanced_subsample, rf__max_depth=15, rf__max_samples=1000, rf__n_estimators=10;, score=0.573 total time=   7.2s\n",
      "[CV 1/5; 47/54] START rf__class_weight=balanced_subsample, rf__max_depth=15, rf__max_samples=1000, rf__n_estimators=50\n",
      "[CV 1/5; 47/54] END rf__class_weight=balanced_subsample, rf__max_depth=15, rf__max_samples=1000, rf__n_estimators=50;, score=0.576 total time=  16.6s\n",
      "[CV 2/5; 47/54] START rf__class_weight=balanced_subsample, rf__max_depth=15, rf__max_samples=1000, rf__n_estimators=50\n",
      "[CV 2/5; 47/54] END rf__class_weight=balanced_subsample, rf__max_depth=15, rf__max_samples=1000, rf__n_estimators=50;, score=0.577 total time=  16.8s\n",
      "[CV 3/5; 47/54] START rf__class_weight=balanced_subsample, rf__max_depth=15, rf__max_samples=1000, rf__n_estimators=50\n",
      "[CV 3/5; 47/54] END rf__class_weight=balanced_subsample, rf__max_depth=15, rf__max_samples=1000, rf__n_estimators=50;, score=0.576 total time=  16.3s\n",
      "[CV 4/5; 47/54] START rf__class_weight=balanced_subsample, rf__max_depth=15, rf__max_samples=1000, rf__n_estimators=50\n",
      "[CV 4/5; 47/54] END rf__class_weight=balanced_subsample, rf__max_depth=15, rf__max_samples=1000, rf__n_estimators=50;, score=0.576 total time=  16.1s\n",
      "[CV 5/5; 47/54] START rf__class_weight=balanced_subsample, rf__max_depth=15, rf__max_samples=1000, rf__n_estimators=50\n",
      "[CV 5/5; 47/54] END rf__class_weight=balanced_subsample, rf__max_depth=15, rf__max_samples=1000, rf__n_estimators=50;, score=0.579 total time=  16.9s\n",
      "[CV 1/5; 48/54] START rf__class_weight=balanced_subsample, rf__max_depth=15, rf__max_samples=1000, rf__n_estimators=100\n",
      "[CV 1/5; 48/54] END rf__class_weight=balanced_subsample, rf__max_depth=15, rf__max_samples=1000, rf__n_estimators=100;, score=0.574 total time=  26.9s\n",
      "[CV 2/5; 48/54] START rf__class_weight=balanced_subsample, rf__max_depth=15, rf__max_samples=1000, rf__n_estimators=100\n",
      "[CV 2/5; 48/54] END rf__class_weight=balanced_subsample, rf__max_depth=15, rf__max_samples=1000, rf__n_estimators=100;, score=0.576 total time=  27.8s\n",
      "[CV 3/5; 48/54] START rf__class_weight=balanced_subsample, rf__max_depth=15, rf__max_samples=1000, rf__n_estimators=100\n",
      "[CV 3/5; 48/54] END rf__class_weight=balanced_subsample, rf__max_depth=15, rf__max_samples=1000, rf__n_estimators=100;, score=0.578 total time=  27.2s\n",
      "[CV 4/5; 48/54] START rf__class_weight=balanced_subsample, rf__max_depth=15, rf__max_samples=1000, rf__n_estimators=100\n",
      "[CV 4/5; 48/54] END rf__class_weight=balanced_subsample, rf__max_depth=15, rf__max_samples=1000, rf__n_estimators=100;, score=0.576 total time=  27.1s\n",
      "[CV 5/5; 48/54] START rf__class_weight=balanced_subsample, rf__max_depth=15, rf__max_samples=1000, rf__n_estimators=100\n",
      "[CV 5/5; 48/54] END rf__class_weight=balanced_subsample, rf__max_depth=15, rf__max_samples=1000, rf__n_estimators=100;, score=0.578 total time=  26.9s\n",
      "[CV 1/5; 49/54] START rf__class_weight=balanced_subsample, rf__max_depth=15, rf__max_samples=2000, rf__n_estimators=10\n",
      "[CV 1/5; 49/54] END rf__class_weight=balanced_subsample, rf__max_depth=15, rf__max_samples=2000, rf__n_estimators=10;, score=0.581 total time=   7.7s\n",
      "[CV 2/5; 49/54] START rf__class_weight=balanced_subsample, rf__max_depth=15, rf__max_samples=2000, rf__n_estimators=10\n",
      "[CV 2/5; 49/54] END rf__class_weight=balanced_subsample, rf__max_depth=15, rf__max_samples=2000, rf__n_estimators=10;, score=0.581 total time=   7.8s\n",
      "[CV 3/5; 49/54] START rf__class_weight=balanced_subsample, rf__max_depth=15, rf__max_samples=2000, rf__n_estimators=10\n",
      "[CV 3/5; 49/54] END rf__class_weight=balanced_subsample, rf__max_depth=15, rf__max_samples=2000, rf__n_estimators=10;, score=0.585 total time=   7.7s\n",
      "[CV 4/5; 49/54] START rf__class_weight=balanced_subsample, rf__max_depth=15, rf__max_samples=2000, rf__n_estimators=10\n",
      "[CV 4/5; 49/54] END rf__class_weight=balanced_subsample, rf__max_depth=15, rf__max_samples=2000, rf__n_estimators=10;, score=0.582 total time=   7.7s\n",
      "[CV 5/5; 49/54] START rf__class_weight=balanced_subsample, rf__max_depth=15, rf__max_samples=2000, rf__n_estimators=10\n",
      "[CV 5/5; 49/54] END rf__class_weight=balanced_subsample, rf__max_depth=15, rf__max_samples=2000, rf__n_estimators=10;, score=0.583 total time=   7.7s\n",
      "[CV 1/5; 50/54] START rf__class_weight=balanced_subsample, rf__max_depth=15, rf__max_samples=2000, rf__n_estimators=50\n",
      "[CV 1/5; 50/54] END rf__class_weight=balanced_subsample, rf__max_depth=15, rf__max_samples=2000, rf__n_estimators=50;, score=0.585 total time=  18.7s\n",
      "[CV 2/5; 50/54] START rf__class_weight=balanced_subsample, rf__max_depth=15, rf__max_samples=2000, rf__n_estimators=50\n",
      "[CV 2/5; 50/54] END rf__class_weight=balanced_subsample, rf__max_depth=15, rf__max_samples=2000, rf__n_estimators=50;, score=0.588 total time=  18.8s\n",
      "[CV 3/5; 50/54] START rf__class_weight=balanced_subsample, rf__max_depth=15, rf__max_samples=2000, rf__n_estimators=50\n",
      "[CV 3/5; 50/54] END rf__class_weight=balanced_subsample, rf__max_depth=15, rf__max_samples=2000, rf__n_estimators=50;, score=0.586 total time=  18.2s\n",
      "[CV 4/5; 50/54] START rf__class_weight=balanced_subsample, rf__max_depth=15, rf__max_samples=2000, rf__n_estimators=50\n",
      "[CV 4/5; 50/54] END rf__class_weight=balanced_subsample, rf__max_depth=15, rf__max_samples=2000, rf__n_estimators=50;, score=0.588 total time=  18.1s\n",
      "[CV 5/5; 50/54] START rf__class_weight=balanced_subsample, rf__max_depth=15, rf__max_samples=2000, rf__n_estimators=50\n",
      "[CV 5/5; 50/54] END rf__class_weight=balanced_subsample, rf__max_depth=15, rf__max_samples=2000, rf__n_estimators=50;, score=0.587 total time=  18.1s\n",
      "[CV 1/5; 51/54] START rf__class_weight=balanced_subsample, rf__max_depth=15, rf__max_samples=2000, rf__n_estimators=100\n",
      "[CV 1/5; 51/54] END rf__class_weight=balanced_subsample, rf__max_depth=15, rf__max_samples=2000, rf__n_estimators=100;, score=0.585 total time=  30.9s\n",
      "[CV 2/5; 51/54] START rf__class_weight=balanced_subsample, rf__max_depth=15, rf__max_samples=2000, rf__n_estimators=100\n",
      "[CV 2/5; 51/54] END rf__class_weight=balanced_subsample, rf__max_depth=15, rf__max_samples=2000, rf__n_estimators=100;, score=0.589 total time=  31.2s\n",
      "[CV 3/5; 51/54] START rf__class_weight=balanced_subsample, rf__max_depth=15, rf__max_samples=2000, rf__n_estimators=100\n",
      "[CV 3/5; 51/54] END rf__class_weight=balanced_subsample, rf__max_depth=15, rf__max_samples=2000, rf__n_estimators=100;, score=0.583 total time=  30.8s\n",
      "[CV 4/5; 51/54] START rf__class_weight=balanced_subsample, rf__max_depth=15, rf__max_samples=2000, rf__n_estimators=100\n",
      "[CV 4/5; 51/54] END rf__class_weight=balanced_subsample, rf__max_depth=15, rf__max_samples=2000, rf__n_estimators=100;, score=0.586 total time=  30.7s\n",
      "[CV 5/5; 51/54] START rf__class_weight=balanced_subsample, rf__max_depth=15, rf__max_samples=2000, rf__n_estimators=100\n",
      "[CV 5/5; 51/54] END rf__class_weight=balanced_subsample, rf__max_depth=15, rf__max_samples=2000, rf__n_estimators=100;, score=0.590 total time=  30.9s\n",
      "[CV 1/5; 52/54] START rf__class_weight=balanced_subsample, rf__max_depth=15, rf__max_samples=5000, rf__n_estimators=10\n",
      "[CV 1/5; 52/54] END rf__class_weight=balanced_subsample, rf__max_depth=15, rf__max_samples=5000, rf__n_estimators=10;, score=0.586 total time=   8.4s\n",
      "[CV 2/5; 52/54] START rf__class_weight=balanced_subsample, rf__max_depth=15, rf__max_samples=5000, rf__n_estimators=10\n",
      "[CV 2/5; 52/54] END rf__class_weight=balanced_subsample, rf__max_depth=15, rf__max_samples=5000, rf__n_estimators=10;, score=0.589 total time=   8.4s\n",
      "[CV 3/5; 52/54] START rf__class_weight=balanced_subsample, rf__max_depth=15, rf__max_samples=5000, rf__n_estimators=10\n"
     ]
    },
    {
     "name": "stdout",
     "output_type": "stream",
     "text": [
      "[CV 3/5; 52/54] END rf__class_weight=balanced_subsample, rf__max_depth=15, rf__max_samples=5000, rf__n_estimators=10;, score=0.591 total time=   8.2s\n",
      "[CV 4/5; 52/54] START rf__class_weight=balanced_subsample, rf__max_depth=15, rf__max_samples=5000, rf__n_estimators=10\n",
      "[CV 4/5; 52/54] END rf__class_weight=balanced_subsample, rf__max_depth=15, rf__max_samples=5000, rf__n_estimators=10;, score=0.590 total time=   8.5s\n",
      "[CV 5/5; 52/54] START rf__class_weight=balanced_subsample, rf__max_depth=15, rf__max_samples=5000, rf__n_estimators=10\n",
      "[CV 5/5; 52/54] END rf__class_weight=balanced_subsample, rf__max_depth=15, rf__max_samples=5000, rf__n_estimators=10;, score=0.594 total time=   8.6s\n",
      "[CV 1/5; 53/54] START rf__class_weight=balanced_subsample, rf__max_depth=15, rf__max_samples=5000, rf__n_estimators=50\n",
      "[CV 1/5; 53/54] END rf__class_weight=balanced_subsample, rf__max_depth=15, rf__max_samples=5000, rf__n_estimators=50;, score=0.596 total time=  22.2s\n",
      "[CV 2/5; 53/54] START rf__class_weight=balanced_subsample, rf__max_depth=15, rf__max_samples=5000, rf__n_estimators=50\n",
      "[CV 2/5; 53/54] END rf__class_weight=balanced_subsample, rf__max_depth=15, rf__max_samples=5000, rf__n_estimators=50;, score=0.598 total time=  23.7s\n",
      "[CV 3/5; 53/54] START rf__class_weight=balanced_subsample, rf__max_depth=15, rf__max_samples=5000, rf__n_estimators=50\n",
      "[CV 3/5; 53/54] END rf__class_weight=balanced_subsample, rf__max_depth=15, rf__max_samples=5000, rf__n_estimators=50;, score=0.595 total time=  22.7s\n",
      "[CV 4/5; 53/54] START rf__class_weight=balanced_subsample, rf__max_depth=15, rf__max_samples=5000, rf__n_estimators=50\n",
      "[CV 4/5; 53/54] END rf__class_weight=balanced_subsample, rf__max_depth=15, rf__max_samples=5000, rf__n_estimators=50;, score=0.598 total time=  22.9s\n",
      "[CV 5/5; 53/54] START rf__class_weight=balanced_subsample, rf__max_depth=15, rf__max_samples=5000, rf__n_estimators=50\n",
      "[CV 5/5; 53/54] END rf__class_weight=balanced_subsample, rf__max_depth=15, rf__max_samples=5000, rf__n_estimators=50;, score=0.600 total time=  22.0s\n",
      "[CV 1/5; 54/54] START rf__class_weight=balanced_subsample, rf__max_depth=15, rf__max_samples=5000, rf__n_estimators=100\n",
      "[CV 1/5; 54/54] END rf__class_weight=balanced_subsample, rf__max_depth=15, rf__max_samples=5000, rf__n_estimators=100;, score=0.597 total time=  39.0s\n",
      "[CV 2/5; 54/54] START rf__class_weight=balanced_subsample, rf__max_depth=15, rf__max_samples=5000, rf__n_estimators=100\n",
      "[CV 2/5; 54/54] END rf__class_weight=balanced_subsample, rf__max_depth=15, rf__max_samples=5000, rf__n_estimators=100;, score=0.600 total time=  39.4s\n",
      "[CV 3/5; 54/54] START rf__class_weight=balanced_subsample, rf__max_depth=15, rf__max_samples=5000, rf__n_estimators=100\n",
      "[CV 3/5; 54/54] END rf__class_weight=balanced_subsample, rf__max_depth=15, rf__max_samples=5000, rf__n_estimators=100;, score=0.597 total time=  38.7s\n",
      "[CV 4/5; 54/54] START rf__class_weight=balanced_subsample, rf__max_depth=15, rf__max_samples=5000, rf__n_estimators=100\n",
      "[CV 4/5; 54/54] END rf__class_weight=balanced_subsample, rf__max_depth=15, rf__max_samples=5000, rf__n_estimators=100;, score=0.598 total time=  41.3s\n",
      "[CV 5/5; 54/54] START rf__class_weight=balanced_subsample, rf__max_depth=15, rf__max_samples=5000, rf__n_estimators=100\n",
      "[CV 5/5; 54/54] END rf__class_weight=balanced_subsample, rf__max_depth=15, rf__max_samples=5000, rf__n_estimators=100;, score=0.601 total time=  43.1s\n",
      "Pipeline(steps=[('processing',\n",
      "                 ColumnTransformer(transformers=[('proc_numeric',\n",
      "                                                  Pipeline(steps=[('impute_missing_n',\n",
      "                                                                   SimpleImputer(strategy='median')),\n",
      "                                                                  ('standardize_num',\n",
      "                                                                   StandardScaler())]),\n",
      "                                                  ['SPEED_LIMIT']),\n",
      "                                                 ('create_dummies',\n",
      "                                                  Pipeline(steps=[('impute_missing_c',\n",
      "                                                                   SimpleImputer(strategy='most_frequent')),\n",
      "                                                                  ('create_dummies_cats',\n",
      "                                                                   OneHotEncoder(drop='first',\n",
      "                                                                                 handle_unknown='ignore'))]),\n",
      "                                                  ['HARM_EVENT_DESC',\n",
      "                                                   'MOVEMENT_DESC',\n",
      "                                                   'BODY_TYPE_DESC',\n",
      "                                                   'PARKED_FLAG_DESC',\n",
      "                                                   'HIT_AND_RUN_FLAG_DESC',\n",
      "                                                   'TOWED_VEHICLE_CONFIG_DESC',\n",
      "                                                   'AREA_DAMAGED_CODE_MAIN_DESC'])])),\n",
      "                ('rf',\n",
      "                 RandomForestClassifier(class_weight='balanced_subsample',\n",
      "                                        max_depth=10, max_samples=5000))])\n",
      "\n",
      "\n",
      "Validation score: 60.18%\n",
      "Test score: 60.02%\n",
      "--- 1:12:58.798797 seconds ---\n"
     ]
    }
   ],
   "source": [
    "st = datetime.datetime.now()\n",
    "rf_p = Pipeline([('processing', processing_pipeline),\n",
    "             ('rf', RandomForestClassifier())])\n",
    "param_grid_rf = [{'rf__max_depth': [5, 10, 15],\n",
    "               'rf__n_estimators': [10, 50, 100],\n",
    "               'rf__class_weight': ['balanced', 'balanced_subsample'],\n",
    "               'rf__max_samples': [1000, 2000, 5000]\n",
    "              }]\n",
    "gcv_rf = GridSearchCV(estimator=rf_p, param_grid=param_grid_rf, scoring='recall_macro', refit=True, verbose=10)\n",
    "gcv_rf = gcv_rf.fit(X_train, y_train)\n",
    "print(gcv_rf.best_estimator_)\n",
    "print(\"\\n\")\n",
    "print(f'Validation score: {gcv_rf.best_score_:.2%}')\n",
    "print(f'Test score: {gcv_rf.score(X_test, y_test):.2%}')\n",
    "print(\"--- %s seconds ---\" % (datetime.datetime.now() - st))"
   ]
  },
  {
   "cell_type": "markdown",
   "id": "714197cb",
   "metadata": {},
   "source": [
    "We are using the following parameters to get the classification report."
   ]
  },
  {
   "cell_type": "code",
   "execution_count": 24,
   "id": "ac36a467",
   "metadata": {},
   "outputs": [
    {
     "name": "stdout",
     "output_type": "stream",
     "text": [
      "                precision    recall  f1-score   support\n",
      "\n",
      "    Functional       0.38      0.55      0.45     80600\n",
      "Not Functional       0.79      0.65      0.71    207162\n",
      "\n",
      "      accuracy                           0.62    287762\n",
      "     macro avg       0.58      0.60      0.58    287762\n",
      "  weighted avg       0.67      0.62      0.64    287762\n",
      "\n"
     ]
    }
   ],
   "source": [
    "ypred_rf = Pipeline([('processing_pipeline', processing_pipeline),('rf', RandomForestClassifier(max_depth=10, class_weight='balanced', max_samples=5000))])\n",
    "ypred_rf = gcv_rf.predict(X_test)\n",
    "print(classification_report(y_test, ypred_rf))"
   ]
  },
  {
   "cell_type": "markdown",
   "id": "1c94d24f",
   "metadata": {},
   "source": [
    "We can see that we have got an macro avg of 58% for precision and a recall of 60%. Logistic regression, Gradient Boosting Classifier and Random Forrest show nearly same precision and recall values. Let us check the ROC curve."
   ]
  },
  {
   "cell_type": "code",
   "execution_count": 25,
   "id": "e618de72",
   "metadata": {},
   "outputs": [
    {
     "data": {
      "image/png": "[encoded data removed]",
      "text/plain": [
       "<Figure size 432x288 with 1 Axes>"
      ]
     },
     "metadata": {
      "needs_background": "light"
     },
     "output_type": "display_data"
    }
   ],
   "source": [
    "y_testprobability = gcv_rf.predict_proba(X_test)\n",
    "y_trainprobability = gcv_rf.predict_proba(X_train)\n",
    "\n",
    "def roc(y, prob):\n",
    "    fpr, tpr, _ = roc_curve(y, prob, pos_label='Not Functional')\n",
    "    return fpr, tpr\n",
    "fpr_test, tpr_test = roc(y_test, y_testprobability[:,1])\n",
    "fpr_train, tpr_train = roc(y_train, y_trainprobability[:,1])\n",
    "auc = roc_auc_score(y_test, y_testprobability[:,1], multi_class = 'ovr')\n",
    "plt.plot(fpr_test, tpr_test,'-r')\n",
    "plt.plot(fpr_train, tpr_train,'-b')\n",
    "plt.xlabel('False Positive Rate')\n",
    "plt.ylabel('True Positive Rate')\n",
    "plt.title('ROC curve, AUC = %.2f'%auc)\n",
    "plt.legend(['Test','Training'])\n",
    "plt.plot([0, 1], [0, 1], color='navy', linestyle='--')\n",
    "plt.show()"
   ]
  },
  {
   "cell_type": "markdown",
   "id": "94f64433",
   "metadata": {},
   "source": [
    "#### Observations.\n",
    "\n",
    "    By using Random Forrest we got a macro avg of 58% for precision and 60% recall.\n",
    "    When it comes damage, Not Functional has high precision with 80% and recall of 61%.\n",
    "    For Damage resulting in functional, it has a precision of 37% and recall of 60%.\n",
    "    The ROC Curve has an AUC of 0.65, same as the Logistic Regression and not much difference from Gradient Boosting."
   ]
  },
  {
   "cell_type": "markdown",
   "id": "ba1c1b77",
   "metadata": {},
   "source": [
    "### Conclusion"
   ]
  },
  {
   "cell_type": "markdown",
   "id": "4504daf6",
   "metadata": {},
   "source": [
    "##### Report of Gradient Boosting"
   ]
  },
  {
   "cell_type": "code",
   "execution_count": 29,
   "id": "79510bab",
   "metadata": {},
   "outputs": [
    {
     "name": "stdout",
     "output_type": "stream",
     "text": [
      "                precision    recall  f1-score   support\n",
      "\n",
      "    Functional       0.34      0.66      0.45     80600\n",
      "Not Functional       0.79      0.51      0.62    207162\n",
      "\n",
      "      accuracy                           0.55    287762\n",
      "     macro avg       0.57      0.58      0.53    287762\n",
      "  weighted avg       0.67      0.55      0.57    287762\n",
      "\n"
     ]
    },
    {
     "data": {
      "image/png": "[encoded data removed]",
      "text/plain": [
       "<Figure size 432x288 with 1 Axes>"
      ]
     },
     "metadata": {
      "needs_background": "light"
     },
     "output_type": "display_data"
    }
   ],
   "source": [
    "gb_model = Pipeline([('processing_pipeline', processing_pipeline),('model', GradientBoostingClassifier(n_estimators=300))])\n",
    "gb_model.fit(X_train,y_train)\n",
    "gb_predict = gb_model.predict(X_test)\n",
    "print(classification_report(y_test, decision_predict))\n",
    "##### ROC Curve Gradient Boosting#####\n",
    "y_testprobability = gb_model.predict_proba(X_test)\n",
    "y_trainprobability = gb_model.predict_proba(X_train)\n",
    "\n",
    "def roc(y, prob):\n",
    "    fpr, tpr, _ = roc_curve(y, prob, pos_label='Not Functional')\n",
    "    return fpr, tpr\n",
    "fpr_test, tpr_test = roc(y_test, y_testprobability[:,1])\n",
    "fpr_train, tpr_train = roc(y_train, y_trainprobability[:,1])\n",
    "auc = roc_auc_score(y_test, y_testprobability[:,1], multi_class = 'ovr')\n",
    "plt.plot(fpr_test, tpr_test,'-r')\n",
    "plt.plot(fpr_train, tpr_train,'-b')\n",
    "plt.xlabel('False Positive Rate')\n",
    "plt.ylabel('True Positive Rate')\n",
    "plt.title('ROC curve, AUC = %.2f'%auc)\n",
    "plt.legend(['Test','Training'])\n",
    "plt.plot([0, 1], [0, 1], color='navy', linestyle='--')\n",
    "plt.show()"
   ]
  },
  {
   "cell_type": "markdown",
   "id": "d8400d54",
   "metadata": {},
   "source": [
    "##### Report of Logistic Regression"
   ]
  },
  {
   "cell_type": "code",
   "execution_count": 31,
   "id": "d54907f8",
   "metadata": {},
   "outputs": [
    {
     "name": "stdout",
     "output_type": "stream",
     "text": [
      "                precision    recall  f1-score   support\n",
      "\n",
      "    Functional       0.37      0.60      0.46     80600\n",
      "Not Functional       0.79      0.60      0.69    207162\n",
      "\n",
      "      accuracy                           0.60    287762\n",
      "     macro avg       0.58      0.60      0.57    287762\n",
      "  weighted avg       0.67      0.60      0.62    287762\n",
      "\n"
     ]
    },
    {
     "data": {
      "image/png": "[encoded data removed]",
      "text/plain": [
       "<Figure size 432x288 with 1 Axes>"
      ]
     },
     "metadata": {
      "needs_background": "light"
     },
     "output_type": "display_data"
    }
   ],
   "source": [
    "logistic_model = Pipeline([('processing_pipeline', processing_pipeline),('model', LogisticRegression(C=500, class_weight='balanced', solver='liblinear'))])\n",
    "logistic_model.fit(X_train,y_train)\n",
    "logistic_predict = logistic_model.predict(X_test)\n",
    "print(classification_report(y_test, logistic_predict))\n",
    "\n",
    "##### ROC Curve Logistic Regression#####\n",
    "y_testprobability = logistic_model.predict_proba(X_test)\n",
    "y_trainprobability = logistic_model.predict_proba(X_train)\n",
    "\n",
    "def roc(y, prob):\n",
    "    fpr, tpr, _ = roc_curve(y, prob, pos_label='Not Functional')\n",
    "    return fpr, tpr\n",
    "fpr_test, tpr_test = roc(y_test, y_testprobability[:,1])\n",
    "fpr_train, tpr_train = roc(y_train, y_trainprobability[:,1])\n",
    "auc = roc_auc_score(y_test, y_testprobability[:,1], multi_class = 'ovr')\n",
    "plt.plot(fpr_test, tpr_test,'-r')\n",
    "plt.plot(fpr_train, tpr_train,'-b')\n",
    "plt.xlabel('False Positive Rate')\n",
    "plt.ylabel('True Positive Rate')\n",
    "plt.title('ROC curve, AUC = %.2f'%auc)\n",
    "plt.legend(['Test','Training'])\n",
    "plt.plot([0, 1], [0, 1], color='navy', linestyle='--')\n",
    "plt.show()"
   ]
  },
  {
   "cell_type": "markdown",
   "id": "0db1bfde",
   "metadata": {},
   "source": [
    "    From above other than Decision Tree, Random Forrest, Gradient Boosting  and Logistic Regression have shown better precision and recall values.\n",
    "    The ROC curve was better for Gradient Boosting with 0.67 AUC and Random Forrest and Logistic Regression at 0.65 AUC.\n",
    "    Random Forest has taken more time compared to Logistic Regression and Gradient Boosting.\n",
    "    Logistic Regression and Gradient Boosting Models are preferred over Random Forrest and Decision Tree."
   ]
  },
  {
   "cell_type": "markdown",
   "id": "729eaffe",
   "metadata": {},
   "source": [
    "##### Improvements or Advancements to the Project."
   ]
  },
  {
   "cell_type": "markdown",
   "id": "132e1fc7",
   "metadata": {},
   "source": [
    "    1. Collecting more Data will always be advantageous.\n",
    "    2. We have used many hyper parameters for Random Forrest it has taken time but has given good results. Same can be done to rest of the models to acheive better validation scores, accuracy and recall values. More and different hyperparameters can be used to Tune the model\n",
    "    3. We can combine these 3 to 4 weak models in creating a new models using Bagging or Boosting. This could result us in a better model with good ROC curve, Validation and Classification reports."
   ]
  },
  {
   "cell_type": "code",
   "execution_count": null,
   "id": "ffd9d428",
   "metadata": {},
   "outputs": [],
   "source": []
  }
 ],
 "metadata": {
  "kernelspec": {
   "display_name": "Python 3 (ipykernel)",
   "language": "python",
   "name": "python3"
  },
  "language_info": {
   "codemirror_mode": {
    "name": "ipython",
    "version": 3
   },
   "file_extension": ".py",
   "mimetype": "text/x-python",
   "name": "python",
   "nbconvert_exporter": "python",
   "pygments_lexer": "ipython3",
   "version": "3.9.7"
  }
 },
 "nbformat": 4,
 "nbformat_minor": 5
}
